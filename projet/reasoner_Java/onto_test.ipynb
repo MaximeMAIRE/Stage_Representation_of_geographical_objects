{
 "cells": [
  {
   "cell_type": "code",
   "execution_count": null,
   "metadata": {},
   "outputs": [],
   "source": [
    "import pandas as pd\n",
    "import skimage\n",
    "import numpy as np\n",
    "# import json\n",
    "df = pd.read_json(\"../../Zone_2000.json\")"
   ]
  },
  {
   "cell_type": "code",
   "execution_count": null,
   "metadata": {},
   "outputs": [],
   "source": [
    "import xml.etree.ElementTree as ET\n",
    "\n",
    "tree = ET.parse(\"fodomust_clusturing.xml\")\n",
    "root = tree.getroot()"
   ]
  },
  {
   "cell_type": "code",
   "execution_count": null,
   "metadata": {},
   "outputs": [],
   "source": [
    "x = np.array([0])"
   ]
  },
  {
   "cell_type": "code",
   "execution_count": null,
   "metadata": {},
   "outputs": [],
   "source": [
    "type(x)"
   ]
  },
  {
   "cell_type": "code",
   "execution_count": null,
   "metadata": {},
   "outputs": [],
   "source": [
    "tab_test = []\n",
    "tab = []\n",
    "nb_cluster = 0\n",
    "h = 1\n",
    "for i in root:\n",
    "    if (i.tag == 'classes'):\n",
    "        for j in i:\n",
    "            print(j.tag, j.attrib)\n",
    "            nb_cluster = nb_cluster +1\n",
    "    elif (i.tag == 'values'):\n",
    "        for k in range(len(i)) :\n",
    "            tab_test.append(i[k].text)\n",
    "            if((k+1) % 140 == 0) :\n",
    "                tab.append(tab_test)\n",
    "                tab_test = []"
   ]
  },
  {
   "cell_type": "code",
   "execution_count": null,
   "metadata": {},
   "outputs": [],
   "source": [
    "tab = np.array(tab)"
   ]
  },
  {
   "cell_type": "code",
   "execution_count": null,
   "metadata": {},
   "outputs": [],
   "source": [
    "labels, num = skimage.measure.label(tab, background=-1, return_num= True, connectivity=2)\n",
    "#labels[x][y] contient un entier représentant le numéros de l'objet.\n",
    "labels[0][7]"
   ]
  },
  {
   "cell_type": "code",
   "execution_count": null,
   "metadata": {},
   "outputs": [],
   "source": [
    "labels[0][1]"
   ]
  },
  {
   "cell_type": "code",
   "execution_count": null,
   "metadata": {},
   "outputs": [],
   "source": [
    "regions = skimage.measure.regionprops(labels)\n"
   ]
  },
  {
   "cell_type": "code",
   "execution_count": null,
   "metadata": {},
   "outputs": [],
   "source": [
    "for i in regions:\n",
    "    print(i.label,\"\\n\", i.coords,\"\\n\")"
   ]
  },
  {
   "cell_type": "code",
   "execution_count": null,
   "metadata": {},
   "outputs": [],
   "source": [
    "len(regions)"
   ]
  },
  {
   "cell_type": "code",
   "execution_count": null,
   "metadata": {},
   "outputs": [],
   "source": [
    "for i in regions:\n",
    "    for j in i.coords:\n",
    "        print(j[0])"
   ]
  },
  {
   "cell_type": "code",
   "execution_count": null,
   "metadata": {},
   "outputs": [],
   "source": [
    "def classes(tab, nb_cluster):\n",
    "    tab_cluster = []\n",
    "    for i in range(nb_cluster):\n",
    "        tab_cluster.append([])\n",
    "    for i in range(len(tab)):\n",
    "        for j in range(len(tab[i])):\n",
    "            tab_cluster[int(tab[i][j])].append((i,j))\n",
    "    \n",
    "    return tab_cluster\n"
   ]
  },
  {
   "cell_type": "code",
   "execution_count": null,
   "metadata": {},
   "outputs": [],
   "source": [
    "def voisin(tab1,tab2):\n",
    "    if (abs(tab1[0] - tab2[0]) <=1 ) & (abs(tab1[1] - tab2[1]) <=1 ):\n",
    "        return True\n",
    "    else:\n",
    "        return False"
   ]
  },
  {
   "cell_type": "code",
   "execution_count": null,
   "metadata": {},
   "outputs": [],
   "source": [
    "print(voisin([0,0],[0,2]))\n",
    "print(voisin([0,0],[1,0]))\n",
    "print(voisin([0,0],[1,1]))"
   ]
  },
  {
   "cell_type": "markdown",
   "metadata": {},
   "source": [
    "## A FINIR PLUS TARD !"
   ]
  },
  {
   "cell_type": "code",
   "execution_count": null,
   "metadata": {},
   "outputs": [],
   "source": [
    "def cluster_to_object(tab_cluster):\n",
    "    tab_object = []\n",
    "    for i in range(len(tab_cluster)):\n",
    "        exec = 0\n",
    "        obj_1 = [i,[tab_cluster[i][0]]]\n",
    "        for j in range(1, len(tab_cluster[i]), 1):\n",
    "            print(\"i j :\",i,j,voisin([i,0],tab_cluster[i][j]))"
   ]
  },
  {
   "cell_type": "code",
   "execution_count": null,
   "metadata": {},
   "outputs": [],
   "source": [
    "# xo = [[0,0,1,2,2],[0,0,2,1,2],[2,1,1,2,2],[0,0,1,2,1]]\n",
    "# print(classes(xo, 3))\n",
    "# cluster_to_object(classes(xo, 3))"
   ]
  },
  {
   "cell_type": "code",
   "execution_count": null,
   "metadata": {},
   "outputs": [],
   "source": [
    "from owlready2 import *\n",
    "import os\n",
    "onto = get_ontology(\"http://test.org/onto_herelles.owl\")\n",
    "\n",
    "### Image Module\n",
    "class Image(Thing):\n",
    "    namespace=onto\n",
    "class Elements(Thing):\n",
    "    namespace=onto\n",
    "class Pixel(Elements):\n",
    "    pass\n",
    "class Object_Geo(Elements):\n",
    "    pass\n",
    "\n",
    "### Evolution Module\n",
    "class Evolution_Process(Thing):\n",
    "    namespace=onto\n",
    "class Pixel_Evolution_Process(Evolution_Process):\n",
    "    pass\n",
    "class ObjGeo_Evolution_Process(Evolution_Process):\n",
    "    pass\n",
    "\n",
    "### Temporal Module\n",
    "class Valid_Time(Thing):\n",
    "    namespace=onto\n",
    "class Valid_Instant(Valid_Time):\n",
    "    pass\n",
    "class Valid_Interval(Valid_Time):\n",
    "    pass\n",
    "\n",
    "### Herelles Module\n",
    "class State_Geo(Thing):\n",
    "    namespace=onto\n",
    "\n",
    "class Surface_artificialisee(State_Geo):\n",
    "    pass\n",
    "class Vegetation_urbaine(Surface_artificialisee):\n",
    "    pass\n",
    "class Arbre_urbain(Vegetation_urbaine):\n",
    "    pass\n",
    "class Pelouse(Vegetation_urbaine):\n",
    "    pass\n",
    "class Jardin(Vegetation_urbaine):\n",
    "    pass\n",
    "class Parc(Vegetation_urbaine):\n",
    "    pass\n",
    "class Alignement_darbres_urbain(Vegetation_urbaine):\n",
    "    pass\n",
    "class Ensemble_darbres_urbain(Vegetation_urbaine):\n",
    "    pass\n",
    "class Bati(Surface_artificialisee):\n",
    "    pass\n",
    "class Bati_residentiel(Bati):\n",
    "    pass\n",
    "class TU_discontinu(Bati_residentiel):\n",
    "    pass\n",
    "class TU_discontinu_collectif(TU_discontinu):\n",
    "    pass\n",
    "class TU_discontinu_individuel(TU_discontinu):\n",
    "    pass\n",
    "class TU_continu(Bati_residentiel):\n",
    "    pass\n",
    "class TU_continu_collectif(TU_continu):\n",
    "    pass\n",
    "class TU_continu_individuel(TU_continu):\n",
    "    pass\n",
    "class Bati_activite(Bati):\n",
    "    pass\n",
    "class Zone_industrielle_commerciale_ou_tertiaire(Bati_activite):\n",
    "    pass\n",
    "class Bâtiment_rural(Bati_activite):\n",
    "    pass\n",
    "class Serre(Bati_activite):\n",
    "    pass\n",
    "class Autre_Bati(Bati):\n",
    "    pass\n",
    "class Infrastructure_de_transport(Surface_artificialisee):\n",
    "    pass\n",
    "class Voies_de_communication(Infrastructure_de_transport):\n",
    "    pass\n",
    "class Route(Voies_de_communication):\n",
    "    pass\n",
    "class Chemin(Voies_de_communication):\n",
    "    pass\n",
    "class Chemin_de_fer(Voies_de_communication):\n",
    "    pass\n",
    "class Route_Grande_Vitesse(Voies_de_communication):\n",
    "    pass\n",
    "class Autre_Route(Voies_de_communication):\n",
    "    pass\n",
    "class Equipement_transports(Infrastructure_de_transport):\n",
    "    pass\n",
    "class Parking(Equipement_transports):\n",
    "    pass\n",
    "class Zone_aeroportuaire(Equipement_transports):\n",
    "    pass\n",
    "class Ilot_de_circulation(Equipement_transports):\n",
    "    pass\n",
    "class Carrefour(Equipement_transports):\n",
    "    pass\n",
    "class Pont(Equipement_transports):\n",
    "    pass\n",
    "class Echangeur(Equipement_transports):\n",
    "    pass\n",
    "class Autre_artificialisation(Surface_artificialisee):\n",
    "    pass\n",
    "class Cimetiere(Autre_artificialisation):\n",
    "    pass\n",
    "class Place(Autre_artificialisation):\n",
    "    pass\n",
    "class Terrain_vacant(Autre_artificialisation):\n",
    "    pass\n",
    "class Terrain_de_Sport(Autre_artificialisation):\n",
    "    pass\n",
    "class Piscine_exterieure(Autre_artificialisation):\n",
    "    pass\n",
    "class Zone_sportif_loisir(Autre_artificialisation):\n",
    "    pass\n",
    "class Zone_dextraction(Autre_artificialisation):\n",
    "    pass\n",
    "\n",
    "class Eau(State_Geo):\n",
    "    pass\n",
    "class Surface_en_eau_artificielle(Eau):\n",
    "    pass\n",
    "class Canal(Surface_en_eau_artificielle):\n",
    "    pass\n",
    "class Bassin_artificiel(Surface_en_eau_artificielle):\n",
    "    pass\n",
    "class Surface_en_eau_naturelle(Eau):\n",
    "    pass\n",
    "class Etendue_deau(Surface_en_eau_naturelle):\n",
    "    pass\n",
    "class Cours_deau(Surface_en_eau_naturelle):\n",
    "    pass\n",
    "\n",
    "class Espaces_agricoles(State_Geo):\n",
    "    pass\n",
    "class Parcelle_agricole(Espaces_agricoles):\n",
    "    pass\n",
    "class Vigne(Parcelle_agricole):\n",
    "    pass\n",
    "class Autres_cultures(Parcelle_agricole):\n",
    "    pass\n",
    "class Surface_herbeuse_agricole(Parcelle_agricole):\n",
    "    pass\n",
    "class Element_boise_agricole(Espaces_agricoles):\n",
    "    pass\n",
    "class Groupe_darbres_agricole_sylviculture(Element_boise_agricole):\n",
    "    pass\n",
    "class Alignement_darbres_agricole(Element_boise_agricole):\n",
    "    pass\n",
    "class Verger(Element_boise_agricole):\n",
    "    pass\n",
    "class Autre_vegetation_agricole(Espaces_agricoles):\n",
    "    pass\n",
    "class Haie(Autre_vegetation_agricole):\n",
    "    pass\n",
    "\n",
    "class Espaces_forestiers_et_naturels(State_Geo):\n",
    "    pass\n",
    "class Foret(Espaces_forestiers_et_naturels):\n",
    "    pass\n",
    "class Espace_libre_naturel(Espaces_forestiers_et_naturels):\n",
    "    pass\n",
    "class Sable(Espace_libre_naturel):\n",
    "    pass\n",
    "class Zones_humides(Espaces_forestiers_et_naturels):\n",
    "    pass\n",
    "class Vegetation_autre(Espaces_forestiers_et_naturels):\n",
    "    pass\n",
    "class Surface_herbeuse_naturelle(Vegetation_autre):\n",
    "    pass\n",
    "\n",
    "### Object properties\n",
    "class composed_by(ObjectProperty, InverseFunctionalProperty, IrreflexiveProperty):\n",
    "    namespace=onto\n",
    "    domain    = [Image]\n",
    "    range     = [Elements]\n",
    "class has_pixels(ObjectProperty, InverseFunctionalProperty, IrreflexiveProperty):\n",
    "    namespace=onto\n",
    "    domain    = [Object_Geo]\n",
    "    range     = [Pixel]\n",
    "class has_state(ObjectProperty, IrreflexiveProperty):\n",
    "    namespace=onto\n",
    "    domain    = [Elements]\n",
    "    range     = [State_Geo]\n",
    "class is_involved(ObjectProperty):\n",
    "    namespace=onto\n",
    "    domain    = [Elements]\n",
    "    range     = [Evolution_Process]\n",
    "class has_duration(ObjectProperty):\n",
    "    namespace=onto\n",
    "    domain    = [Evolution_Process]\n",
    "    range     = [Valid_Time]\n",
    "class has_time(ObjectProperty, FunctionalProperty, IrreflexiveProperty):\n",
    "    namespace=onto\n",
    "    domain    = [State_Geo]\n",
    "    range     = [Valid_Time]\n",
    "\n",
    "### ajout de la classe Zone :\n",
    "class Zone(Elements):\n",
    "    namespace=onto\n",
    "\n",
    "class ZoneEau(Zone):\n",
    "    pass\n",
    "\n",
    "class ZoneEA(Zone):\n",
    "    pass\n",
    "\n",
    "class ZoneArticle1(Zone):\n",
    "    pass\n",
    "\n",
    "class Zone_Z2(Zone):\n",
    "    pass\n",
    "\n",
    "class ZoneSA(Zone):\n",
    "    pass\n",
    "\n",
    "# ajout de relation pour cette derniere :\n",
    "class has_rules(ObjectProperty, InverseFunctionalProperty, IrreflexiveProperty):\n",
    "    namespace=onto\n",
    "    domain    = [Image]\n",
    "    range     = [Zone]\n",
    "\n",
    "class z_has_pixels (ObjectProperty, IrreflexiveProperty):\n",
    "    namespace=onto\n",
    "    domain    = [Zone]\n",
    "    range     = [Pixel]\n",
    "\n",
    "class Candidate_Final_State(ObjectProperty, IrreflexiveProperty):\n",
    "    namespace=onto\n",
    "    domain    = [Elements]\n",
    "    range     = [State_Geo]\n",
    "\n",
    "class is_in(ObjectProperty, IrreflexiveProperty):\n",
    "    namespace=onto\n",
    "    domain    = [Object_Geo]\n",
    "    range     = [Zone]\n",
    "\n",
    "class contains_object(ObjectProperty,  IrreflexiveProperty):\n",
    "    namespace=onto\n",
    "    domain    = [Zone]\n",
    "    range     = [Object_Geo]\n",
    "    inverse_property = is_in\n",
    "\n",
    "class is_pixel_of_zone(ObjectProperty, IrreflexiveProperty):\n",
    "    namespace=onto\n",
    "    domain    = [Pixel]\n",
    "    range     = [Zone]\n",
    "    inverse_property = z_has_pixels\n",
    "\n",
    "class is_pixel_of(ObjectProperty, FunctionalProperty, IrreflexiveProperty):\n",
    "    namespace=onto\n",
    "    domain    = [Pixel]\n",
    "    range     = [Object_Geo]\n",
    "    inverse_property = has_pixels\n",
    "\n",
    "\n",
    "class hasPostitionX(DataProperty):\n",
    "    namespace=onto\n",
    "    domain = [Pixel]\n",
    "    range= [int]\n",
    "\n",
    "class hasPostitionY(DataProperty):\n",
    "    namespace=onto\n",
    "    domain    = [Pixel]\n",
    "    range     = [int]\n",
    "\n",
    "class hasValueClust(DataProperty):\n",
    "    namespace=onto\n",
    "    domain    = [Pixel]\n",
    "    range     = [int]\n",
    "\n",
    "class is_Neighbor_Of(ObjectProperty, SymmetricProperty):\n",
    "    namespace=onto\n",
    "    domaine   = [Object_Geo]\n",
    "    range     = [Object_Geo]\n",
    "\n",
    "### Obstacle :\n",
    "class Obstacle(Thing):\n",
    "    namespace = onto\n",
    "\n",
    "class Ecoulement_des_crues(Obstacle):\n",
    "    pass\n",
    "\n",
    "class Remblais(Obstacle):\n",
    "    pass\n",
    "\n",
    "class createSome(ObjectProperty, IrreflexiveProperty):\n",
    "    namespace=onto\n",
    "    domain    = [State_Geo]\n",
    "    range     = [Obstacle]\n",
    "\n",
    "\n",
    "'''\n",
    "### Extractions des données et insertion dans l'ontologie\n",
    "'''\n",
    "Bati_indu = Zone_industrielle_commerciale_ou_tertiaire(\"bati_industrielle\")\n",
    "jardin = Jardin(\"jardin_1\")\n",
    "\n",
    "k = 0\n",
    "k2 = 0\n",
    "tab_obj = []\n",
    "for i in regions:\n",
    "    print(i)\n",
    "    px_tab = []\n",
    "    for j in i.coords:\n",
    "        str_pixel = \"Px_\" + str(k)\n",
    "        x = int(j[0])\n",
    "        y = int(j[1])\n",
    "        val = tab[x][y]\n",
    "        px = Pixel(str_pixel, hasPostitionX = [x], hasPostitionY = [y], hasValueClust = [int(val)])\n",
    "        px_tab.append(px)\n",
    "        k = k+1\n",
    "    str_obj = \"obj_\" + str(k2)\n",
    "    obj1 = Object_Geo(str_obj, has_pixels = px_tab, Candidate_Final_State = [jardin])\n",
    "    tab_obj.append(obj1)\n",
    "    k2 = k2+1\n",
    "\n",
    "z1 = ZoneArticle1(\"zone_1\", contains_object = tab_obj)\n",
    "\n",
    "img_1 = Image(\"Img\", composed_by = tab_obj)\n",
    "img_2 = Image(\"Img2\", has_rules= [z1])\n",
    "\n",
    "'''\n",
    "### Exemple_1: 2 Objets appartiennent a 1 seul Zone ## Quelques problemes avec les concepts Remblais et Crue\n",
    "'''\n",
    "# ### Valid_time :\n",
    "# t1 = Valid_Time(\"t1\")\n",
    "# remblais1 = Remblais(\"remblais1\")\n",
    "# crues1 = Ecoulement_des_crues(\"crues1\")\n",
    "\n",
    "# ### State_geo : (Jardin et Vigne)\n",
    "# jardin = Jardin(\"jardin_1\", has_time = t1, createSome = [remblais1])\n",
    "# eau = Eau(\"eau_1\", has_time = t1)\n",
    "# Bati_indu = Zone_industrielle_commerciale_ou_tertiaire(\"bati_industrielle\", has_time = t1)\n",
    "# EA = Espaces_agricoles(\"EA_1\", has_time = t1)\n",
    "\n",
    "# ### Object_geo with his pixel :\n",
    "# px1 = Pixel(\"Px_1\", has_state = [Bati_indu])\n",
    "# px2 = Pixel(\"Px_2\", has_state = [EA])\n",
    "\n",
    "# #L'un OU l'autre :\n",
    "# obj1 = Object_Geo(\"obj_1\", has_pixels = [px1], has_state = [eau], Candidate_Final_State = [jardin]) #createSome = [remblais1]\n",
    "# obj2 = Object_Geo(\"obj_2\", has_pixels = [px2], has_state = [Bati_indu], Candidate_Final_State = [jardin]) #createSome = [crues1]\n",
    "# # obj1 = Object_Geo(\"obj_1\", has_pixels = [px1], has_state = [Bati_indu], Candidate_Final_State = [Bati_indu])\n",
    "# # obj2 = Object_Geo(\"obj_2\", has_pixels = [px2], has_state = [EA], Candidate_Final_State = [Bati_indu])\n",
    "\n",
    "# ### Zone :\n",
    "# z1 = ZoneArticle1(\"zone_1\", z_has_pixels = [px1], contains_object = [obj1])\n",
    "# z2 = Zone_Z2(\"zone_2\", z_has_pixels = [px2], contains_object = [obj2])\n",
    "\n",
    "# ### Image creation :\n",
    "# img_1 = Image(\"Img\", composed_by = [obj1, obj2])\n",
    "# img_2 = Image(\"Img2\", has_rules= [z1,z2])\n",
    "\n",
    "'''\n",
    "### Exemple_2: 1 Objet appartient a 2 Zones différentes\n",
    "# Dans l'exemple ci dessous : \n",
    "# - si on change la Candidate_Final_State de l'objet en \"Bati_indu\" -> inconsistance (car z1 = zonearticle)\n",
    "# - si on change la Candidate_Final_State de l'objet en \"eau\" -> inconsistance (car (z2 = Zone Candidate_Final_State a Espace_Agricole))\n",
    "'''\n",
    "# t1 = Valid_Time(\"t1\")\n",
    "# Bati_indu = Zone_industrielle_commerciale_ou_tertiaire(\"bati_industrielle\", has_time = t1)\n",
    "# bati_act = Bati_activite(\"bati_act\", has_time = t1)\n",
    "# EA = Espaces_agricoles(\"EA_1\", has_time = t1)\n",
    "# EA2 = Espaces_agricoles(\"EA_2\", has_time = t1)\n",
    "\n",
    "# # Pixel\n",
    "# px1 = Pixel(\"Px_1\", has_state = [Bati_indu])\n",
    "# px2 = Pixel(\"Px_2\", has_state = [Bati_indu])\n",
    "\n",
    "# # Object\n",
    "# obj1 = Object_Geo(\"obj_1\", has_pixels = [px1,px2], has_state = [Bati_indu], Candidate_Final_State = [Bati_indu])\n",
    "\n",
    "# ### Zone\n",
    "# z1 = ZoneArticle1(\"zone_1\", z_has_pixels = [px1], contains_object = [obj1])\n",
    "# z2 = ZoneEA(\"zone_2\", z_has_pixels = [px2], Candidate_Final_State = [EA], contains_object = [obj1])\n",
    "# # z1 = ZoneArticle1(\"zone_1\", z_has_pixels = [px1])\n",
    "# # z2 = ZoneEA(\"zone_2\", z_has_pixels = [px2], Candidate_Final_State = [EA])\n",
    "\n",
    "# ### Image creation :\n",
    "# img_1 = Image(\"Img\", composed_by = [obj1])\n",
    "# img_2 = Image(\"Img2\", has_rules= [z1,z2])\n",
    "\n",
    "'''\n",
    "### Exemple_3: 2 objects, chacun dans 2 zones : \n",
    "\n",
    "# Dans l'exemple ci-dessous : si on change la Candidate_Final_State de n'importe lequel des 2 objects, alors nous avons une inconsistance :\n",
    "# - si on change Candidate_Final_State en bati_indu -> inconsistance \n",
    "# - si on change Candidate_Final_State en \"eau\" -> inconsistance\n",
    "# - D'ailleurs EA fonctionne car 1 Zone interdit les bati_indu mais pas les EA, et l'autre Oblige d'avor des EA.\n",
    "'''\n",
    "# t1 = Valid_Time(\"t1\")\n",
    "# t2 = Valid_Time(\"t2\")\n",
    "# jardin = Jardin(\"jardin_1\", has_time = t1)\n",
    "# eau = Eau(\"eau_1\", has_time = t1)\n",
    "# Bati_indu1 = Zone_industrielle_commerciale_ou_tertiaire(\"bati_industrielle1\", has_time = t1)\n",
    "# Bati_indu2 = Zone_industrielle_commerciale_ou_tertiaire(\"bati_industrielle2\", has_time = t2)\n",
    "# EA = Espaces_agricoles(\"EA_1\", has_time = t1)\n",
    "# SA_1 = Surface_artificialisee(\"SA_1\", has_time = t1)\n",
    "\n",
    "# # Pixel :\n",
    "# px1 = Pixel(\"Px_1\", has_state = [Bati_indu1])\n",
    "# px2 = Pixel(\"Px_2\", has_state = [Bati_indu2])\n",
    "# px3 = Pixel(\"Px_3\", has_state = [EA])\n",
    "# px4 = Pixel(\"Px_4\", has_state = [EA])\n",
    "\n",
    "# # Object :\n",
    "# obj1 = Object_Geo(\"obj_1\", has_pixels = [px1,px2], has_state = [Bati_indu1], Candidate_Final_State = [Bati_indu1])\n",
    "# obj2 = Object_Geo(\"obj_2\", has_pixels = [px3,px4], has_state = [Bati_indu2], Candidate_Final_State = [Bati_indu2])\n",
    "\n",
    "\n",
    "# ### Zone :\n",
    "# z1 = ZoneArticle1(\"zone_1\", z_has_pixels = [px1,px3], contains_object = [obj1,obj2])\n",
    "# z2 = ZoneSA(\"zone_2\", z_has_pixels = [px2,px4], Candidate_Final_State = [SA_1], contains_object = [obj1,obj2])\n",
    "\n",
    "# ### Image creation :\n",
    "# img_1 = Image(\"Img\", composed_by = [obj1, obj2])\n",
    "# img_2 = Image(\"Img2\", has_rules= [z1,z2])\n",
    "\n",
    "\n",
    "\n",
    "'''\n",
    "### Exemple 4:\n",
    "'''\n",
    "# t1 = Valid_Time(\"t1\")\n",
    "# Bati_indu = Zone_industrielle_commerciale_ou_tertiaire(\"bati_industrielle\", has_time = t1)\n",
    "# bati_act = Bati_activite(\"bati_act\", has_time = t1)\n",
    "# EA = Espaces_agricoles(\"EA_1\", has_time = t1)\n",
    "# V1 = Vigne(\"Vigne_1\", has_time = t1)\n",
    "# V2 = Vigne(\"Vigne_2\", has_time = t1)\n",
    "\n",
    "# # Pixel\n",
    "# px1 = Pixel(\"Px_1\", has_state = [Bati_indu])\n",
    "# px2 = Pixel(\"Px_2\", has_state = [V1])\n",
    "# px3 = Pixel(\"Px_3\", has_state = [EA])\n",
    "# px4 = Pixel(\"Px_4\", has_state = [Bati_indu])\n",
    "# px5 = Pixel(\"Px_5\", has_state = [V2])\n",
    "# px6 = Pixel(\"Px_6\", has_state = [bati_act])\n",
    "\n",
    "# # Object\n",
    "# obj1 = Object_Geo(\"obj_1\", has_pixels = [px1], has_state = [Bati_indu], Candidate_Final_State = [Bati_indu])\n",
    "# obj2 = Object_Geo(\"obj_2\", has_pixels = [px2], has_state = [V1], Candidate_Final_State = [V1])\n",
    "# obj3 = Object_Geo(\"obj_3\", has_pixels = [px3], has_state = [EA], Candidate_Final_State = [EA])\n",
    "# obj4 = Object_Geo(\"obj_4\", has_pixels = [px4], has_state = [Bati_indu], Candidate_Final_State = [Bati_indu])\n",
    "# obj5 = Object_Geo(\"obj_5\", has_pixels = [px5], has_state = [V2], Candidate_Final_State = [V2])\n",
    "# obj6 = Object_Geo(\"obj_6\", has_pixels = [px6], has_state = [bati_act], Candidate_Final_State = [bati_act])\n",
    "\n",
    "# ### Zone\n",
    "# z1 = ZoneArticle1(\"zone_1\", z_has_pixels = [px1], contains_object = [obj1])\n",
    "# z2 = ZoneEA(\"zone_2\", z_has_pixels = [px1,px2,px6], Candidate_Final_State = [EA], contains_object = [obj1,obj2,obj6])\n",
    "# z3 = ZoneArticle1(\"zone_3\", z_has_pixels = [px1,px3,px5,px4], contains_object = [obj1,obj3,obj5,obj4])\n",
    "\n",
    "# ### Image creation :\n",
    "# img_1 = Image(\"Img\", composed_by = [obj1, obj2, obj3, obj4, obj5, obj6])\n",
    "# img_2 = Image(\"Img2\", has_rules= [z1, z2])\n",
    "\n",
    "# t1 = Valid_Time(\"t1\")\n",
    "# Bati_indu = Zone_industrielle_commerciale_ou_tertiaire(\"bati_industrielle\", has_time = t1)\n",
    "# bati_act = Bati_activite(\"bati_act\", has_time = t1)\n",
    "# EA_1 = Espaces_agricoles(\"EA_1\", has_time = t1)\n",
    "# V1 = Vigne(\"Vigne_1\", has_time = t1)\n",
    "# C1 = Canal(\"Canal_2\", has_time = t1)\n",
    "\n",
    "# # Pixel\n",
    "# px1 = Pixel(\"Px_1\", has_state = [Bati_indu])\n",
    "# px2 = Pixel(\"Px_2\", has_state = [V1])\n",
    "# px3 = Pixel(\"Px_3\", has_state = [EA_1])\n",
    "# px4 = Pixel(\"Px_4\", has_state = [C1])\n",
    "# # Object\n",
    "# obj1 = Object_Geo(\"obj_1\", has_pixels = [px1], has_state = [Bati_indu], Candidate_Final_State = [Bati_indu])\n",
    "# obj2 = Object_Geo(\"obj_2\", has_pixels = [px2], has_state = [V1], Candidate_Final_State = [V1], is_Neighbor_Of = [obj1])\n",
    "# obj3 = Object_Geo(\"obj_3\", has_pixels = [px3], has_state = [EA_1], Candidate_Final_State = [EA_1])\n",
    "# obj4 = Object_Geo(\"obj_4\", has_pixels = [px4], has_state = [C1], Candidate_Final_State = [C1])\n",
    "\n",
    "# ### Zone\n",
    "# z1 = ZoneArticle1(\"zone_1\", z_has_pixels = [px1], contains_object = [obj1])\n",
    "# z2 = ZoneEA(\"zone_2\", z_has_pixels = [px1, px2], contains_object = [obj1, obj2])\n",
    "# z3 = ZoneEA(\"zone_3\", z_has_pixels = [px3, px4], contains_object = [obj3, obj4])\n",
    "\n",
    "# ### Image creation :\n",
    "# img_1 = Image(\"Img\", composed_by = [obj1, obj2, obj3, obj4])\n",
    "# img_2 = Image(\"Img2\", has_rules= [z1, z2])\n",
    "\n",
    "try:\n",
    "    os.mkdir('./src/main/resources')\n",
    "except:\n",
    "    print(\"tout est bon\")\n",
    "\n",
    "#sync_reasoner()\n",
    "sync_reasoner_pellet(infer_property_values=True, infer_data_property_values=True)\n",
    "print(list(default_world.inconsistent_classes()))\n",
    "onto.save(file = \"./src/main/resources/onto_herelles.owl\", format = \"rdfxml\")"
   ]
  },
  {
   "cell_type": "code",
   "execution_count": null,
   "metadata": {},
   "outputs": [],
   "source": [
    "onto = get_ontology(\"./src/main/resources/onto_herelles.owl\").load()\n",
    "with onto :    \n",
    "    '''PAREIL !!!!'''\n",
    "    #je créé une regle qui oblige un object_geo d'avoir un seul State_geo:    \n",
    "    # Pixel.equivalent_to.append(Pixel & \n",
    "    #                            is_pixel_of.exactly(1,Object_Geo) & \n",
    "    #                            is_pixel_of_zone.exactly(1,Zone) & \n",
    "    #                            has_state.exactly(1,State_Geo) )\n",
    "\n",
    "    # Zone.equivalent_to.append(Zone & \n",
    "    #                           Candidate_Final_State.some(State_Geo) )\n",
    "    '''PAREIL !!!!'''\n",
    "\n",
    "    ZoneArticle1.equivalent_to.append(Zone & \n",
    "                                      Not(contains_object.some(Candidate_Final_State.some(Zone_industrielle_commerciale_ou_tertiaire))) )\n",
    "    \n",
    "    ZoneEA.equivalent_to.append(Zone & contains_object.only(Candidate_Final_State.only(Espaces_agricoles)))\n",
    "    # ZoneEA.equivalent_to.append(Zone & Candidate_Final_State.some(Espaces_agricoles))\n",
    "\n",
    "    ZoneSA.equivalent_to.append(Zone & contains_object.only(Candidate_Final_State.only(Surface_artificialisee)))\n",
    "\n",
    "    #Zone_Z2.equivalent_to.append(Zone & contains_object.only(Candidate_Final_State.some(Parc) | Candidate_Final_State.some(Jardin)))\n",
    "    #Zone_Z2.equivalent_to.append(Zone & ( contains_object.only(Candidate_Final_State.only(Parc)) | contains_object.only(Candidate_Final_State.only(Jardin))))\n",
    "    Zone_Z2.equivalent_to.append(Zone & contains_object.only(Candidate_Final_State.only(Vegetation_urbaine)) & contains_object.only(Candidate_Final_State.only(Not(createSome.some(Remblais)))))\n",
    "\n",
    "    ZoneEau.equivalent_to.append(Zone & contains_object.only(Candidate_Final_State.some(Eau)))\n",
    "    '''PAREIL !!!!'''\n",
    "    # ZoneEau.equivalent_to.append(Zone & Candidate_Final_State.some(Eau))\n",
    "\n",
    "    # State_Geo.equivalent_to.append(State_Geo & (has_time.only(Valid_Time) & has_time.min(1,Valid_Time) & has_time.max(1,Valid_Time)))\n",
    "    '''PAREIL !!!!'''\n",
    "    #Et maintenant je fais en sorte que les sous-concepts de State_Geo soient disjoint les uns des autres :\n",
    "    AllDifferent([Eau, Espaces_agricoles, Espaces_forestiers_et_naturels, Surface_artificialisee])  \n",
    "    AllDifferent({Elements, Evolution_Process, Image, State_Geo, Valid_Time})\n",
    "    AllDifferent({Object_Geo, Pixel, Zone})\n",
    "    AllDifferent({Autre_artificialisation, Infrastructure_de_transport, Vegetation_urbaine, Bati})\n",
    "\n",
    "    '''METTRE TOUS EN DISJOINT (ALLDIFFERENT) ??'''\n",
    "\n",
    "    #AllDifferent({ZoneEA, ZoneArtificialisee, ZoneEau})\n",
    "\n",
    "    #je créé une regle SWRL permettant de connaitre l'appartenance d'un objet a une zone:\n",
    "    '''ICI JE CHANGE MOMENTANEMENT CA !!!!!'''\n",
    "    # swrl_rule = \"\"\"\n",
    "    # Image(?i), Image(?i2),\n",
    "    # composed_by(?i, ?o), has_rules(?i2,?z),\n",
    "    # has_pixels(?o, ?p) , z_has_pixels(?z, ?p) -> contains_object(?z, ?o)\"\"\"\n",
    "\n",
    "    # rule = Imp(\"DetectionObjectIsInZone\")\n",
    "    # rule.set_as_rule(swrl_rule)\n",
    "\n",
    "    '''POTENTIELEMENT A REMETTRE PLUS TARD !!!!'''\n",
    "\n",
    "    #sync_reasoner(infer_property_values = True, debug=2)\n",
    "    \n",
    "    onto.save(file = \"./src/main/resources/onto_herelles.owl\", format = \"rdfxml\")\n",
    "    onto.save(file = \"./onto_herelles.owl\", format = \"rdfxml\")"
   ]
  },
  {
   "cell_type": "code",
   "execution_count": null,
   "metadata": {},
   "outputs": [],
   "source": [
    "onto = get_ontology(\"./src/main/resources/onto_herelles.owl\").load()\n",
    "Zone = onto.Zone\n",
    "\n",
    "list_subclassesZone = []\n",
    "for sc in list(Zone.subclasses()):\n",
    "    if not(sc in list_subclassesZone):\n",
    "        list_subclassesZone.append(sc)\n",
    "\n",
    "list_obj = []\n",
    "list_zone = []\n",
    "\n",
    "for object in onto.individuals():\n",
    "    if(type(object) is Object_Geo):\n",
    "        list_obj.append(object)\n",
    "    else:\n",
    "        for sc in list_subclassesZone:\n",
    "            if(str(type(object)) == str(sc)):\n",
    "                list_zone.append(object)\n",
    "\n",
    "for i in list_obj:\n",
    "    print(i)\n",
    "\n",
    "for i in list_zone:\n",
    "    print(i)\n",
    "    "
   ]
  },
  {
   "cell_type": "markdown",
   "metadata": {},
   "source": [
    "##### Exécution du code java pour récuperer les explications en cas d'ontologie inconsistante :"
   ]
  },
  {
   "cell_type": "code",
   "execution_count": null,
   "metadata": {},
   "outputs": [],
   "source": [
    "import subprocess\n",
    "import os\n",
    "\n",
    "def test_consistency():\n",
    "    mvn_command = ['mvn', 'install']\n",
    "    java_command = ['java', '-jar', 'target/my-project-1.0-SNAPSHOT-jar-with-dependencies.jar']\n",
    "\n",
    "    try:\n",
    "        subprocess.check_call(mvn_command, stdout=subprocess.PIPE, stderr=subprocess.PIPE)\n",
    "    except subprocess.CalledProcessError as e:\n",
    "        print(e)\n",
    "        exit(1)\n",
    "\n",
    "    try:\n",
    "        output = subprocess.check_output(java_command, stderr=subprocess.STDOUT).decode()\n",
    "        print(\"Result :\", output)\n",
    "    except subprocess.CalledProcessError as e:\n",
    "        print(e)\n",
    "        exit(1)\n",
    "\n",
    "    if(\"COHERENTE\" in output):\n",
    "        return True, output\n",
    "    else:\n",
    "        return False, output"
   ]
  },
  {
   "cell_type": "markdown",
   "metadata": {},
   "source": [
    "### A faire seulement si l'ontologie est inconsistante :"
   ]
  },
  {
   "cell_type": "markdown",
   "metadata": {},
   "source": [
    "##### Clean la sortie du code java :"
   ]
  },
  {
   "cell_type": "code",
   "execution_count": null,
   "metadata": {},
   "outputs": [],
   "source": [
    "def clean_output_cons(txt):\n",
    "    clean_output = txt.split(\"Objects inconsistants :\")\n",
    "    clean_output = clean_output[1].split(\"\\n\")\n",
    "    clean_output = list(filter(None, clean_output))\n",
    "\n",
    "    list_zone = []\n",
    "    list_obj = []\n",
    "\n",
    "    for i in clean_output:\n",
    "        i = i.replace(\"ObjectPropertyAssertion(<http://test.org/onto_herelles.owl#contains_object> \",\"\")\n",
    "        i = i.replace(\"<http://test.org/onto_herelles.owl#\",\"\")\n",
    "        i = i.replace(\">\",\"\")\n",
    "        i = i.replace(\"<\",\"\")\n",
    "        i = i.replace(\")\",\"\")\n",
    "        i = i.split(\" \")\n",
    "        for j in i:\n",
    "            if (\"obj\" in j): # | (\"remblais\" in j):\n",
    "                if not(j in list_obj):\n",
    "                    list_obj.append(j)\n",
    "            else:\n",
    "                list_zone.append(j)\n",
    "\n",
    "    return list_zone, list_obj"
   ]
  },
  {
   "cell_type": "markdown",
   "metadata": {},
   "source": [
    "##### Exécution du code venant du projet CEO, avec les Objects_Geo rendant l'ontologie inconsistante :"
   ]
  },
  {
   "cell_type": "code",
   "execution_count": null,
   "metadata": {},
   "outputs": [],
   "source": [
    "def exec_CEO(list_obj):\n",
    "    list_string = []\n",
    "    for i in list_obj:\n",
    "        # onto = get_ontology(\"./src/main/resources/onto_herelles.owl\").load()\n",
    "        world1 = World()\n",
    "        onto = world1.get_ontology(\"./src/main/resources/onto_herelles.owl\").load()\n",
    "        for j in list_obj:\n",
    "            if j != i:\n",
    "                destroy_entity(getattr(onto, j))\n",
    "                print(\"je supprimer j :\", j, \"et je suis dans i:\", i)\n",
    "        onto.save(file = \"./onto_herelles.owl\", format = \"rdfxml\")\n",
    "        python_command = [\"python3\",\"./CEO2/main.py\",i,'Object_Geo'] #State_Geo si on rajoute les remblais\n",
    "        counterfactual_output = subprocess.run(python_command, stdout=subprocess.PIPE, stderr=subprocess.STDOUT)\n",
    "        list_string.append(str(counterfactual_output.stdout))\n",
    "    return list_string\n",
    "        "
   ]
  },
  {
   "cell_type": "markdown",
   "metadata": {},
   "source": [
    "##### Récupération de la sortie du code CEO, pour traiter les explications contre-factuelle :"
   ]
  },
  {
   "cell_type": "code",
   "execution_count": null,
   "metadata": {},
   "outputs": [],
   "source": [
    "def clean_output_CEO(list_string):\n",
    "    x = 0\n",
    "    cf_final = []\n",
    "    for i in list_string:\n",
    "        cf_inter = []\n",
    "        cf_output = i #str(counterfactual_output.stdout)\n",
    "        cf_output = cf_output.split(\"generate individuals\")\n",
    "        cf_output = cf_output[1]\n",
    "        cf_output = cf_output.split(\"\\\\n\\\\n\")\n",
    "\n",
    "        cf_inter.append(list_obj[x])\n",
    "        for j in cf_output:\n",
    "            j = j.replace(\"\\\\n\",\"\")\n",
    "            j = j.replace(\"\\\"\",\"\")\n",
    "            if \"Assertion\" in j:\n",
    "                cf_inter.append(j)\n",
    "        cf_final.append(cf_inter)\n",
    "\n",
    "        x = x+1\n",
    "\n",
    "    return cf_final"
   ]
  },
  {
   "cell_type": "markdown",
   "metadata": {},
   "source": [
    "##### Rangement des CF dans un tableau pour chaque objets a corriger :"
   ]
  },
  {
   "cell_type": "code",
   "execution_count": null,
   "metadata": {},
   "outputs": [],
   "source": [
    "def store_CF(cf_final):\n",
    "    tab = []\n",
    "    tab_create = []\n",
    "    for i in cf_final:\n",
    "        for j in i:\n",
    "            if j in list_obj:\n",
    "                if len(tab_create)==0:\n",
    "                    tab_create.append(j)\n",
    "                    continue\n",
    "                else:\n",
    "                    tab.append(tab_create)\n",
    "                    tab_create = []\n",
    "                    tab_create.append(j)\n",
    "                    continue\n",
    "            tab_create.append(j)\n",
    "    tab.append(tab_create)\n",
    "    \n",
    "    return tab\n",
    "\n",
    "    # Resultat dans tab : tab[0] est un tableau contenant toutes les CF du premier obj, tab[1] ..."
   ]
  },
  {
   "cell_type": "markdown",
   "metadata": {},
   "source": [
    "##### mise en forme des différentes propositions de correctifs :"
   ]
  },
  {
   "cell_type": "code",
   "execution_count": null,
   "metadata": {},
   "outputs": [],
   "source": [
    "import re\n",
    "\n",
    "def formatting_CF(tab):\n",
    "    pattern = r\"(?P<numero>\\d+)Assertions: \\[(?P<relations>.+?)\\]Distance = (?P<distance>\\d+)\"\n",
    "\n",
    "    resultat = []\n",
    "\n",
    "    for x in range(len(tab)):\n",
    "        inter = []\n",
    "        # resultat.append(tab[x][0])\n",
    "        inter.append(tab[x][0])\n",
    "\n",
    "        for i in range(1,len(tab[x])):\n",
    "            print(tab[x][i])\n",
    "            match = re.search(pattern, tab[x][i], re.DOTALL)\n",
    "\n",
    "            if match:\n",
    "                numero = int(match.group('numero'))\n",
    "                relations = match.group('relations').strip('[]').split(', ')\n",
    "                distance = int(match.group('distance'))\n",
    "\n",
    "                transformed_assertions = []\n",
    "                for relation in relations:\n",
    "                    relation = re.sub('[\\\"\\'()]','',relation)\n",
    "                    nom, reste = relation.split(' is a ')\n",
    "                    nom_classe = reste.strip('[]')\n",
    "\n",
    "                    res = nom, nom_classe\n",
    "\n",
    "                    transformed_assertions.append(res)\n",
    "                res = transformed_assertions, distance\n",
    "                # resultat.append(res)\n",
    "                inter.append(res)    \n",
    "            else :\n",
    "                print(\"wow probleme\")\n",
    "                print(resultat)\n",
    "\n",
    "        resultat.append(inter)\n",
    "    return resultat"
   ]
  },
  {
   "cell_type": "code",
   "execution_count": null,
   "metadata": {},
   "outputs": [],
   "source": [
    "val_cons, output = test_consistency()\n",
    "val_incon = True\n",
    "if val_cons:\n",
    "    print(\"Ontologie cohérente.\")\n",
    "else :\n",
    "    print(\"Ontologie incohérente.\")\n",
    "    val_incon = False"
   ]
  },
  {
   "cell_type": "code",
   "execution_count": null,
   "metadata": {},
   "outputs": [],
   "source": [
    "if val_incon == False:\n",
    "    list_zone, list_obj = clean_output_cons(output)\n",
    "    print(\"liste zone :\",list_zone,\"\\nliste obj :\", list_obj)"
   ]
  },
  {
   "cell_type": "markdown",
   "metadata": {},
   "source": [
    "### SUPPRIMER LE LIEN ENTRE LE STATE_GEO ET LE REMBLAIS, donc récuperer Jardin_1 : \n",
    "### ObjectPropertyAssertion(<createSome> <jardin_1> <remblais1>) !!\n",
    "##### plus attention a exec_CEO de bien mettre le bon type de jardin_1 (donc state_geo a la place de Object_Geo)"
   ]
  },
  {
   "cell_type": "code",
   "execution_count": null,
   "metadata": {},
   "outputs": [],
   "source": [
    "if val_incon == False:\n",
    "    list_string = exec_CEO(list_obj)\n",
    "    for i in list_string:\n",
    "        print(i)\n",
    "    cf_final = clean_output_CEO(list_string)\n",
    "    for i in cf_final:\n",
    "        print(i)\n",
    "    tab = store_CF(cf_final)\n",
    "    resultat = formatting_CF(tab)"
   ]
  },
  {
   "cell_type": "markdown",
   "metadata": {},
   "source": [
    "# SOLUTION 1 :\n",
    "###### solution abandonnée"
   ]
  },
  {
   "cell_type": "markdown",
   "metadata": {},
   "source": [
    "# SOLUTION 2 :"
   ]
  },
  {
   "cell_type": "code",
   "execution_count": null,
   "metadata": {},
   "outputs": [],
   "source": [
    "# def obj_reltaion(obj):\n",
    "#     onto = get_ontology(\"./src/main/resources/onto_herelles.owl\").load()\n",
    "\n",
    "#     liste_objet = []\n",
    "#     liste_relation = []\n",
    "\n",
    "#     for i in onto.object_properties():\n",
    "#         o,rel = str(i).split(\".\")\n",
    "#         attr_value = getattr(obj, rel)\n",
    "#         if attr_value is not None:\n",
    "#             try :\n",
    "#                 for j in attr_value:\n",
    "#                     if not(j in liste_objet):\n",
    "#                         liste_objet.append(j)\n",
    "#                         liste_relation.append(rel)\n",
    "#             except Exception as e:\n",
    "#                 if not(attr_value in liste_objet):\n",
    "#                     liste_objet.append(attr_value)\n",
    "#                     liste_relation.append(rel)\n",
    "\n",
    "#     return liste_relation, liste_objet\n",
    "\n",
    "# PEUT ETRE DES PROBLEMES PLUS TARD\n",
    "\n",
    "def obj_reltaion(obj):\n",
    "    onto = get_ontology(\"./src/main/resources/onto_herelles.owl\").load()\n",
    "\n",
    "    liste_objet = []\n",
    "    liste_relation = []\n",
    "\n",
    "    for i in onto.object_properties():\n",
    "        o,rel = str(i).split(\".\")\n",
    "        attr_value = getattr(obj, rel)\n",
    "        if attr_value is not None:\n",
    "            try :\n",
    "                for j in attr_value:\n",
    "                    if not(j in liste_objet):\n",
    "                        liste_objet.append(j)\n",
    "                        liste_relation.append(rel)\n",
    "                    elif not(rel in liste_relation):\n",
    "                        liste_objet.append(j)\n",
    "                        liste_relation.append(rel)\n",
    "            except Exception as e:\n",
    "                if not(attr_value in liste_objet):\n",
    "                    liste_objet.append(attr_value)\n",
    "                    liste_relation.append(rel)\n",
    "                elif not(rel in liste_relation):\n",
    "                    liste_objet.append(attr_value)\n",
    "                    liste_relation.append(rel)\n",
    "\n",
    "    return liste_relation, liste_objet"
   ]
  },
  {
   "cell_type": "code",
   "execution_count": null,
   "metadata": {},
   "outputs": [],
   "source": [
    "def get_str_obj(obj):\n",
    "    x, y = str(obj).split(\".\")\n",
    "    return y\n",
    "\n",
    "def get_str_tab_obj(tab_obj):\n",
    "    res = []\n",
    "    for i in tab_obj:\n",
    "        res.append(get_str_obj(i))\n",
    "    return res\n",
    "\n",
    "def compare_liste(tab1, tab2):\n",
    "    tabx = [\"must\"]\n",
    "    taby = [\"have\"]\n",
    "    for i in tab1:\n",
    "        x = 0\n",
    "        for j in tab2:\n",
    "            if i == j:\n",
    "                x = 1\n",
    "                break\n",
    "        if(x == 0):\n",
    "            tabx.append(i)\n",
    "\n",
    "    for i in tab2:\n",
    "        x = 0\n",
    "        for j in tab1:\n",
    "            if i == j:\n",
    "                x = 1\n",
    "                break\n",
    "        if(x == 0):\n",
    "            taby.append(i)\n",
    "    \n",
    "    return [tabx,taby]"
   ]
  },
  {
   "cell_type": "code",
   "execution_count": null,
   "metadata": {},
   "outputs": [],
   "source": [
    "def tab_contain_object(tab, obj):\n",
    "    res = False\n",
    "    for i in tab:\n",
    "        if obj == i:\n",
    "            res = True\n",
    "    return res"
   ]
  },
  {
   "cell_type": "code",
   "execution_count": null,
   "metadata": {},
   "outputs": [],
   "source": [
    "def index_tab(tab, name):\n",
    "    for i in range(len(tab)):\n",
    "        if tab[i] == name:\n",
    "            return i\n",
    "    return -1"
   ]
  },
  {
   "cell_type": "code",
   "execution_count": null,
   "metadata": {},
   "outputs": [],
   "source": [
    "def get_relation_obj(tab):\n",
    "    grouped_by_relation = {}\n",
    "    for i in range(0, len(tab), 2):\n",
    "        relation = tab[i]\n",
    "        if relation in grouped_by_relation:\n",
    "            grouped_by_relation[relation].append(tab[i+1])\n",
    "        else:\n",
    "            grouped_by_relation[relation] = [tab[i+1]]\n",
    "\n",
    "    tableau_relations = []\n",
    "    for k,v in grouped_by_relation.items():\n",
    "        tableau_relations.append([k, v])\n",
    "\n",
    "    return tableau_relations"
   ]
  },
  {
   "cell_type": "code",
   "execution_count": null,
   "metadata": {},
   "outputs": [],
   "source": [
    "import string\n",
    "\n",
    "def replace_object(obj, new_obj):\n",
    "    onto = get_ontology(\"./src/main/resources/onto_herelles.owl\").load()\n",
    "    \n",
    "    ob = getattr(onto,str(new_obj))\n",
    "    if (ob != None):\n",
    "        type = ob.is_a[0]\n",
    "        \n",
    "    else:\n",
    "        type = new_obj[0].upper() + new_obj[1:]\n",
    "        type = getattr(onto,type)\n",
    "\n",
    "    obj = getattr(onto,obj)\n",
    "    obj.is_a.clear()\n",
    "    obj.is_a.append(type)\n",
    "    onto.save(file = \"./src/main/resources/onto_herelles.owl\", format = \"rdfxml\")"
   ]
  },
  {
   "cell_type": "code",
   "execution_count": null,
   "metadata": {},
   "outputs": [],
   "source": [
    "def modify_object(tab_curr, tab_ok, tab_change):\n",
    "    for i in range(len(tab_ok)):\n",
    "        for j in range(len(tab_curr)):\n",
    "            if tab_ok[i] == tab_curr[j]:\n",
    "                tab_curr[j] = 0\n",
    "    \n",
    "    x = 0\n",
    "    for i in tab_curr:\n",
    "        if not(i == 0):\n",
    "            replace_object(i,tab_change[x])\n",
    "            x = x+1\n",
    "    return 0"
   ]
  },
  {
   "cell_type": "markdown",
   "metadata": {},
   "source": [
    "# meilleur solution : \n",
    "Il faut l'appeller autant de fois qu'il existe d'objet inconsistant"
   ]
  },
  {
   "cell_type": "code",
   "execution_count": null,
   "metadata": {},
   "outputs": [],
   "source": [
    "onto = get_ontology(\"./src/main/resources/onto_herelles.owl\").load()\n",
    "\n",
    "with onto :\n",
    "    num_solution = 5 # NUMEROS DE SOLUTION QU ON CHOISIT\n",
    "\n",
    "    \n",
    "    for num_inc in range(len(resultat)):\n",
    "        print()\n",
    "        tab_wanted = []\n",
    "        for i in range (len(resultat[num_inc][num_solution][0])):\n",
    "            relation, obj_name = resultat[num_inc][num_solution][0][i][0].split(\" \")\n",
    "            tab_wanted.append(relation)\n",
    "            tab_wanted.append(obj_name)\n",
    "\n",
    "            \n",
    "        tab_wanted = get_relation_obj(tab_wanted)\n",
    "\n",
    "        obj_to_change = getattr(onto, resultat[num_inc][0])\n",
    "        \n",
    "        tab_curr = []\n",
    "        x,y = obj_reltaion(obj_to_change)\n",
    "\n",
    "        y = get_str_tab_obj(y)\n",
    "        for i in range(len(x)):\n",
    "            tab_curr.append(x[i])\n",
    "            tab_curr.append(y[i])\n",
    "        tab_curr = get_relation_obj(tab_curr)\n",
    "\n",
    "        print(tab_wanted)\n",
    "        print(tab_curr)\n",
    "        print(obj_to_change)\n",
    "        print(x,y)\n",
    "\n",
    "        for i in range(len(tab_wanted)):\n",
    "            tab_ok = []\n",
    "            tab_change = []\n",
    "            rel = tab_wanted[i][0]\n",
    "            for j in range(len(tab_curr)):\n",
    "                if rel == tab_curr[j][0]:\n",
    "                    for k in tab_wanted[i][1]:\n",
    "                        if tab_contain_object(tab_curr[j][1], k):\n",
    "                            print(k)\n",
    "                            tab_ok.append(k)\n",
    "                        else:\n",
    "                            tab_change.append(k)\n",
    "                    modify_object(tab_curr[j][1], tab_ok, tab_change)\n",
    "                    break"
   ]
  },
  {
   "cell_type": "markdown",
   "metadata": {},
   "source": [
    "# Check inconsistance :\n"
   ]
  },
  {
   "cell_type": "code",
   "execution_count": null,
   "metadata": {},
   "outputs": [],
   "source": [
    "val_cons, output = test_consistency()\n",
    "val_incon = True\n",
    "if val_cons:\n",
    "    print(\"Ontologie cohérente.\")\n",
    "else :\n",
    "    print(\"Ontologie incohérente.\")\n",
    "    val_incon = False"
   ]
  },
  {
   "cell_type": "code",
   "execution_count": null,
   "metadata": {},
   "outputs": [],
   "source": [
    "if val_incon == False:\n",
    "    list_zone, list_obj = clean_output_cons(output)\n",
    "    print(\"liste zone :\",list_zone,\"\\nliste obj :\", list_obj)"
   ]
  },
  {
   "cell_type": "code",
   "execution_count": null,
   "metadata": {},
   "outputs": [],
   "source": [
    "if val_incon == False:\n",
    "    list_string = exec_CEO(list_obj)\n",
    "    cf_final = clean_output_CEO(list_string)\n",
    "    for i in cf_final:\n",
    "        print(i)\n",
    "    tab = store_CF(cf_final)\n",
    "    resultat = formatting_CF(tab)"
   ]
  },
  {
   "cell_type": "markdown",
   "metadata": {},
   "source": [
    "# Futures étapes à faire :\n",
    "\n",
    "- Module évolution et temporel à tester correctement avec un exemple simple.\n",
    "- Amélioration de la solution 3 : voir la section pour plus de détails.\n",
    "- Implémentation de nouvelles règles simples.\n",
    "- ? Améliorer les propositions de correctifs ?"
   ]
  },
  {
   "cell_type": "markdown",
   "metadata": {},
   "source": [
    "### Autres étapes vraiment plus tard:\n",
    "- code dans un fichier python\n",
    "- faire des fonctions pour une meilleur lecture du code\n",
    "- commenter mon code"
   ]
  },
  {
   "cell_type": "code",
   "execution_count": null,
   "metadata": {},
   "outputs": [],
   "source": [
    "# from owlready2 import *\n",
    "# import owlready2\n",
    "# owlready2.JAVA_EXE = \"/usr/bin/java\"\n",
    "\n",
    "# onto = get_ontology(\"onto_herelles.owl\").load()\n",
    "\n",
    "# with onto :    \n",
    "#     try:\n",
    "#         sync_reasoner_pellet(infer_property_values=True, infer_data_property_values=True, debug=2, keep_tmp_file= False)\n",
    "#         print(\"SIIII\", owlready2.JAVA_EXE)catch\n",
    "#         print(\"L'ontologie est consistante.\")\n",
    "\n",
    "#     except OwlReadyInconsistentOntologyError as e1:\n",
    "#         print(\"L'ontologie est inconsistante car :\\n\" + str(e1))"
   ]
  },
  {
   "cell_type": "markdown",
   "metadata": {},
   "source": [
    "# important :\n",
    "\n",
    "    - nouvelle relation entre les object_geo, voisins : si 2 object_geo ont des frontieres communes -> se sont des voisins.\n",
    "\n",
    "    - potentiellement chercher des relations plus précise : par exemple is un objet est contenu dans un autre."
   ]
  },
  {
   "cell_type": "code",
   "execution_count": 7,
   "metadata": {},
   "outputs": [],
   "source": [
    "import xml.etree.ElementTree as ET\n",
    "import matplotlib.pyplot as plt\n",
    "from shapely.geometry import Polygon, Point\n",
    "\n",
    "def extract_coordinates(kml_file):\n",
    "    tree = ET.parse(kml_file)\n",
    "    root = tree.getroot()\n",
    "\n",
    "    ns = {'kml': 'http://www.opengis.net/kml/2.2', 'gx': 'http://www.google.com/kml/ext/2.2'}\n",
    "\n",
    "    coordinates_element = root.find('.//gx:LatLonQuad/kml:coordinates', ns)\n",
    "\n",
    "    if coordinates_element is not None:\n",
    "        coordinates_text = coordinates_element.text.strip()\n",
    "        coordinates_list = coordinates_text.split()\n",
    "        coordinates_list = [coord.strip() for coord in coordinates_list]\n",
    "\n",
    "        coordinates = []\n",
    "\n",
    "        for coord in coordinates_list:\n",
    "            lon_lat = coord.split(',')\n",
    "            lon_lat_tuple = tuple(map(float, lon_lat))\n",
    "            coordinates.append(lon_lat_tuple)\n",
    "\n",
    "        return coordinates\n",
    "    else:\n",
    "        raise ValueError(\"Pas de coordinates dans le fichier kml.\")\n",
    "\n"
   ]
  },
  {
   "cell_type": "code",
   "execution_count": 20,
   "metadata": {},
   "outputs": [
    {
     "name": "stdout",
     "output_type": "stream",
     "text": [
      "[(7.7184127494993495, 48.64602645128585), (7.737414489993581, 48.64623633454492), (7.737010122314587, 48.6624254824604), (7.71800230017377, 48.6622154803805)]\n"
     ]
    }
   ],
   "source": [
    "kml_file = 'result.kml'\n",
    "\n",
    "coords = extract_coordinates(kml_file)\n",
    "print(coords)"
   ]
  },
  {
   "cell_type": "code",
   "execution_count": 9,
   "metadata": {},
   "outputs": [
    {
     "data": {
      "text/plain": [
       "-2.842170943040401e-14"
      ]
     },
     "execution_count": 9,
     "metadata": {},
     "output_type": "execute_result"
    }
   ],
   "source": [
    "48.64602645128582 - 48.64602645128585"
   ]
  },
  {
   "cell_type": "code",
   "execution_count": 10,
   "metadata": {},
   "outputs": [],
   "source": [
    "def calcul_droite(p1, p2):\n",
    "    a = (p2[1]-p1[1]) / (p2[0]-p1[0])\n",
    "    x = p1[0]\n",
    "    y = p1[1]\n",
    "\n",
    "    b = -a*x + y\n",
    "    return y, a, x, b"
   ]
  },
  {
   "cell_type": "code",
   "execution_count": 11,
   "metadata": {},
   "outputs": [],
   "source": [
    "def calcul_point_droite(a, x, b, p1, p2, nb_point):\n",
    "    nb = (p2[0] - p1[0]) / nb_point\n",
    "    tab = []\n",
    "    for i in range(nb_point):\n",
    "        x1 = x + i*nb\n",
    "        y1 = a*x1 + b\n",
    "        tab.append((x1,y1))\n",
    "\n",
    "    return tab"
   ]
  },
  {
   "cell_type": "code",
   "execution_count": 12,
   "metadata": {},
   "outputs": [],
   "source": [
    "def print_fig(tab):\n",
    "    fig, ax = plt.subplots()\n",
    "    polygon = Polygon(coords)\n",
    "\n",
    "    for i in tab:\n",
    "        point = Point(i[0], i[1])\n",
    "        ax.plot(point.x, point.y, marker='.', color='blue')\n",
    "\n",
    "\n",
    "    ax.plot(*polygon.exterior.xy, color='red')\n",
    "    plt.show()"
   ]
  },
  {
   "cell_type": "code",
   "execution_count": 13,
   "metadata": {},
   "outputs": [],
   "source": [
    "def big_print_fig(tab):\n",
    "    fig, ax = plt.subplots()\n",
    "    polygon = Polygon(coords)\n",
    "\n",
    "    for j in tab :\n",
    "        for i in j:\n",
    "            point = Point(i[0], i[1])\n",
    "            ax.plot(point.x, point.y, marker='.', color='blue')\n",
    "\n",
    "\n",
    "    ax.plot(*polygon.exterior.xy, color='red')\n",
    "    plt.show()"
   ]
  },
  {
   "cell_type": "code",
   "execution_count": 14,
   "metadata": {},
   "outputs": [
    {
     "data": {
      "image/png": "[encoded data removed]",
      "text/plain": [
       "<Figure size 640x480 with 1 Axes>"
      ]
     },
     "metadata": {},
     "output_type": "display_data"
    },
    {
     "data": {
      "image/png": "[encoded data removed]",
      "text/plain": [
       "<Figure size 640x480 with 1 Axes>"
      ]
     },
     "metadata": {},
     "output_type": "display_data"
    }
   ],
   "source": [
    "y, a, x, b = calcul_droite(coords[0],coords[3])\n",
    "tabb = calcul_point_droite(a, x, b, coords[0], coords[3], 180)\n",
    "print_fig(tabb)\n",
    "\n",
    "y, a, x, b = calcul_droite(coords[1],coords[2])\n",
    "tabb = calcul_point_droite(a, x, b, coords[1], coords[2], 180)\n",
    "print_fig(tabb)\n"
   ]
  },
  {
   "cell_type": "code",
   "execution_count": 15,
   "metadata": {},
   "outputs": [
    {
     "data": {
      "image/png": "[encoded data removed]",
      "text/plain": [
       "<Figure size 640x480 with 1 Axes>"
      ]
     },
     "metadata": {},
     "output_type": "display_data"
    }
   ],
   "source": [
    "y, a, x, b = calcul_droite(coords[0],coords[3])\n",
    "tabb1 = calcul_point_droite(a, x, b, coords[0], coords[3], 180)\n",
    "\n",
    "\n",
    "y, a, x, b = calcul_droite(coords[1],coords[2])\n",
    "tabb2 = calcul_point_droite(a, x, b, coords[1], coords[2], 180)\n",
    "\n",
    "big_tab = []\n",
    "\n",
    "for i in range(len(tabb1)):\n",
    "    y, a, x, b = calcul_droite(tabb1[i],tabb2[i])\n",
    "    tabbx = calcul_point_droite(a, x, b, tabb1[i], tabb2[i], 180)\n",
    "    big_tab.append(tabbx)\n",
    "\n",
    "big_print_fig(big_tab)\n",
    "    "
   ]
  },
  {
   "cell_type": "code",
   "execution_count": 16,
   "metadata": {},
   "outputs": [],
   "source": [
    "import matplotlib.pyplot as plt\n",
    "from shapely.geometry import Polygon, Point"
   ]
  },
  {
   "cell_type": "code",
   "execution_count": 17,
   "metadata": {},
   "outputs": [],
   "source": [
    "import pandas as pd\n",
    "import json\n",
    "df = pd.read_json(\"plu_decoupage.json\")"
   ]
  },
  {
   "cell_type": "code",
   "execution_count": 18,
   "metadata": {},
   "outputs": [
    {
     "name": "stdout",
     "output_type": "stream",
     "text": [
      "                                             geo_shape  \\\n",
      "0    {'type': 'Feature', 'geometry': {'coordinates'...   \n",
      "1    {'type': 'Feature', 'geometry': {'coordinates'...   \n",
      "2    {'type': 'Feature', 'geometry': {'coordinates'...   \n",
      "3    {'type': 'Feature', 'geometry': {'coordinates'...   \n",
      "4    {'type': 'Feature', 'geometry': {'coordinates'...   \n",
      "..                                                 ...   \n",
      "104  {'type': 'Feature', 'geometry': {'coordinates'...   \n",
      "105  {'type': 'Feature', 'geometry': {'coordinates'...   \n",
      "106  {'type': 'Feature', 'geometry': {'coordinates'...   \n",
      "107  {'type': 'Feature', 'geometry': {'coordinates'...   \n",
      "108  {'type': 'Feature', 'geometry': {'coordinates'...   \n",
      "\n",
      "                                           coordinates  \n",
      "0    [[[7.6384446509075286, 48.540206296469215], [7...  \n",
      "1    [[[7.784382196232344, 48.5342768902335], [7.81...  \n",
      "2    [[[7.671534470276169, 48.5251839364802], [7.70...  \n",
      "3    [[[7.566965592015147, 48.5551220386937], [7.59...  \n",
      "4    [[[7.597840469690049, 48.54146733008341], [7.6...  \n",
      "..                                                 ...  \n",
      "104  [[[7.6316597359678155, 48.46042019334853], [7....  \n",
      "105  [[[7.69440967667264, 48.45789278786582], [7.77...  \n",
      "106  [[[7.699119298980019, 48.647289981357694], [7....  \n",
      "107  [[[7.737119662243048, 48.64577193328938], [7.7...  \n",
      "108  [[[7.80650714336986, 48.64732940671669], [7.83...  \n",
      "\n",
      "[109 rows x 2 columns]\n"
     ]
    }
   ],
   "source": [
    "df['coordinates'] = df['geo_shape'].apply(lambda x: x['geometry']['coordinates'])\n",
    "print(df[['geo_shape', 'coordinates']])"
   ]
  },
  {
   "cell_type": "code",
   "execution_count": 57,
   "metadata": {},
   "outputs": [
    {
     "data": {
      "text/plain": [
       "(7.719027907666756, 48.64675295997475)"
      ]
     },
     "execution_count": 57,
     "metadata": {},
     "output_type": "execute_result"
    }
   ],
   "source": [
    "big_tab[8][6]"
   ]
  },
  {
   "cell_type": "code",
   "execution_count": 61,
   "metadata": {},
   "outputs": [],
   "source": [
    "tab_to_keep = []"
   ]
  },
  {
   "cell_type": "code",
   "execution_count": 91,
   "metadata": {},
   "outputs": [
    {
     "name": "stdout",
     "output_type": "stream",
     "text": [
      "4 9\n",
      "5 59\n"
     ]
    },
    {
     "data": {
      "image/png": "[encoded data removed]",
      "text/plain": [
       "<Figure size 640x480 with 1 Axes>"
      ]
     },
     "metadata": {},
     "output_type": "display_data"
    }
   ],
   "source": [
    "df_5000 = df.loc[df['echelle'] == '1/5000']\n",
    "fig, ax = plt.subplots()\n",
    "coords = extract_coordinates(kml_file)\n",
    "polygon_image = Polygon(coords)\n",
    "ax.plot(*polygon_image.exterior.xy, color='red')\n",
    "\n",
    "for i in df_5000.index:\n",
    "    liste_coords = df[\"coordinates\"][i]\n",
    "    liste_coords = liste_coords[0]\n",
    "    # test si ce polygone contient un ensemble avec notre image\n",
    "    polygon_temp = Polygon(liste_coords)\n",
    "    \n",
    "    x = polygon_temp.intersection(polygon_image)\n",
    "    if(x):\n",
    "        ax.plot(*polygon_temp.exterior.xy, color='blue')\n",
    "        print(df_5000[\"num_planche\"][i],i)\n",
    "        #créer les zones ici\n",
    "        tab_to_keep.append(liste_coords)\n",
    "        \n",
    "\n",
    "for j in big_tab :\n",
    "    for i in j:\n",
    "        point = Point(i[0], i[1])\n",
    "        # ax.plot(point.x, point.y, marker='.', color='green')\n",
    "plt.show()"
   ]
  },
  {
   "cell_type": "code",
   "execution_count": 102,
   "metadata": {},
   "outputs": [],
   "source": [
    "def ici(tab_coord_test, coord_zone):\n",
    "    for i in tab_coord_test:\n",
    "        print(i, i[0], i[1])\n",
    "        pt1 = Point(big_tab[i[0]][i[1]][0],big_tab[i[0]][i[1]][1])\n",
    "        p2 = Polygon(coord_zone)\n",
    "        print(p2)\n",
    "        if pt1.covered_by(p2):\n",
    "            return True\n",
    "    return False"
   ]
  },
  {
   "cell_type": "code",
   "execution_count": 103,
   "metadata": {},
   "outputs": [
    {
     "data": {
      "text/plain": [
       "[[7.651393194121161, 48.63756529609925],\n",
       " [7.729943124671662, 48.634393878843355],\n",
       " [7.73331459643316, 48.67074594833893],\n",
       " [7.654708950620465, 48.67391958032298],\n",
       " [7.651393194121161, 48.63756529609925]]"
      ]
     },
     "execution_count": 103,
     "metadata": {},
     "output_type": "execute_result"
    }
   ],
   "source": [
    "tab_to_keep[0]"
   ]
  },
  {
   "cell_type": "code",
   "execution_count": 104,
   "metadata": {},
   "outputs": [
    {
     "name": "stdout",
     "output_type": "stream",
     "text": [
      "[178, 179] 178 179\n",
      "POLYGON ((7.651393194121161 48.63756529609925, 7.729943124671662 48.634393878843355, 7.73331459643316 48.67074594833893, 7.654708950620465 48.67391958032298, 7.651393194121161 48.63756529609925))\n",
      "[179, 116] 179 116\n",
      "POLYGON ((7.651393194121161 48.63756529609925, 7.729943124671662 48.634393878843355, 7.73331459643316 48.67074594833893, 7.654708950620465 48.67391958032298, 7.651393194121161 48.63756529609925))\n",
      "[179, 117] 179 117\n",
      "POLYGON ((7.651393194121161 48.63756529609925, 7.729943124671662 48.634393878843355, 7.73331459643316 48.67074594833893, 7.654708950620465 48.67391958032298, 7.651393194121161 48.63756529609925))\n",
      "[179, 118] 179 118\n",
      "POLYGON ((7.651393194121161 48.63756529609925, 7.729943124671662 48.634393878843355, 7.73331459643316 48.67074594833893, 7.654708950620465 48.67391958032298, 7.651393194121161 48.63756529609925))\n",
      "[179, 119] 179 119\n",
      "POLYGON ((7.651393194121161 48.63756529609925, 7.729943124671662 48.634393878843355, 7.73331459643316 48.67074594833893, 7.654708950620465 48.67391958032298, 7.651393194121161 48.63756529609925))\n"
     ]
    },
    {
     "data": {
      "text/plain": [
       "False"
      ]
     },
     "execution_count": 104,
     "metadata": {},
     "output_type": "execute_result"
    }
   ],
   "source": [
    "coord_test = [[178, 179],[179, 116],[179, 117],[179, 118],[179, 119]]\n",
    "ici(coord_test, tab_to_keep[0])"
   ]
  },
  {
   "cell_type": "markdown",
   "metadata": {},
   "source": [
    "tester pour chaque objet si il appartient a la zone en question"
   ]
  }
 ],
 "metadata": {
  "kernelspec": {
   "display_name": "Python 3",
   "language": "python",
   "name": "python3"
  },
  "language_info": {
   "codemirror_mode": {
    "name": "ipython",
    "version": 3
   },
   "file_extension": ".py",
   "mimetype": "text/x-python",
   "name": "python",
   "nbconvert_exporter": "python",
   "pygments_lexer": "ipython3",
   "version": "3.10.12"
  }
 },
 "nbformat": 4,
 "nbformat_minor": 2
}
