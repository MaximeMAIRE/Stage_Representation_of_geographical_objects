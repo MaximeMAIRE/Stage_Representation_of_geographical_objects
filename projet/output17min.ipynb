generate ancestors
generate individuals
1
Assertions: ['(destine bati_industrielle is a [onto_herelles.Zone_industrielle_commerciale_ou_tertiaire])', '(has_pixels Px_1 is a [onto_herelles.Pixel])', '(has_pixels Px_2 is a [onto_herelles.Pixel])', '(has_state bati_industrielle is a [onto_herelles.Zone_industrielle_commerciale_ou_tertiaire])', '(is_in zone is a [onto_herelles.Zone])', '(is_in zone is a [onto_herelles.Zone])']
Distance = 4

2
Assertions: ['(destine state_geo is a [onto_herelles.State_Geo])', '(has_pixels Px_1 is a [onto_herelles.Pixel])', '(has_pixels Px_2 is a [onto_herelles.Pixel])', '(has_state bati_industrielle is a [onto_herelles.Zone_industrielle_commerciale_ou_tertiaire])', '(is_in zone_1 is a [onto_herelles.ZoneArticle1])', '(is_in zone_2 is a [onto_herelles.ZoneEA])']
Distance = 5

3
Assertions: ['(destine bati_activite is a [onto_herelles.Bati_activite])', '(has_pixels Px_1 is a [onto_herelles.Pixel])', '(has_pixels Px_2 is a [onto_herelles.Pixel])', '(has_state bati_industrielle is a [onto_herelles.Zone_industrielle_commerciale_ou_tertiaire])', '(is_in zone_1 is a [onto_herelles.ZoneArticle1])', '(is_in zone_1 is a [onto_herelles.ZoneArticle1])']
Distance = 5

4
Assertions: ['(destine bati_activite is a [onto_herelles.Bati_activite])', '(has_pixels Px_1 is a [onto_herelles.Pixel])', '(has_pixels Px_2 is a [onto_herelles.Pixel])', '(has_state bati_industrielle is a [onto_herelles.Zone_industrielle_commerciale_ou_tertiaire])', '(is_in zone_1 is a [onto_herelles.ZoneArticle1])', '(is_in zone_z2 is a [onto_herelles.Zone_Z2])']
Distance = 5

5
Assertions: ['(destine bati_activite is a [onto_herelles.Bati_activite])', '(has_pixels Px_1 is a [onto_herelles.Pixel])', '(has_pixels Px_2 is a [onto_herelles.Pixel])', '(has_state bati_industrielle is a [onto_herelles.Zone_industrielle_commerciale_ou_tertiaire])', '(is_in zone_1 is a [onto_herelles.ZoneArticle1])', '(is_in zoneeau is a [onto_herelles.ZoneEau])']
Distance = 5

6
Assertions: ['(destine bati_industrielle is a [onto_herelles.Zone_industrielle_commerciale_ou_tertiaire])', '(has_pixels Px_1 is a [onto_herelles.Pixel])', '(has_pixels Px_2 is a [onto_herelles.Pixel])', '(has_state bati_industrielle is a [onto_herelles.Zone_industrielle_commerciale_ou_tertiaire])', '(is_in zone is a [onto_herelles.Zone])', '(is_in zone_z2 is a [onto_herelles.Zone_Z2])']
Distance = 5

7
Assertions: ['(destine bati_industrielle is a [onto_herelles.Zone_industrielle_commerciale_ou_tertiaire])', '(has_pixels Px_1 is a [onto_herelles.Pixel])', '(has_pixels Px_2 is a [onto_herelles.Pixel])', '(has_state bati_industrielle is a [onto_herelles.Zone_industrielle_commerciale_ou_tertiaire])', '(is_in zone is a [onto_herelles.Zone])', '(is_in zoneeau is a [onto_herelles.ZoneEau])']
Distance = 5

8
Assertions: ['(destine EA_1 is a [onto_herelles.Espaces_agricoles])', '(has_pixels Px_1 is a [onto_herelles.Pixel])', '(has_pixels Px_2 is a [onto_herelles.Pixel])', '(has_state bati_industrielle is a [onto_herelles.Zone_industrielle_commerciale_ou_tertiaire])', '(is_in zone_1 is a [onto_herelles.ZoneArticle1])', '(is_in zone_2 is a [onto_herelles.ZoneEA])']
Distance = 6

9
Assertions: ['(destine bati_activite is a [onto_herelles.Bati_activite])', '(has_pixels Px_1 is a [onto_herelles.Pixel])', '(has_pixels Px_2 is a [onto_herelles.Pixel])', '(has_state bati_industrielle is a [onto_herelles.Zone_industrielle_commerciale_ou_tertiaire])', '(is_in zone_1 is a [onto_herelles.ZoneArticle1])']
Distance = 6

10
Assertions: ['(destine bati_industrielle is a [onto_herelles.Zone_industrielle_commerciale_ou_tertiaire])', '(has_pixels Px_1 is a [onto_herelles.Pixel])', '(has_pixels Px_2 is a [onto_herelles.Pixel])', '(has_state bati_industrielle is a [onto_herelles.Zone_industrielle_commerciale_ou_tertiaire])', '(is_in zone is a [onto_herelles.Zone])']
Distance = 6

11
Assertions: ['(destine bâtiment_rural is a [onto_herelles.Bâtiment_rural])', '(has_pixels Px_1 is a [onto_herelles.Pixel])', '(has_pixels Px_2 is a [onto_herelles.Pixel])', '(has_state bati_industrielle is a [onto_herelles.Zone_industrielle_commerciale_ou_tertiaire])', '(is_in zone_1 is a [onto_herelles.ZoneArticle1])', '(is_in zone_1 is a [onto_herelles.ZoneArticle1])']
Distance = 6

12
Assertions: ['(destine bâtiment_rural is a [onto_herelles.Bâtiment_rural])', '(has_pixels Px_1 is a [onto_herelles.Pixel])', '(has_pixels Px_2 is a [onto_herelles.Pixel])', '(has_state bati_industrielle is a [onto_herelles.Zone_industrielle_commerciale_ou_tertiaire])', '(is_in zone_1 is a [onto_herelles.ZoneArticle1])', '(is_in zone_z2 is a [onto_herelles.Zone_Z2])']
Distance = 6

13
Assertions: ['(destine bâtiment_rural is a [onto_herelles.Bâtiment_rural])', '(has_pixels Px_1 is a [onto_herelles.Pixel])', '(has_pixels Px_2 is a [onto_herelles.Pixel])', '(has_state bati_industrielle is a [onto_herelles.Zone_industrielle_commerciale_ou_tertiaire])', '(is_in zone_1 is a [onto_herelles.ZoneArticle1])', '(is_in zoneeau is a [onto_herelles.ZoneEau])']
Distance = 6

14
Assertions: ['(destine serre is a [onto_herelles.Serre])', '(has_pixels Px_1 is a [onto_herelles.Pixel])', '(has_pixels Px_2 is a [onto_herelles.Pixel])', '(has_state bati_industrielle is a [onto_herelles.Zone_industrielle_commerciale_ou_tertiaire])', '(is_in zone_1 is a [onto_herelles.ZoneArticle1])', '(is_in zone_1 is a [onto_herelles.ZoneArticle1])']
Distance = 6

15
Assertions: ['(destine serre is a [onto_herelles.Serre])', '(has_pixels Px_1 is a [onto_herelles.Pixel])', '(has_pixels Px_2 is a [onto_herelles.Pixel])', '(has_state bati_industrielle is a [onto_herelles.Zone_industrielle_commerciale_ou_tertiaire])', '(is_in zone_1 is a [onto_herelles.ZoneArticle1])', '(is_in zone_z2 is a [onto_herelles.Zone_Z2])']
Distance = 6

16
Assertions: ['(destine serre is a [onto_herelles.Serre])', '(has_pixels Px_1 is a [onto_herelles.Pixel])', '(has_pixels Px_2 is a [onto_herelles.Pixel])', '(has_state bati_industrielle is a [onto_herelles.Zone_industrielle_commerciale_ou_tertiaire])', '(is_in zone_1 is a [onto_herelles.ZoneArticle1])', '(is_in zoneeau is a [onto_herelles.ZoneEau])']
Distance = 6

17
Assertions: ['(destine bati_industrielle is a [onto_herelles.Zone_industrielle_commerciale_ou_tertiaire])', '(has_pixels Px_1 is a [onto_herelles.Pixel])', '(has_pixels Px_2 is a [onto_herelles.Pixel])', '(has_state bati_industrielle is a [onto_herelles.Zone_industrielle_commerciale_ou_tertiaire])', '(is_in zone_z2 is a [onto_herelles.Zone_Z2])', '(is_in zone_z2 is a [onto_herelles.Zone_Z2])']
Distance = 6

18
Assertions: ['(destine bati_industrielle is a [onto_herelles.Zone_industrielle_commerciale_ou_tertiaire])', '(has_pixels Px_1 is a [onto_herelles.Pixel])', '(has_pixels Px_2 is a [onto_herelles.Pixel])', '(has_state bati_industrielle is a [onto_herelles.Zone_industrielle_commerciale_ou_tertiaire])', '(is_in zone_z2 is a [onto_herelles.Zone_Z2])', '(is_in zoneeau is a [onto_herelles.ZoneEau])']
Distance = 6

19
Assertions: ['(destine bati_industrielle is a [onto_herelles.Zone_industrielle_commerciale_ou_tertiaire])', '(has_pixels Px_1 is a [onto_herelles.Pixel])', '(has_pixels Px_2 is a [onto_herelles.Pixel])', '(has_state bati_industrielle is a [onto_herelles.Zone_industrielle_commerciale_ou_tertiaire])', '(is_in zoneeau is a [onto_herelles.ZoneEau])', '(is_in zoneeau is a [onto_herelles.ZoneEau])']
Distance = 6

20
Assertions: ['(destine bati_industrielle is a [onto_herelles.Zone_industrielle_commerciale_ou_tertiaire])', '(has_pixels Px_2 is a [onto_herelles.Pixel])', '(has_state bati_industrielle is a [onto_herelles.Zone_industrielle_commerciale_ou_tertiaire])', '(is_in zone is a [onto_herelles.Zone])', '(is_in zone is a [onto_herelles.Zone])']
Distance = 6

21
Assertions: ['(destine bati_industrielle is a [onto_herelles.Zone_industrielle_commerciale_ou_tertiaire])', '(has_pixels Px_1 is a [onto_herelles.Pixel])', '(has_state bati_industrielle is a [onto_herelles.Zone_industrielle_commerciale_ou_tertiaire])', '(is_in zone is a [onto_herelles.Zone])', '(is_in zone is a [onto_herelles.Zone])']
Distance = 6

22
Assertions: ['(destine bati_activite is a [onto_herelles.Bati_activite])', '(has_pixels Px_1 is a [onto_herelles.Pixel])', '(has_pixels Px_2 is a [onto_herelles.Pixel])', '(has_state bati_industrielle is a [onto_herelles.Zone_industrielle_commerciale_ou_tertiaire])', '(is_in zone is a [onto_herelles.Zone])', '(is_in zone_1 is a [onto_herelles.ZoneArticle1])']
Distance = 6

23
Assertions: ['(destine autre_vegetation_agricole is a [onto_herelles.Autre_vegetation_agricole])', '(has_pixels Px_1 is a [onto_herelles.Pixel])', '(has_pixels Px_2 is a [onto_herelles.Pixel])', '(has_state bati_industrielle is a [onto_herelles.Zone_industrielle_commerciale_ou_tertiaire])', '(is_in zone_1 is a [onto_herelles.ZoneArticle1])', '(is_in zone_2 is a [onto_herelles.ZoneEA])']
Distance = 7

24
Assertions: ['(destine parcelle_agricole is a [onto_herelles.Parcelle_agricole])', '(has_pixels Px_1 is a [onto_herelles.Pixel])', '(has_pixels Px_2 is a [onto_herelles.Pixel])', '(has_state bati_industrielle is a [onto_herelles.Zone_industrielle_commerciale_ou_tertiaire])', '(is_in zone_1 is a [onto_herelles.ZoneArticle1])', '(is_in zone_2 is a [onto_herelles.ZoneEA])']
Distance = 7

25
Assertions: ['(destine element_boise_agricole is a [onto_herelles.Element_boise_agricole])', '(has_pixels Px_1 is a [onto_herelles.Pixel])', '(has_pixels Px_2 is a [onto_herelles.Pixel])', '(has_state bati_industrielle is a [onto_herelles.Zone_industrielle_commerciale_ou_tertiaire])', '(is_in zone_1 is a [onto_herelles.ZoneArticle1])', '(is_in zone_2 is a [onto_herelles.ZoneEA])']
Distance = 7

26
Assertions: ['(destine state_geo is a [onto_herelles.State_Geo])', '(has_pixels Px_2 is a [onto_herelles.Pixel])', '(has_state bati_industrielle is a [onto_herelles.Zone_industrielle_commerciale_ou_tertiaire])', '(is_in zone_1 is a [onto_herelles.ZoneArticle1])', '(is_in zone_2 is a [onto_herelles.ZoneEA])']
Distance = 7

27
Assertions: ['(destine state_geo is a [onto_herelles.State_Geo])', '(has_pixels Px_1 is a [onto_herelles.Pixel])', '(has_state bati_industrielle is a [onto_herelles.Zone_industrielle_commerciale_ou_tertiaire])', '(is_in zone_1 is a [onto_herelles.ZoneArticle1])', '(is_in zone_2 is a [onto_herelles.ZoneEA])']
Distance = 7

28
Assertions: ['(destine state_geo is a [onto_herelles.State_Geo])', '(has_pixels Px_1 is a [onto_herelles.Pixel])', '(has_pixels Px_2 is a [onto_herelles.Pixel])', '(has_state bati_activite is a [onto_herelles.Bati_activite])', '(is_in zone_1 is a [onto_herelles.ZoneArticle1])', '(is_in zone_2 is a [onto_herelles.ZoneEA])']
Distance = 7

29
Assertions: ['(destine bati is a [onto_herelles.Bati])', '(has_pixels Px_1 is a [onto_herelles.Pixel])', '(has_pixels Px_2 is a [onto_herelles.Pixel])', '(has_state bati_industrielle is a [onto_herelles.Zone_industrielle_commerciale_ou_tertiaire])', '(is_in zone_1 is a [onto_herelles.ZoneArticle1])']
Distance = 7

30
Assertions: ['(destine bâtiment_rural is a [onto_herelles.Bâtiment_rural])', '(has_pixels Px_1 is a [onto_herelles.Pixel])', '(has_pixels Px_2 is a [onto_herelles.Pixel])', '(has_state bati_industrielle is a [onto_herelles.Zone_industrielle_commerciale_ou_tertiaire])', '(is_in zone_1 is a [onto_herelles.ZoneArticle1])']
Distance = 7

31
Assertions: ['(destine serre is a [onto_herelles.Serre])', '(has_pixels Px_1 is a [onto_herelles.Pixel])', '(has_pixels Px_2 is a [onto_herelles.Pixel])', '(has_state bati_industrielle is a [onto_herelles.Zone_industrielle_commerciale_ou_tertiaire])', '(is_in zone_1 is a [onto_herelles.ZoneArticle1])']
Distance = 7

32
Assertions: ['(destine bati_industrielle is a [onto_herelles.Zone_industrielle_commerciale_ou_tertiaire])', '(has_pixels Px_1 is a [onto_herelles.Pixel])', '(has_pixels Px_2 is a [onto_herelles.Pixel])', '(has_state bati_industrielle is a [onto_herelles.Zone_industrielle_commerciale_ou_tertiaire])', '(is_in zone_z2 is a [onto_herelles.Zone_Z2])']
Distance = 7

33
Assertions: ['(destine bati_industrielle is a [onto_herelles.Zone_industrielle_commerciale_ou_tertiaire])', '(has_pixels Px_1 is a [onto_herelles.Pixel])', '(has_pixels Px_2 is a [onto_herelles.Pixel])', '(has_state bati_industrielle is a [onto_herelles.Zone_industrielle_commerciale_ou_tertiaire])', '(is_in zoneeau is a [onto_herelles.ZoneEau])']
Distance = 7

34
Assertions: ['(destine bati_activite is a [onto_herelles.Bati_activite])', '(has_pixels Px_2 is a [onto_herelles.Pixel])', '(has_state bati_industrielle is a [onto_herelles.Zone_industrielle_commerciale_ou_tertiaire])', '(is_in zone_1 is a [onto_herelles.ZoneArticle1])', '(is_in zone_1 is a [onto_herelles.ZoneArticle1])']
Distance = 7

35
Assertions: ['(destine bati_activite is a [onto_herelles.Bati_activite])', '(has_pixels Px_2 is a [onto_herelles.Pixel])', '(has_state bati_industrielle is a [onto_herelles.Zone_industrielle_commerciale_ou_tertiaire])', '(is_in zone_1 is a [onto_herelles.ZoneArticle1])', '(is_in zone_z2 is a [onto_herelles.Zone_Z2])']
Distance = 7

36
Assertions: ['(destine bati_activite is a [onto_herelles.Bati_activite])', '(has_pixels Px_2 is a [onto_herelles.Pixel])', '(has_state bati_industrielle is a [onto_herelles.Zone_industrielle_commerciale_ou_tertiaire])', '(is_in zone_1 is a [onto_herelles.ZoneArticle1])', '(is_in zoneeau is a [onto_herelles.ZoneEau])']
Distance = 7

37
Assertions: ['(destine bati_industrielle is a [onto_herelles.Zone_industrielle_commerciale_ou_tertiaire])', '(has_pixels Px_2 is a [onto_herelles.Pixel])', '(has_state bati_industrielle is a [onto_herelles.Zone_industrielle_commerciale_ou_tertiaire])', '(is_in zone is a [onto_herelles.Zone])', '(is_in zone_z2 is a [onto_herelles.Zone_Z2])']
Distance = 7

38
Assertions: ['(destine bati_industrielle is a [onto_herelles.Zone_industrielle_commerciale_ou_tertiaire])', '(has_pixels Px_2 is a [onto_herelles.Pixel])', '(has_state bati_industrielle is a [onto_herelles.Zone_industrielle_commerciale_ou_tertiaire])', '(is_in zone is a [onto_herelles.Zone])', '(is_in zoneeau is a [onto_herelles.ZoneEau])']
Distance = 7

39
Assertions: ['(destine bati_activite is a [onto_herelles.Bati_activite])', '(has_pixels Px_1 is a [onto_herelles.Pixel])', '(has_state bati_industrielle is a [onto_herelles.Zone_industrielle_commerciale_ou_tertiaire])', '(is_in zone_1 is a [onto_herelles.ZoneArticle1])', '(is_in zone_1 is a [onto_herelles.ZoneArticle1])']
Distance = 7

40
Assertions: ['(destine bati_activite is a [onto_herelles.Bati_activite])', '(has_pixels Px_1 is a [onto_herelles.Pixel])', '(has_state bati_industrielle is a [onto_herelles.Zone_industrielle_commerciale_ou_tertiaire])', '(is_in zone_1 is a [onto_herelles.ZoneArticle1])', '(is_in zone_z2 is a [onto_herelles.Zone_Z2])']
Distance = 7

41
Assertions: ['(destine bati_activite is a [onto_herelles.Bati_activite])', '(has_pixels Px_1 is a [onto_herelles.Pixel])', '(has_state bati_industrielle is a [onto_herelles.Zone_industrielle_commerciale_ou_tertiaire])', '(is_in zone_1 is a [onto_herelles.ZoneArticle1])', '(is_in zoneeau is a [onto_herelles.ZoneEau])']
Distance = 7

42
Assertions: ['(destine bati_industrielle is a [onto_herelles.Zone_industrielle_commerciale_ou_tertiaire])', '(has_pixels Px_1 is a [onto_herelles.Pixel])', '(has_state bati_industrielle is a [onto_herelles.Zone_industrielle_commerciale_ou_tertiaire])', '(is_in zone is a [onto_herelles.Zone])', '(is_in zone_z2 is a [onto_herelles.Zone_Z2])']
Distance = 7

43
Assertions: ['(destine bati_industrielle is a [onto_herelles.Zone_industrielle_commerciale_ou_tertiaire])', '(has_pixels Px_1 is a [onto_herelles.Pixel])', '(has_state bati_industrielle is a [onto_herelles.Zone_industrielle_commerciale_ou_tertiaire])', '(is_in zone is a [onto_herelles.Zone])', '(is_in zoneeau is a [onto_herelles.ZoneEau])']
Distance = 7

44
Assertions: ['(destine bâtiment_rural is a [onto_herelles.Bâtiment_rural])', '(has_pixels Px_1 is a [onto_herelles.Pixel])', '(has_pixels Px_2 is a [onto_herelles.Pixel])', '(has_state bati_industrielle is a [onto_herelles.Zone_industrielle_commerciale_ou_tertiaire])', '(is_in zone is a [onto_herelles.Zone])', '(is_in zone_1 is a [onto_herelles.ZoneArticle1])']
Distance = 7

45
Assertions: ['(destine serre is a [onto_herelles.Serre])', '(has_pixels Px_1 is a [onto_herelles.Pixel])', '(has_pixels Px_2 is a [onto_herelles.Pixel])', '(has_state bati_industrielle is a [onto_herelles.Zone_industrielle_commerciale_ou_tertiaire])', '(is_in zone is a [onto_herelles.Zone])', '(is_in zone_1 is a [onto_herelles.ZoneArticle1])']
Distance = 7

46
Assertions: ['(destine haie is a [onto_herelles.Haie])', '(has_pixels Px_1 is a [onto_herelles.Pixel])', '(has_pixels Px_2 is a [onto_herelles.Pixel])', '(has_state bati_industrielle is a [onto_herelles.Zone_industrielle_commerciale_ou_tertiaire])', '(is_in zone_1 is a [onto_herelles.ZoneArticle1])', '(is_in zone_2 is a [onto_herelles.ZoneEA])']
Distance = 8

47
Assertions: ['(destine vigne is a [onto_herelles.Vigne])', '(has_pixels Px_1 is a [onto_herelles.Pixel])', '(has_pixels Px_2 is a [onto_herelles.Pixel])', '(has_state bati_industrielle is a [onto_herelles.Zone_industrielle_commerciale_ou_tertiaire])', '(is_in zone_1 is a [onto_herelles.ZoneArticle1])', '(is_in zone_2 is a [onto_herelles.ZoneEA])']
Distance = 8

48
Assertions: ['(destine surface_herbeuse_agricole is a [onto_herelles.Surface_herbeuse_agricole])', '(has_pixels Px_1 is a [onto_herelles.Pixel])', '(has_pixels Px_2 is a [onto_herelles.Pixel])', '(has_state bati_industrielle is a [onto_herelles.Zone_industrielle_commerciale_ou_tertiaire])', '(is_in zone_1 is a [onto_herelles.ZoneArticle1])', '(is_in zone_2 is a [onto_herelles.ZoneEA])']
Distance = 8

49
Assertions: ['(destine autres_cultures is a [onto_herelles.Autres_cultures])', '(has_pixels Px_1 is a [onto_herelles.Pixel])', '(has_pixels Px_2 is a [onto_herelles.Pixel])', '(has_state bati_industrielle is a [onto_herelles.Zone_industrielle_commerciale_ou_tertiaire])', '(is_in zone_1 is a [onto_herelles.ZoneArticle1])', '(is_in zone_2 is a [onto_herelles.ZoneEA])']
Distance = 8

50
Assertions: ['(destine verger is a [onto_herelles.Verger])', '(has_pixels Px_1 is a [onto_herelles.Pixel])', '(has_pixels Px_2 is a [onto_herelles.Pixel])', '(has_state bati_industrielle is a [onto_herelles.Zone_industrielle_commerciale_ou_tertiaire])', '(is_in zone_1 is a [onto_herelles.ZoneArticle1])', '(is_in zone_2 is a [onto_herelles.ZoneEA])']
Distance = 8

51
Assertions: ['(destine groupe_darbres_agricole_sylviculture is a [onto_herelles.Groupe_darbres_agricole_sylviculture])', '(has_pixels Px_1 is a [onto_herelles.Pixel])', '(has_pixels Px_2 is a [onto_herelles.Pixel])', '(has_state bati_industrielle is a [onto_herelles.Zone_industrielle_commerciale_ou_tertiaire])', '(is_in zone_1 is a [onto_herelles.ZoneArticle1])', '(is_in zone_2 is a [onto_herelles.ZoneEA])']
Distance = 8

52
Assertions: ['(destine alignement_darbres_agricole is a [onto_herelles.Alignement_darbres_agricole])', '(has_pixels Px_1 is a [onto_herelles.Pixel])', '(has_pixels Px_2 is a [onto_herelles.Pixel])', '(has_state bati_industrielle is a [onto_herelles.Zone_industrielle_commerciale_ou_tertiaire])', '(is_in zone_1 is a [onto_herelles.ZoneArticle1])', '(is_in zone_2 is a [onto_herelles.ZoneEA])']
Distance = 8

53
Assertions: ['(destine EA_1 is a [onto_herelles.Espaces_agricoles])', '(has_pixels Px_2 is a [onto_herelles.Pixel])', '(has_state bati_industrielle is a [onto_herelles.Zone_industrielle_commerciale_ou_tertiaire])', '(is_in zone_1 is a [onto_herelles.ZoneArticle1])', '(is_in zone_2 is a [onto_herelles.ZoneEA])']
Distance = 8

54
Assertions: ['(destine EA_1 is a [onto_herelles.Espaces_agricoles])', '(has_pixels Px_1 is a [onto_herelles.Pixel])', '(has_state bati_industrielle is a [onto_herelles.Zone_industrielle_commerciale_ou_tertiaire])', '(is_in zone_1 is a [onto_herelles.ZoneArticle1])', '(is_in zone_2 is a [onto_herelles.ZoneEA])']
Distance = 8

55
Assertions: ['(destine EA_1 is a [onto_herelles.Espaces_agricoles])', '(has_pixels Px_1 is a [onto_herelles.Pixel])', '(has_pixels Px_2 is a [onto_herelles.Pixel])', '(has_state bati_activite is a [onto_herelles.Bati_activite])', '(is_in zone_1 is a [onto_herelles.ZoneArticle1])', '(is_in zone_2 is a [onto_herelles.ZoneEA])']
Distance = 8

56
Assertions: ['(destine state_geo is a [onto_herelles.State_Geo])', '(has_pixels Px_1 is a [onto_herelles.Pixel])', '(has_pixels Px_2 is a [onto_herelles.Pixel])', '(has_state bâtiment_rural is a [onto_herelles.Bâtiment_rural])', '(is_in zone_1 is a [onto_herelles.ZoneArticle1])', '(is_in zone_2 is a [onto_herelles.ZoneEA])']
Distance = 8

57
Assertions: ['(destine state_geo is a [onto_herelles.State_Geo])', '(has_pixels Px_1 is a [onto_herelles.Pixel])', '(has_pixels Px_2 is a [onto_herelles.Pixel])', '(has_state serre is a [onto_herelles.Serre])', '(is_in zone_1 is a [onto_herelles.ZoneArticle1])', '(is_in zone_2 is a [onto_herelles.ZoneEA])']
Distance = 8

58
Assertions: ['(destine bati_industrielle is a [onto_herelles.Zone_industrielle_commerciale_ou_tertiaire])', '(has_pixels Px_1 is a [onto_herelles.Pixel])', '(has_pixels Px_2 is a [onto_herelles.Pixel])', '(has_state bati_industrielle is a [onto_herelles.Zone_industrielle_commerciale_ou_tertiaire])']
Distance = 8

59
Assertions: ['(destine bati_residentiel is a [onto_herelles.Bati_residentiel])', '(has_pixels Px_1 is a [onto_herelles.Pixel])', '(has_pixels Px_2 is a [onto_herelles.Pixel])', '(has_state bati_industrielle is a [onto_herelles.Zone_industrielle_commerciale_ou_tertiaire])', '(is_in zone_1 is a [onto_herelles.ZoneArticle1])']
Distance = 8

60
Assertions: ['(destine autre_bati is a [onto_herelles.Autre_Bati])', '(has_pixels Px_1 is a [onto_herelles.Pixel])', '(has_pixels Px_2 is a [onto_herelles.Pixel])', '(has_state bati_industrielle is a [onto_herelles.Zone_industrielle_commerciale_ou_tertiaire])', '(is_in zone_1 is a [onto_herelles.ZoneArticle1])']
Distance = 8

61
Assertions: ['(destine bati_activite is a [onto_herelles.Bati_activite])', '(has_pixels Px_2 is a [onto_herelles.Pixel])', '(has_state bati_industrielle is a [onto_herelles.Zone_industrielle_commerciale_ou_tertiaire])', '(is_in zone_1 is a [onto_herelles.ZoneArticle1])']
Distance = 8

62
Assertions: ['(destine bati_industrielle is a [onto_herelles.Zone_industrielle_commerciale_ou_tertiaire])', '(has_pixels Px_2 is a [onto_herelles.Pixel])', '(has_state bati_industrielle is a [onto_herelles.Zone_industrielle_commerciale_ou_tertiaire])', '(is_in zone is a [onto_herelles.Zone])']
Distance = 8

63
Assertions: ['(destine bati_activite is a [onto_herelles.Bati_activite])', '(has_pixels Px_1 is a [onto_herelles.Pixel])', '(has_state bati_industrielle is a [onto_herelles.Zone_industrielle_commerciale_ou_tertiaire])', '(is_in zone_1 is a [onto_herelles.ZoneArticle1])']
Distance = 8

64
Assertions: ['(destine bati_industrielle is a [onto_herelles.Zone_industrielle_commerciale_ou_tertiaire])', '(has_pixels Px_1 is a [onto_herelles.Pixel])', '(has_state bati_industrielle is a [onto_herelles.Zone_industrielle_commerciale_ou_tertiaire])', '(is_in zone is a [onto_herelles.Zone])']
Distance = 8

65
Assertions: ['(destine bati_activite is a [onto_herelles.Bati_activite])', '(has_pixels Px_1 is a [onto_herelles.Pixel])', '(has_pixels Px_2 is a [onto_herelles.Pixel])', '(has_state bati_activite is a [onto_herelles.Bati_activite])', '(is_in zone_1 is a [onto_herelles.ZoneArticle1])']
Distance = 8

66
Assertions: ['(destine bati_industrielle is a [onto_herelles.Zone_industrielle_commerciale_ou_tertiaire])', '(has_pixels Px_1 is a [onto_herelles.Pixel])', '(has_pixels Px_2 is a [onto_herelles.Pixel])', '(has_state bati_activite is a [onto_herelles.Bati_activite])', '(is_in zone is a [onto_herelles.Zone])']
Distance = 8

67
Assertions: ['(destine bâtiment_rural is a [onto_herelles.Bâtiment_rural])', '(has_pixels Px_2 is a [onto_herelles.Pixel])', '(has_state bati_industrielle is a [onto_herelles.Zone_industrielle_commerciale_ou_tertiaire])', '(is_in zone_1 is a [onto_herelles.ZoneArticle1])', '(is_in zone_1 is a [onto_herelles.ZoneArticle1])']
Distance = 8

68
Assertions: ['(destine bâtiment_rural is a [onto_herelles.Bâtiment_rural])', '(has_pixels Px_2 is a [onto_herelles.Pixel])', '(has_state bati_industrielle is a [onto_herelles.Zone_industrielle_commerciale_ou_tertiaire])', '(is_in zone_1 is a [onto_herelles.ZoneArticle1])', '(is_in zone_z2 is a [onto_herelles.Zone_Z2])']
Distance = 8

69
Assertions: ['(destine bâtiment_rural is a [onto_herelles.Bâtiment_rural])', '(has_pixels Px_2 is a [onto_herelles.Pixel])', '(has_state bati_industrielle is a [onto_herelles.Zone_industrielle_commerciale_ou_tertiaire])', '(is_in zone_1 is a [onto_herelles.ZoneArticle1])', '(is_in zoneeau is a [onto_herelles.ZoneEau])']
Distance = 8

70
Assertions: ['(destine serre is a [onto_herelles.Serre])', '(has_pixels Px_2 is a [onto_herelles.Pixel])', '(has_state bati_industrielle is a [onto_herelles.Zone_industrielle_commerciale_ou_tertiaire])', '(is_in zone_1 is a [onto_herelles.ZoneArticle1])', '(is_in zone_1 is a [onto_herelles.ZoneArticle1])']
Distance = 8

71
Assertions: ['(destine serre is a [onto_herelles.Serre])', '(has_pixels Px_2 is a [onto_herelles.Pixel])', '(has_state bati_industrielle is a [onto_herelles.Zone_industrielle_commerciale_ou_tertiaire])', '(is_in zone_1 is a [onto_herelles.ZoneArticle1])', '(is_in zone_z2 is a [onto_herelles.Zone_Z2])']
Distance = 8

72
Assertions: ['(destine serre is a [onto_herelles.Serre])', '(has_pixels Px_2 is a [onto_herelles.Pixel])', '(has_state bati_industrielle is a [onto_herelles.Zone_industrielle_commerciale_ou_tertiaire])', '(is_in zone_1 is a [onto_herelles.ZoneArticle1])', '(is_in zoneeau is a [onto_herelles.ZoneEau])']
Distance = 8

73
Assertions: ['(destine bati_industrielle is a [onto_herelles.Zone_industrielle_commerciale_ou_tertiaire])', '(has_pixels Px_2 is a [onto_herelles.Pixel])', '(has_state bati_industrielle is a [onto_herelles.Zone_industrielle_commerciale_ou_tertiaire])', '(is_in zone_z2 is a [onto_herelles.Zone_Z2])', '(is_in zone_z2 is a [onto_herelles.Zone_Z2])']
Distance = 8

74
Assertions: ['(destine bati_industrielle is a [onto_herelles.Zone_industrielle_commerciale_ou_tertiaire])', '(has_pixels Px_2 is a [onto_herelles.Pixel])', '(has_state bati_industrielle is a [onto_herelles.Zone_industrielle_commerciale_ou_tertiaire])', '(is_in zone_z2 is a [onto_herelles.Zone_Z2])', '(is_in zoneeau is a [onto_herelles.ZoneEau])']
Distance = 8

75
Assertions: ['(destine bati_industrielle is a [onto_herelles.Zone_industrielle_commerciale_ou_tertiaire])', '(has_pixels Px_2 is a [onto_herelles.Pixel])', '(has_state bati_industrielle is a [onto_herelles.Zone_industrielle_commerciale_ou_tertiaire])', '(is_in zoneeau is a [onto_herelles.ZoneEau])', '(is_in zoneeau is a [onto_herelles.ZoneEau])']
Distance = 8

76
Assertions: ['(destine bâtiment_rural is a [onto_herelles.Bâtiment_rural])', '(has_pixels Px_1 is a [onto_herelles.Pixel])', '(has_state bati_industrielle is a [onto_herelles.Zone_industrielle_commerciale_ou_tertiaire])', '(is_in zone_1 is a [onto_herelles.ZoneArticle1])', '(is_in zone_1 is a [onto_herelles.ZoneArticle1])']
Distance = 8

77
Assertions: ['(destine bâtiment_rural is a [onto_herelles.Bâtiment_rural])', '(has_pixels Px_1 is a [onto_herelles.Pixel])', '(has_state bati_industrielle is a [onto_herelles.Zone_industrielle_commerciale_ou_tertiaire])', '(is_in zone_1 is a [onto_herelles.ZoneArticle1])', '(is_in zone_z2 is a [onto_herelles.Zone_Z2])']
Distance = 8

78
Assertions: ['(destine bâtiment_rural is a [onto_herelles.Bâtiment_rural])', '(has_pixels Px_1 is a [onto_herelles.Pixel])', '(has_state bati_industrielle is a [onto_herelles.Zone_industrielle_commerciale_ou_tertiaire])', '(is_in zone_1 is a [onto_herelles.ZoneArticle1])', '(is_in zoneeau is a [onto_herelles.ZoneEau])']
Distance = 8

79
Assertions: ['(destine serre is a [onto_herelles.Serre])', '(has_pixels Px_1 is a [onto_herelles.Pixel])', '(has_state bati_industrielle is a [onto_herelles.Zone_industrielle_commerciale_ou_tertiaire])', '(is_in zone_1 is a [onto_herelles.ZoneArticle1])', '(is_in zone_1 is a [onto_herelles.ZoneArticle1])']
Distance = 8

80
Assertions: ['(destine serre is a [onto_herelles.Serre])', '(has_pixels Px_1 is a [onto_herelles.Pixel])', '(has_state bati_industrielle is a [onto_herelles.Zone_industrielle_commerciale_ou_tertiaire])', '(is_in zone_1 is a [onto_herelles.ZoneArticle1])', '(is_in zone_z2 is a [onto_herelles.Zone_Z2])']
Distance = 8

81
Assertions: ['(destine serre is a [onto_herelles.Serre])', '(has_pixels Px_1 is a [onto_herelles.Pixel])', '(has_state bati_industrielle is a [onto_herelles.Zone_industrielle_commerciale_ou_tertiaire])', '(is_in zone_1 is a [onto_herelles.ZoneArticle1])', '(is_in zoneeau is a [onto_herelles.ZoneEau])']
Distance = 8

82
Assertions: ['(destine bati_industrielle is a [onto_herelles.Zone_industrielle_commerciale_ou_tertiaire])', '(has_pixels Px_1 is a [onto_herelles.Pixel])', '(has_state bati_industrielle is a [onto_herelles.Zone_industrielle_commerciale_ou_tertiaire])', '(is_in zone_z2 is a [onto_herelles.Zone_Z2])', '(is_in zone_z2 is a [onto_herelles.Zone_Z2])']
Distance = 8

83
Assertions: ['(destine bati_industrielle is a [onto_herelles.Zone_industrielle_commerciale_ou_tertiaire])', '(has_pixels Px_1 is a [onto_herelles.Pixel])', '(has_state bati_industrielle is a [onto_herelles.Zone_industrielle_commerciale_ou_tertiaire])', '(is_in zone_z2 is a [onto_herelles.Zone_Z2])', '(is_in zoneeau is a [onto_herelles.ZoneEau])']
Distance = 8

84
Assertions: ['(destine bati_industrielle is a [onto_herelles.Zone_industrielle_commerciale_ou_tertiaire])', '(has_pixels Px_1 is a [onto_herelles.Pixel])', '(has_state bati_industrielle is a [onto_herelles.Zone_industrielle_commerciale_ou_tertiaire])', '(is_in zoneeau is a [onto_herelles.ZoneEau])', '(is_in zoneeau is a [onto_herelles.ZoneEau])']
Distance = 8

85
Assertions: ['(destine bati_industrielle is a [onto_herelles.Zone_industrielle_commerciale_ou_tertiaire])', '(has_state bati_industrielle is a [onto_herelles.Zone_industrielle_commerciale_ou_tertiaire])', '(is_in zone is a [onto_herelles.Zone])', '(is_in zone is a [onto_herelles.Zone])']
Distance = 8

86
Assertions: ['(destine bati_activite is a [onto_herelles.Bati_activite])', '(has_pixels Px_1 is a [onto_herelles.Pixel])', '(has_state bati_industrielle is a [onto_herelles.Zone_industrielle_commerciale_ou_tertiaire])', '(is_in zone is a [onto_herelles.Zone])', '(is_in zone_1 is a [onto_herelles.ZoneArticle1])']
Distance = 8

87
Assertions: ['(destine bati_activite is a [onto_herelles.Bati_activite])', '(has_pixels Px_2 is a [onto_herelles.Pixel])', '(has_state bati_industrielle is a [onto_herelles.Zone_industrielle_commerciale_ou_tertiaire])', '(is_in zone is a [onto_herelles.Zone])', '(is_in zone_1 is a [onto_herelles.ZoneArticle1])']
Distance = 8

88
Assertions: ['(destine autre_vegetation_agricole is a [onto_herelles.Autre_vegetation_agricole])', '(has_pixels Px_2 is a [onto_herelles.Pixel])', '(has_state bati_industrielle is a [onto_herelles.Zone_industrielle_commerciale_ou_tertiaire])', '(is_in zone_1 is a [onto_herelles.ZoneArticle1])', '(is_in zone_2 is a [onto_herelles.ZoneEA])']
Distance = 9

89
Assertions: ['(destine parcelle_agricole is a [onto_herelles.Parcelle_agricole])', '(has_pixels Px_2 is a [onto_herelles.Pixel])', '(has_state bati_industrielle is a [onto_herelles.Zone_industrielle_commerciale_ou_tertiaire])', '(is_in zone_1 is a [onto_herelles.ZoneArticle1])', '(is_in zone_2 is a [onto_herelles.ZoneEA])']
Distance = 9

90
Assertions: ['(destine element_boise_agricole is a [onto_herelles.Element_boise_agricole])', '(has_pixels Px_2 is a [onto_herelles.Pixel])', '(has_state bati_industrielle is a [onto_herelles.Zone_industrielle_commerciale_ou_tertiaire])', '(is_in zone_1 is a [onto_herelles.ZoneArticle1])', '(is_in zone_2 is a [onto_herelles.ZoneEA])']
Distance = 9

91
Assertions: ['(destine autre_vegetation_agricole is a [onto_herelles.Autre_vegetation_agricole])', '(has_pixels Px_1 is a [onto_herelles.Pixel])', '(has_state bati_industrielle is a [onto_herelles.Zone_industrielle_commerciale_ou_tertiaire])', '(is_in zone_1 is a [onto_herelles.ZoneArticle1])', '(is_in zone_2 is a [onto_herelles.ZoneEA])']
Distance = 9

92
Assertions: ['(destine parcelle_agricole is a [onto_herelles.Parcelle_agricole])', '(has_pixels Px_1 is a [onto_herelles.Pixel])', '(has_state bati_industrielle is a [onto_herelles.Zone_industrielle_commerciale_ou_tertiaire])', '(is_in zone_1 is a [onto_herelles.ZoneArticle1])', '(is_in zone_2 is a [onto_herelles.ZoneEA])']
Distance = 9

93
Assertions: ['(destine element_boise_agricole is a [onto_herelles.Element_boise_agricole])', '(has_pixels Px_1 is a [onto_herelles.Pixel])', '(has_state bati_industrielle is a [onto_herelles.Zone_industrielle_commerciale_ou_tertiaire])', '(is_in zone_1 is a [onto_herelles.ZoneArticle1])', '(is_in zone_2 is a [onto_herelles.ZoneEA])']
Distance = 9

94
Assertions: ['(destine autre_vegetation_agricole is a [onto_herelles.Autre_vegetation_agricole])', '(has_pixels Px_1 is a [onto_herelles.Pixel])', '(has_pixels Px_2 is a [onto_herelles.Pixel])', '(has_state bati_activite is a [onto_herelles.Bati_activite])', '(is_in zone_1 is a [onto_herelles.ZoneArticle1])', '(is_in zone_2 is a [onto_herelles.ZoneEA])']
Distance = 9

95
Assertions: ['(destine parcelle_agricole is a [onto_herelles.Parcelle_agricole])', '(has_pixels Px_1 is a [onto_herelles.Pixel])', '(has_pixels Px_2 is a [onto_herelles.Pixel])', '(has_state bati_activite is a [onto_herelles.Bati_activite])', '(is_in zone_1 is a [onto_herelles.ZoneArticle1])', '(is_in zone_2 is a [onto_herelles.ZoneEA])']
Distance = 9

96
Assertions: ['(destine element_boise_agricole is a [onto_herelles.Element_boise_agricole])', '(has_pixels Px_1 is a [onto_herelles.Pixel])', '(has_pixels Px_2 is a [onto_herelles.Pixel])', '(has_state bati_activite is a [onto_herelles.Bati_activite])', '(is_in zone_1 is a [onto_herelles.ZoneArticle1])', '(is_in zone_2 is a [onto_herelles.ZoneEA])']
Distance = 9

97
Assertions: ['(destine EA_1 is a [onto_herelles.Espaces_agricoles])', '(has_pixels Px_1 is a [onto_herelles.Pixel])', '(has_pixels Px_2 is a [onto_herelles.Pixel])', '(has_state bâtiment_rural is a [onto_herelles.Bâtiment_rural])', '(is_in zone_1 is a [onto_herelles.ZoneArticle1])', '(is_in zone_2 is a [onto_herelles.ZoneEA])']
Distance = 9

98
Assertions: ['(destine EA_1 is a [onto_herelles.Espaces_agricoles])', '(has_pixels Px_1 is a [onto_herelles.Pixel])', '(has_pixels Px_2 is a [onto_herelles.Pixel])', '(has_state serre is a [onto_herelles.Serre])', '(is_in zone_1 is a [onto_herelles.ZoneArticle1])', '(is_in zone_2 is a [onto_herelles.ZoneEA])']
Distance = 9

99
Assertions: ['(destine state_geo is a [onto_herelles.State_Geo])', '(has_pixels Px_1 is a [onto_herelles.Pixel])', '(has_pixels Px_2 is a [onto_herelles.Pixel])', '(has_state bati_industrielle is a [onto_herelles.Zone_industrielle_commerciale_ou_tertiaire])', '(is_in zone_2 is a [onto_herelles.ZoneEA])']
Distance = 9

100
Assertions: ['(destine tu_continu is a [onto_herelles.TU_continu])', '(has_pixels Px_1 is a [onto_herelles.Pixel])', '(has_pixels Px_2 is a [onto_herelles.Pixel])', '(has_state bati_industrielle is a [onto_herelles.Zone_industrielle_commerciale_ou_tertiaire])', '(is_in zone_1 is a [onto_herelles.ZoneArticle1])']
Distance = 9

101
Assertions: ['(destine tu_discontinu is a [onto_herelles.TU_discontinu])', '(has_pixels Px_1 is a [onto_herelles.Pixel])', '(has_pixels Px_2 is a [onto_herelles.Pixel])', '(has_state bati_industrielle is a [onto_herelles.Zone_industrielle_commerciale_ou_tertiaire])', '(is_in zone_1 is a [onto_herelles.ZoneArticle1])']
Distance = 9

102
Assertions: ['(destine state_geo is a [onto_herelles.State_Geo])', '(has_state bati_industrielle is a [onto_herelles.Zone_industrielle_commerciale_ou_tertiaire])', '(is_in zone_1 is a [onto_herelles.ZoneArticle1])', '(is_in zone_2 is a [onto_herelles.ZoneEA])']
Distance = 9

103
Assertions: ['(destine state_geo is a [onto_herelles.State_Geo])', '(has_pixels Px_2 is a [onto_herelles.Pixel])', '(has_state bati_activite is a [onto_herelles.Bati_activite])', '(is_in zone_1 is a [onto_herelles.ZoneArticle1])', '(is_in zone_2 is a [onto_herelles.ZoneEA])']
Distance = 9

104
Assertions: ['(destine state_geo is a [onto_herelles.State_Geo])', '(has_pixels Px_1 is a [onto_herelles.Pixel])', '(has_state bati_activite is a [onto_herelles.Bati_activite])', '(is_in zone_1 is a [onto_herelles.ZoneArticle1])', '(is_in zone_2 is a [onto_herelles.ZoneEA])']
Distance = 9

105
Assertions: ['(destine bati is a [onto_herelles.Bati])', '(has_pixels Px_2 is a [onto_herelles.Pixel])', '(has_state bati_industrielle is a [onto_herelles.Zone_industrielle_commerciale_ou_tertiaire])', '(is_in zone_1 is a [onto_herelles.ZoneArticle1])']
Distance = 9

106
Assertions: ['(destine bâtiment_rural is a [onto_herelles.Bâtiment_rural])', '(has_pixels Px_2 is a [onto_herelles.Pixel])', '(has_state bati_industrielle is a [onto_herelles.Zone_industrielle_commerciale_ou_tertiaire])', '(is_in zone_1 is a [onto_herelles.ZoneArticle1])']
Distance = 9

107
Assertions: ['(destine serre is a [onto_herelles.Serre])', '(has_pixels Px_2 is a [onto_herelles.Pixel])', '(has_state bati_industrielle is a [onto_herelles.Zone_industrielle_commerciale_ou_tertiaire])', '(is_in zone_1 is a [onto_herelles.ZoneArticle1])']
Distance = 9

108
Assertions: ['(destine bati is a [onto_herelles.Bati])', '(has_pixels Px_1 is a [onto_herelles.Pixel])', '(has_state bati_industrielle is a [onto_herelles.Zone_industrielle_commerciale_ou_tertiaire])', '(is_in zone_1 is a [onto_herelles.ZoneArticle1])']
Distance = 9

109
Assertions: ['(destine bâtiment_rural is a [onto_herelles.Bâtiment_rural])', '(has_pixels Px_1 is a [onto_herelles.Pixel])', '(has_state bati_industrielle is a [onto_herelles.Zone_industrielle_commerciale_ou_tertiaire])', '(is_in zone_1 is a [onto_herelles.ZoneArticle1])']
Distance = 9

110
Assertions: ['(destine serre is a [onto_herelles.Serre])', '(has_pixels Px_1 is a [onto_herelles.Pixel])', '(has_state bati_industrielle is a [onto_herelles.Zone_industrielle_commerciale_ou_tertiaire])', '(is_in zone_1 is a [onto_herelles.ZoneArticle1])']
Distance = 9

111
Assertions: ['(destine bati_activite is a [onto_herelles.Bati_activite])', '(has_pixels Px_1 is a [onto_herelles.Pixel])', '(has_pixels Px_2 is a [onto_herelles.Pixel])', '(has_state bâtiment_rural is a [onto_herelles.Bâtiment_rural])', '(is_in zone_1 is a [onto_herelles.ZoneArticle1])']
Distance = 9

112
Assertions: ['(destine bati_activite is a [onto_herelles.Bati_activite])', '(has_pixels Px_1 is a [onto_herelles.Pixel])', '(has_pixels Px_2 is a [onto_herelles.Pixel])', '(has_state serre is a [onto_herelles.Serre])', '(is_in zone_1 is a [onto_herelles.ZoneArticle1])']
Distance = 9

113
Assertions: ['(destine bâtiment_rural is a [onto_herelles.Bâtiment_rural])', '(has_pixels Px_1 is a [onto_herelles.Pixel])', '(has_pixels Px_2 is a [onto_herelles.Pixel])', '(has_state bati_activite is a [onto_herelles.Bati_activite])', '(is_in zone_1 is a [onto_herelles.ZoneArticle1])']
Distance = 9

114
Assertions: ['(destine serre is a [onto_herelles.Serre])', '(has_pixels Px_1 is a [onto_herelles.Pixel])', '(has_pixels Px_2 is a [onto_herelles.Pixel])', '(has_state bati_activite is a [onto_herelles.Bati_activite])', '(is_in zone_1 is a [onto_herelles.ZoneArticle1])']
Distance = 9

115
Assertions: ['(destine bati_industrielle is a [onto_herelles.Zone_industrielle_commerciale_ou_tertiaire])', '(has_pixels Px_1 is a [onto_herelles.Pixel])', '(has_pixels Px_2 is a [onto_herelles.Pixel])', '(has_state bâtiment_rural is a [onto_herelles.Bâtiment_rural])', '(is_in zone is a [onto_herelles.Zone])']
Distance = 9

116
Assertions: ['(destine bati_industrielle is a [onto_herelles.Zone_industrielle_commerciale_ou_tertiaire])', '(has_pixels Px_1 is a [onto_herelles.Pixel])', '(has_pixels Px_2 is a [onto_herelles.Pixel])', '(has_state serre is a [onto_herelles.Serre])', '(is_in zone is a [onto_herelles.Zone])']
Distance = 9

117
Assertions: ['(destine bati_industrielle is a [onto_herelles.Zone_industrielle_commerciale_ou_tertiaire])', '(has_pixels Px_2 is a [onto_herelles.Pixel])', '(has_state bati_industrielle is a [onto_herelles.Zone_industrielle_commerciale_ou_tertiaire])', '(is_in zone_z2 is a [onto_herelles.Zone_Z2])']
Distance = 9

118
Assertions: ['(destine bati_industrielle is a [onto_herelles.Zone_industrielle_commerciale_ou_tertiaire])', '(has_pixels Px_2 is a [onto_herelles.Pixel])', '(has_state bati_industrielle is a [onto_herelles.Zone_industrielle_commerciale_ou_tertiaire])', '(is_in zoneeau is a [onto_herelles.ZoneEau])']
Distance = 9

119
Assertions: ['(destine bati_industrielle is a [onto_herelles.Zone_industrielle_commerciale_ou_tertiaire])', '(has_pixels Px_1 is a [onto_herelles.Pixel])', '(has_state bati_industrielle is a [onto_herelles.Zone_industrielle_commerciale_ou_tertiaire])', '(is_in zone_z2 is a [onto_herelles.Zone_Z2])']
Distance = 9

120
Assertions: ['(destine bati_industrielle is a [onto_herelles.Zone_industrielle_commerciale_ou_tertiaire])', '(has_pixels Px_1 is a [onto_herelles.Pixel])', '(has_state bati_industrielle is a [onto_herelles.Zone_industrielle_commerciale_ou_tertiaire])', '(is_in zoneeau is a [onto_herelles.ZoneEau])']
Distance = 9

121
Assertions: ['(destine bati_industrielle is a [onto_herelles.Zone_industrielle_commerciale_ou_tertiaire])', '(has_pixels Px_1 is a [onto_herelles.Pixel])', '(has_pixels Px_2 is a [onto_herelles.Pixel])', '(has_state bati_activite is a [onto_herelles.Bati_activite])', '(is_in zone_z2 is a [onto_herelles.Zone_Z2])']
Distance = 9

122
Assertions: ['(destine bati_industrielle is a [onto_herelles.Zone_industrielle_commerciale_ou_tertiaire])', '(has_pixels Px_1 is a [onto_herelles.Pixel])', '(has_pixels Px_2 is a [onto_herelles.Pixel])', '(has_state bati_activite is a [onto_herelles.Bati_activite])', '(is_in zoneeau is a [onto_herelles.ZoneEau])']
Distance = 9

123
Assertions: ['(destine bati_activite is a [onto_herelles.Bati_activite])', '(has_state bati_industrielle is a [onto_herelles.Zone_industrielle_commerciale_ou_tertiaire])', '(is_in zone_1 is a [onto_herelles.ZoneArticle1])', '(is_in zone_1 is a [onto_herelles.ZoneArticle1])']
Distance = 9

124
Assertions: ['(destine bati_activite is a [onto_herelles.Bati_activite])', '(has_state bati_industrielle is a [onto_herelles.Zone_industrielle_commerciale_ou_tertiaire])', '(is_in zone_1 is a [onto_herelles.ZoneArticle1])', '(is_in zone_z2 is a [onto_herelles.Zone_Z2])']
Distance = 9

125
Assertions: ['(destine bati_activite is a [onto_herelles.Bati_activite])', '(has_state bati_industrielle is a [onto_herelles.Zone_industrielle_commerciale_ou_tertiaire])', '(is_in zone_1 is a [onto_herelles.ZoneArticle1])', '(is_in zoneeau is a [onto_herelles.ZoneEau])']
Distance = 9

126
Assertions: ['(destine bati_industrielle is a [onto_herelles.Zone_industrielle_commerciale_ou_tertiaire])', '(has_state bati_industrielle is a [onto_herelles.Zone_industrielle_commerciale_ou_tertiaire])', '(is_in zone is a [onto_herelles.Zone])', '(is_in zone_z2 is a [onto_herelles.Zone_Z2])']
Distance = 9

127
Assertions: ['(destine bati_industrielle is a [onto_herelles.Zone_industrielle_commerciale_ou_tertiaire])', '(has_state bati_industrielle is a [onto_herelles.Zone_industrielle_commerciale_ou_tertiaire])', '(is_in zone is a [onto_herelles.Zone])', '(is_in zoneeau is a [onto_herelles.ZoneEau])']
Distance = 9

128
Assertions: ['(destine bâtiment_rural is a [onto_herelles.Bâtiment_rural])', '(has_pixels Px_1 is a [onto_herelles.Pixel])', '(has_state bati_industrielle is a [onto_herelles.Zone_industrielle_commerciale_ou_tertiaire])', '(is_in zone is a [onto_herelles.Zone])', '(is_in zone_1 is a [onto_herelles.ZoneArticle1])']
Distance = 9

129
Assertions: ['(destine serre is a [onto_herelles.Serre])', '(has_pixels Px_1 is a [onto_herelles.Pixel])', '(has_state bati_industrielle is a [onto_herelles.Zone_industrielle_commerciale_ou_tertiaire])', '(is_in zone is a [onto_herelles.Zone])', '(is_in zone_1 is a [onto_herelles.ZoneArticle1])']
Distance = 9

130
Assertions: ['(destine bâtiment_rural is a [onto_herelles.Bâtiment_rural])', '(has_pixels Px_2 is a [onto_herelles.Pixel])', '(has_state bati_industrielle is a [onto_herelles.Zone_industrielle_commerciale_ou_tertiaire])', '(is_in zone is a [onto_herelles.Zone])', '(is_in zone_1 is a [onto_herelles.ZoneArticle1])']
Distance = 9

131
Assertions: ['(destine serre is a [onto_herelles.Serre])', '(has_pixels Px_2 is a [onto_herelles.Pixel])', '(has_state bati_industrielle is a [onto_herelles.Zone_industrielle_commerciale_ou_tertiaire])', '(is_in zone is a [onto_herelles.Zone])', '(is_in zone_1 is a [onto_herelles.ZoneArticle1])']
Distance = 9

132
Assertions: ['(has_pixels Px_1 is a [onto_herelles.Pixel])', '(has_pixels Px_2 is a [onto_herelles.Pixel])', '(has_state bati_industrielle is a [onto_herelles.Zone_industrielle_commerciale_ou_tertiaire])', '(is_in zone_1 is a [onto_herelles.ZoneArticle1])', '(is_in zone_2 is a [onto_herelles.ZoneEA])']
Distance = 10

133
Assertions: ['(destine haie is a [onto_herelles.Haie])', '(has_pixels Px_2 is a [onto_herelles.Pixel])', '(has_state bati_industrielle is a [onto_herelles.Zone_industrielle_commerciale_ou_tertiaire])', '(is_in zone_1 is a [onto_herelles.ZoneArticle1])', '(is_in zone_2 is a [onto_herelles.ZoneEA])']
Distance = 10

134
Assertions: ['(destine vigne is a [onto_herelles.Vigne])', '(has_pixels Px_2 is a [onto_herelles.Pixel])', '(has_state bati_industrielle is a [onto_herelles.Zone_industrielle_commerciale_ou_tertiaire])', '(is_in zone_1 is a [onto_herelles.ZoneArticle1])', '(is_in zone_2 is a [onto_herelles.ZoneEA])']
Distance = 10

135
Assertions: ['(destine surface_herbeuse_agricole is a [onto_herelles.Surface_herbeuse_agricole])', '(has_pixels Px_2 is a [onto_herelles.Pixel])', '(has_state bati_industrielle is a [onto_herelles.Zone_industrielle_commerciale_ou_tertiaire])', '(is_in zone_1 is a [onto_herelles.ZoneArticle1])', '(is_in zone_2 is a [onto_herelles.ZoneEA])']
Distance = 10

136
Assertions: ['(destine autres_cultures is a [onto_herelles.Autres_cultures])', '(has_pixels Px_2 is a [onto_herelles.Pixel])', '(has_state bati_industrielle is a [onto_herelles.Zone_industrielle_commerciale_ou_tertiaire])', '(is_in zone_1 is a [onto_herelles.ZoneArticle1])', '(is_in zone_2 is a [onto_herelles.ZoneEA])']
Distance = 10

137
Assertions: ['(destine verger is a [onto_herelles.Verger])', '(has_pixels Px_2 is a [onto_herelles.Pixel])', '(has_state bati_industrielle is a [onto_herelles.Zone_industrielle_commerciale_ou_tertiaire])', '(is_in zone_1 is a [onto_herelles.ZoneArticle1])', '(is_in zone_2 is a [onto_herelles.ZoneEA])']
Distance = 10

138
Assertions: ['(destine groupe_darbres_agricole_sylviculture is a [onto_herelles.Groupe_darbres_agricole_sylviculture])', '(has_pixels Px_2 is a [onto_herelles.Pixel])', '(has_state bati_industrielle is a [onto_herelles.Zone_industrielle_commerciale_ou_tertiaire])', '(is_in zone_1 is a [onto_herelles.ZoneArticle1])', '(is_in zone_2 is a [onto_herelles.ZoneEA])']
Distance = 10

139
Assertions: ['(destine alignement_darbres_agricole is a [onto_herelles.Alignement_darbres_agricole])', '(has_pixels Px_2 is a [onto_herelles.Pixel])', '(has_state bati_industrielle is a [onto_herelles.Zone_industrielle_commerciale_ou_tertiaire])', '(is_in zone_1 is a [onto_herelles.ZoneArticle1])', '(is_in zone_2 is a [onto_herelles.ZoneEA])']
Distance = 10

140
Assertions: ['(destine haie is a [onto_herelles.Haie])', '(has_pixels Px_1 is a [onto_herelles.Pixel])', '(has_state bati_industrielle is a [onto_herelles.Zone_industrielle_commerciale_ou_tertiaire])', '(is_in zone_1 is a [onto_herelles.ZoneArticle1])', '(is_in zone_2 is a [onto_herelles.ZoneEA])']
Distance = 10

141
Assertions: ['(destine vigne is a [onto_herelles.Vigne])', '(has_pixels Px_1 is a [onto_herelles.Pixel])', '(has_state bati_industrielle is a [onto_herelles.Zone_industrielle_commerciale_ou_tertiaire])', '(is_in zone_1 is a [onto_herelles.ZoneArticle1])', '(is_in zone_2 is a [onto_herelles.ZoneEA])']
Distance = 10

142
Assertions: ['(destine surface_herbeuse_agricole is a [onto_herelles.Surface_herbeuse_agricole])', '(has_pixels Px_1 is a [onto_herelles.Pixel])', '(has_state bati_industrielle is a [onto_herelles.Zone_industrielle_commerciale_ou_tertiaire])', '(is_in zone_1 is a [onto_herelles.ZoneArticle1])', '(is_in zone_2 is a [onto_herelles.ZoneEA])']
Distance = 10

143
Assertions: ['(destine autres_cultures is a [onto_herelles.Autres_cultures])', '(has_pixels Px_1 is a [onto_herelles.Pixel])', '(has_state bati_industrielle is a [onto_herelles.Zone_industrielle_commerciale_ou_tertiaire])', '(is_in zone_1 is a [onto_herelles.ZoneArticle1])', '(is_in zone_2 is a [onto_herelles.ZoneEA])']
Distance = 10

144
Assertions: ['(destine verger is a [onto_herelles.Verger])', '(has_pixels Px_1 is a [onto_herelles.Pixel])', '(has_state bati_industrielle is a [onto_herelles.Zone_industrielle_commerciale_ou_tertiaire])', '(is_in zone_1 is a [onto_herelles.ZoneArticle1])', '(is_in zone_2 is a [onto_herelles.ZoneEA])']
Distance = 10

145
Assertions: ['(destine groupe_darbres_agricole_sylviculture is a [onto_herelles.Groupe_darbres_agricole_sylviculture])', '(has_pixels Px_1 is a [onto_herelles.Pixel])', '(has_state bati_industrielle is a [onto_herelles.Zone_industrielle_commerciale_ou_tertiaire])', '(is_in zone_1 is a [onto_herelles.ZoneArticle1])', '(is_in zone_2 is a [onto_herelles.ZoneEA])']
Distance = 10

146
Assertions: ['(destine alignement_darbres_agricole is a [onto_herelles.Alignement_darbres_agricole])', '(has_pixels Px_1 is a [onto_herelles.Pixel])', '(has_state bati_industrielle is a [onto_herelles.Zone_industrielle_commerciale_ou_tertiaire])', '(is_in zone_1 is a [onto_herelles.ZoneArticle1])', '(is_in zone_2 is a [onto_herelles.ZoneEA])']
Distance = 10

147
Assertions: ['(destine haie is a [onto_herelles.Haie])', '(has_pixels Px_1 is a [onto_herelles.Pixel])', '(has_pixels Px_2 is a [onto_herelles.Pixel])', '(has_state bati_activite is a [onto_herelles.Bati_activite])', '(is_in zone_1 is a [onto_herelles.ZoneArticle1])', '(is_in zone_2 is a [onto_herelles.ZoneEA])']
Distance = 10

148
Assertions: ['(destine vigne is a [onto_herelles.Vigne])', '(has_pixels Px_1 is a [onto_herelles.Pixel])', '(has_pixels Px_2 is a [onto_herelles.Pixel])', '(has_state bati_activite is a [onto_herelles.Bati_activite])', '(is_in zone_1 is a [onto_herelles.ZoneArticle1])', '(is_in zone_2 is a [onto_herelles.ZoneEA])']
Distance = 10

149
Assertions: ['(destine surface_herbeuse_agricole is a [onto_herelles.Surface_herbeuse_agricole])', '(has_pixels Px_1 is a [onto_herelles.Pixel])', '(has_pixels Px_2 is a [onto_herelles.Pixel])', '(has_state bati_activite is a [onto_herelles.Bati_activite])', '(is_in zone_1 is a [onto_herelles.ZoneArticle1])', '(is_in zone_2 is a [onto_herelles.ZoneEA])']
Distance = 10

150
Assertions: ['(destine autres_cultures is a [onto_herelles.Autres_cultures])', '(has_pixels Px_1 is a [onto_herelles.Pixel])', '(has_pixels Px_2 is a [onto_herelles.Pixel])', '(has_state bati_activite is a [onto_herelles.Bati_activite])', '(is_in zone_1 is a [onto_herelles.ZoneArticle1])', '(is_in zone_2 is a [onto_herelles.ZoneEA])']
Distance = 10

151
Assertions: ['(destine verger is a [onto_herelles.Verger])', '(has_pixels Px_1 is a [onto_herelles.Pixel])', '(has_pixels Px_2 is a [onto_herelles.Pixel])', '(has_state bati_activite is a [onto_herelles.Bati_activite])', '(is_in zone_1 is a [onto_herelles.ZoneArticle1])', '(is_in zone_2 is a [onto_herelles.ZoneEA])']
Distance = 10

152
Assertions: ['(destine groupe_darbres_agricole_sylviculture is a [onto_herelles.Groupe_darbres_agricole_sylviculture])', '(has_pixels Px_1 is a [onto_herelles.Pixel])', '(has_pixels Px_2 is a [onto_herelles.Pixel])', '(has_state bati_activite is a [onto_herelles.Bati_activite])', '(is_in zone_1 is a [onto_herelles.ZoneArticle1])', '(is_in zone_2 is a [onto_herelles.ZoneEA])']
Distance = 10

153
Assertions: ['(destine alignement_darbres_agricole is a [onto_herelles.Alignement_darbres_agricole])', '(has_pixels Px_1 is a [onto_herelles.Pixel])', '(has_pixels Px_2 is a [onto_herelles.Pixel])', '(has_state bati_activite is a [onto_herelles.Bati_activite])', '(is_in zone_1 is a [onto_herelles.ZoneArticle1])', '(is_in zone_2 is a [onto_herelles.ZoneEA])']
Distance = 10

154
Assertions: ['(destine autre_vegetation_agricole is a [onto_herelles.Autre_vegetation_agricole])', '(has_pixels Px_1 is a [onto_herelles.Pixel])', '(has_pixels Px_2 is a [onto_herelles.Pixel])', '(has_state bâtiment_rural is a [onto_herelles.Bâtiment_rural])', '(is_in zone_1 is a [onto_herelles.ZoneArticle1])', '(is_in zone_2 is a [onto_herelles.ZoneEA])']
Distance = 10

155
Assertions: ['(destine parcelle_agricole is a [onto_herelles.Parcelle_agricole])', '(has_pixels Px_1 is a [onto_herelles.Pixel])', '(has_pixels Px_2 is a [onto_herelles.Pixel])', '(has_state bâtiment_rural is a [onto_herelles.Bâtiment_rural])', '(is_in zone_1 is a [onto_herelles.ZoneArticle1])', '(is_in zone_2 is a [onto_herelles.ZoneEA])']
Distance = 10

156
Assertions: ['(destine element_boise_agricole is a [onto_herelles.Element_boise_agricole])', '(has_pixels Px_1 is a [onto_herelles.Pixel])', '(has_pixels Px_2 is a [onto_herelles.Pixel])', '(has_state bâtiment_rural is a [onto_herelles.Bâtiment_rural])', '(is_in zone_1 is a [onto_herelles.ZoneArticle1])', '(is_in zone_2 is a [onto_herelles.ZoneEA])']
Distance = 10

157
Assertions: ['(destine autre_vegetation_agricole is a [onto_herelles.Autre_vegetation_agricole])', '(has_pixels Px_1 is a [onto_herelles.Pixel])', '(has_pixels Px_2 is a [onto_herelles.Pixel])', '(has_state serre is a [onto_herelles.Serre])', '(is_in zone_1 is a [onto_herelles.ZoneArticle1])', '(is_in zone_2 is a [onto_herelles.ZoneEA])']
Distance = 10

158
Assertions: ['(destine parcelle_agricole is a [onto_herelles.Parcelle_agricole])', '(has_pixels Px_1 is a [onto_herelles.Pixel])', '(has_pixels Px_2 is a [onto_herelles.Pixel])', '(has_state serre is a [onto_herelles.Serre])', '(is_in zone_1 is a [onto_herelles.ZoneArticle1])', '(is_in zone_2 is a [onto_herelles.ZoneEA])']
Distance = 10

159
Assertions: ['(destine element_boise_agricole is a [onto_herelles.Element_boise_agricole])', '(has_pixels Px_1 is a [onto_herelles.Pixel])', '(has_pixels Px_2 is a [onto_herelles.Pixel])', '(has_state serre is a [onto_herelles.Serre])', '(is_in zone_1 is a [onto_herelles.ZoneArticle1])', '(is_in zone_2 is a [onto_herelles.ZoneEA])']
Distance = 10

160
Assertions: ['(destine EA_1 is a [onto_herelles.Espaces_agricoles])', '(has_pixels Px_1 is a [onto_herelles.Pixel])', '(has_pixels Px_2 is a [onto_herelles.Pixel])', '(has_state bati_industrielle is a [onto_herelles.Zone_industrielle_commerciale_ou_tertiaire])', '(is_in zone_2 is a [onto_herelles.ZoneEA])']
Distance = 10

161
Assertions: ['(destine tu_continu_individuel is a [onto_herelles.TU_continu_individuel])', '(has_pixels Px_1 is a [onto_herelles.Pixel])', '(has_pixels Px_2 is a [onto_herelles.Pixel])', '(has_state bati_industrielle is a [onto_herelles.Zone_industrielle_commerciale_ou_tertiaire])', '(is_in zone_1 is a [onto_herelles.ZoneArticle1])']
Distance = 10

162
Assertions: ['(destine tu_continu_collectif is a [onto_herelles.TU_continu_collectif])', '(has_pixels Px_1 is a [onto_herelles.Pixel])', '(has_pixels Px_2 is a [onto_herelles.Pixel])', '(has_state bati_industrielle is a [onto_herelles.Zone_industrielle_commerciale_ou_tertiaire])', '(is_in zone_1 is a [onto_herelles.ZoneArticle1])']
Distance = 10

163
Assertions: ['(destine tu_discontinu_collectif is a [onto_herelles.TU_discontinu_collectif])', '(has_pixels Px_1 is a [onto_herelles.Pixel])', '(has_pixels Px_2 is a [onto_herelles.Pixel])', '(has_state bati_industrielle is a [onto_herelles.Zone_industrielle_commerciale_ou_tertiaire])', '(is_in zone_1 is a [onto_herelles.ZoneArticle1])']
Distance = 10

164
Assertions: ['(destine tu_discontinu_individuel is a [onto_herelles.TU_discontinu_individuel])', '(has_pixels Px_1 is a [onto_herelles.Pixel])', '(has_pixels Px_2 is a [onto_herelles.Pixel])', '(has_state bati_industrielle is a [onto_herelles.Zone_industrielle_commerciale_ou_tertiaire])', '(is_in zone_1 is a [onto_herelles.ZoneArticle1])']
Distance = 10

165
Assertions: ['(destine EA_1 is a [onto_herelles.Espaces_agricoles])', '(has_state bati_industrielle is a [onto_herelles.Zone_industrielle_commerciale_ou_tertiaire])', '(is_in zone_1 is a [onto_herelles.ZoneArticle1])', '(is_in zone_2 is a [onto_herelles.ZoneEA])']
Distance = 10

166
Assertions: ['(destine EA_1 is a [onto_herelles.Espaces_agricoles])', '(has_pixels Px_2 is a [onto_herelles.Pixel])', '(has_state bati_activite is a [onto_herelles.Bati_activite])', '(is_in zone_1 is a [onto_herelles.ZoneArticle1])', '(is_in zone_2 is a [onto_herelles.ZoneEA])']
Distance = 10

167
Assertions: ['(destine EA_1 is a [onto_herelles.Espaces_agricoles])', '(has_pixels Px_1 is a [onto_herelles.Pixel])', '(has_state bati_activite is a [onto_herelles.Bati_activite])', '(is_in zone_1 is a [onto_herelles.ZoneArticle1])', '(is_in zone_2 is a [onto_herelles.ZoneEA])']
Distance = 10

168
Assertions: ['(destine state_geo is a [onto_herelles.State_Geo])', '(has_pixels Px_2 is a [onto_herelles.Pixel])', '(has_state bâtiment_rural is a [onto_herelles.Bâtiment_rural])', '(is_in zone_1 is a [onto_herelles.ZoneArticle1])', '(is_in zone_2 is a [onto_herelles.ZoneEA])']
Distance = 10

169
Assertions: ['(destine state_geo is a [onto_herelles.State_Geo])', '(has_pixels Px_2 is a [onto_herelles.Pixel])', '(has_state serre is a [onto_herelles.Serre])', '(is_in zone_1 is a [onto_herelles.ZoneArticle1])', '(is_in zone_2 is a [onto_herelles.ZoneEA])']
Distance = 10

170
Assertions: ['(destine state_geo is a [onto_herelles.State_Geo])', '(has_pixels Px_1 is a [onto_herelles.Pixel])', '(has_state bâtiment_rural is a [onto_herelles.Bâtiment_rural])', '(is_in zone_1 is a [onto_herelles.ZoneArticle1])', '(is_in zone_2 is a [onto_herelles.ZoneEA])']
Distance = 10

171
Assertions: ['(destine state_geo is a [onto_herelles.State_Geo])', '(has_pixels Px_1 is a [onto_herelles.Pixel])', '(has_state serre is a [onto_herelles.Serre])', '(is_in zone_1 is a [onto_herelles.ZoneArticle1])', '(is_in zone_2 is a [onto_herelles.ZoneEA])']
Distance = 10

172
Assertions: ['(destine bati_industrielle is a [onto_herelles.Zone_industrielle_commerciale_ou_tertiaire])', '(has_pixels Px_2 is a [onto_herelles.Pixel])', '(has_state bati_industrielle is a [onto_herelles.Zone_industrielle_commerciale_ou_tertiaire])']
Distance = 10

173
Assertions: ['(destine bati_residentiel is a [onto_herelles.Bati_residentiel])', '(has_pixels Px_2 is a [onto_herelles.Pixel])', '(has_state bati_industrielle is a [onto_herelles.Zone_industrielle_commerciale_ou_tertiaire])', '(is_in zone_1 is a [onto_herelles.ZoneArticle1])']
Distance = 10

174
Assertions: ['(destine autre_bati is a [onto_herelles.Autre_Bati])', '(has_pixels Px_2 is a [onto_herelles.Pixel])', '(has_state bati_industrielle is a [onto_herelles.Zone_industrielle_commerciale_ou_tertiaire])', '(is_in zone_1 is a [onto_herelles.ZoneArticle1])']
Distance = 10

175
Assertions: ['(destine bati_industrielle is a [onto_herelles.Zone_industrielle_commerciale_ou_tertiaire])', '(has_pixels Px_1 is a [onto_herelles.Pixel])', '(has_state bati_industrielle is a [onto_herelles.Zone_industrielle_commerciale_ou_tertiaire])']
Distance = 10

176
Assertions: ['(destine bati_residentiel is a [onto_herelles.Bati_residentiel])', '(has_pixels Px_1 is a [onto_herelles.Pixel])', '(has_state bati_industrielle is a [onto_herelles.Zone_industrielle_commerciale_ou_tertiaire])', '(is_in zone_1 is a [onto_herelles.ZoneArticle1])']
Distance = 10

177
Assertions: ['(destine autre_bati is a [onto_herelles.Autre_Bati])', '(has_pixels Px_1 is a [onto_herelles.Pixel])', '(has_state bati_industrielle is a [onto_herelles.Zone_industrielle_commerciale_ou_tertiaire])', '(is_in zone_1 is a [onto_herelles.ZoneArticle1])']
Distance = 10

178
Assertions: ['(destine bati_industrielle is a [onto_herelles.Zone_industrielle_commerciale_ou_tertiaire])', '(has_pixels Px_1 is a [onto_herelles.Pixel])', '(has_pixels Px_2 is a [onto_herelles.Pixel])', '(has_state bati_activite is a [onto_herelles.Bati_activite])']
Distance = 10

179
Assertions: ['(destine bati_activite is a [onto_herelles.Bati_activite])', '(has_state bati_industrielle is a [onto_herelles.Zone_industrielle_commerciale_ou_tertiaire])', '(is_in zone_1 is a [onto_herelles.ZoneArticle1])']
Distance = 10

180
Assertions: ['(destine bati_industrielle is a [onto_herelles.Zone_industrielle_commerciale_ou_tertiaire])', '(has_state bati_industrielle is a [onto_herelles.Zone_industrielle_commerciale_ou_tertiaire])', '(is_in zone is a [onto_herelles.Zone])']
Distance = 10

181
Assertions: ['(destine bati_activite is a [onto_herelles.Bati_activite])', '(has_pixels Px_2 is a [onto_herelles.Pixel])', '(has_state bati_activite is a [onto_herelles.Bati_activite])', '(is_in zone_1 is a [onto_herelles.ZoneArticle1])']
Distance = 10

182
Assertions: ['(destine bati_industrielle is a [onto_herelles.Zone_industrielle_commerciale_ou_tertiaire])', '(has_pixels Px_2 is a [onto_herelles.Pixel])', '(has_state bati_activite is a [onto_herelles.Bati_activite])', '(is_in zone is a [onto_herelles.Zone])']
Distance = 10

183
Assertions: ['(destine bati_activite is a [onto_herelles.Bati_activite])', '(has_pixels Px_1 is a [onto_herelles.Pixel])', '(has_state bati_activite is a [onto_herelles.Bati_activite])', '(is_in zone_1 is a [onto_herelles.ZoneArticle1])']
Distance = 10

184
Assertions: ['(destine bati_industrielle is a [onto_herelles.Zone_industrielle_commerciale_ou_tertiaire])', '(has_pixels Px_1 is a [onto_herelles.Pixel])', '(has_state bati_activite is a [onto_herelles.Bati_activite])', '(is_in zone is a [onto_herelles.Zone])']
Distance = 10

185
Assertions: ['(destine bâtiment_rural is a [onto_herelles.Bâtiment_rural])', '(has_pixels Px_1 is a [onto_herelles.Pixel])', '(has_pixels Px_2 is a [onto_herelles.Pixel])', '(has_state bâtiment_rural is a [onto_herelles.Bâtiment_rural])', '(is_in zone_1 is a [onto_herelles.ZoneArticle1])']
Distance = 10

186
Assertions: ['(destine bâtiment_rural is a [onto_herelles.Bâtiment_rural])', '(has_pixels Px_1 is a [onto_herelles.Pixel])', '(has_pixels Px_2 is a [onto_herelles.Pixel])', '(has_state serre is a [onto_herelles.Serre])', '(is_in zone_1 is a [onto_herelles.ZoneArticle1])']
Distance = 10

187
Assertions: ['(destine serre is a [onto_herelles.Serre])', '(has_pixels Px_1 is a [onto_herelles.Pixel])', '(has_pixels Px_2 is a [onto_herelles.Pixel])', '(has_state bâtiment_rural is a [onto_herelles.Bâtiment_rural])', '(is_in zone_1 is a [onto_herelles.ZoneArticle1])']
Distance = 10

188
Assertions: ['(destine serre is a [onto_herelles.Serre])', '(has_pixels Px_1 is a [onto_herelles.Pixel])', '(has_pixels Px_2 is a [onto_herelles.Pixel])', '(has_state serre is a [onto_herelles.Serre])', '(is_in zone_1 is a [onto_herelles.ZoneArticle1])']
Distance = 10

189
Assertions: ['(destine bati_industrielle is a [onto_herelles.Zone_industrielle_commerciale_ou_tertiaire])', '(has_pixels Px_1 is a [onto_herelles.Pixel])', '(has_pixels Px_2 is a [onto_herelles.Pixel])', '(has_state bâtiment_rural is a [onto_herelles.Bâtiment_rural])', '(is_in zone_z2 is a [onto_herelles.Zone_Z2])']
Distance = 10

190
Assertions: ['(destine bati_industrielle is a [onto_herelles.Zone_industrielle_commerciale_ou_tertiaire])', '(has_pixels Px_1 is a [onto_herelles.Pixel])', '(has_pixels Px_2 is a [onto_herelles.Pixel])', '(has_state bâtiment_rural is a [onto_herelles.Bâtiment_rural])', '(is_in zoneeau is a [onto_herelles.ZoneEau])']
Distance = 10

191
Assertions: ['(destine bati_industrielle is a [onto_herelles.Zone_industrielle_commerciale_ou_tertiaire])', '(has_pixels Px_1 is a [onto_herelles.Pixel])', '(has_pixels Px_2 is a [onto_herelles.Pixel])', '(has_state serre is a [onto_herelles.Serre])', '(is_in zone_z2 is a [onto_herelles.Zone_Z2])']
Distance = 10

192
Assertions: ['(destine bati_industrielle is a [onto_herelles.Zone_industrielle_commerciale_ou_tertiaire])', '(has_pixels Px_1 is a [onto_herelles.Pixel])', '(has_pixels Px_2 is a [onto_herelles.Pixel])', '(has_state serre is a [onto_herelles.Serre])', '(is_in zoneeau is a [onto_herelles.ZoneEau])']
Distance = 10

193
Assertions: ['(destine bâtiment_rural is a [onto_herelles.Bâtiment_rural])', '(has_state bati_industrielle is a [onto_herelles.Zone_industrielle_commerciale_ou_tertiaire])', '(is_in zone_1 is a [onto_herelles.ZoneArticle1])', '(is_in zone_1 is a [onto_herelles.ZoneArticle1])']
Distance = 10

194
Assertions: ['(destine bâtiment_rural is a [onto_herelles.Bâtiment_rural])', '(has_state bati_industrielle is a [onto_herelles.Zone_industrielle_commerciale_ou_tertiaire])', '(is_in zone_1 is a [onto_herelles.ZoneArticle1])', '(is_in zone_z2 is a [onto_herelles.Zone_Z2])']
Distance = 10

195
Assertions: ['(destine bâtiment_rural is a [onto_herelles.Bâtiment_rural])', '(has_state bati_industrielle is a [onto_herelles.Zone_industrielle_commerciale_ou_tertiaire])', '(is_in zone_1 is a [onto_herelles.ZoneArticle1])', '(is_in zoneeau is a [onto_herelles.ZoneEau])']
Distance = 10

196
Assertions: ['(destine serre is a [onto_herelles.Serre])', '(has_state bati_industrielle is a [onto_herelles.Zone_industrielle_commerciale_ou_tertiaire])', '(is_in zone_1 is a [onto_herelles.ZoneArticle1])', '(is_in zone_1 is a [onto_herelles.ZoneArticle1])']
Distance = 10

197
Assertions: ['(destine serre is a [onto_herelles.Serre])', '(has_state bati_industrielle is a [onto_herelles.Zone_industrielle_commerciale_ou_tertiaire])', '(is_in zone_1 is a [onto_herelles.ZoneArticle1])', '(is_in zone_z2 is a [onto_herelles.Zone_Z2])']
Distance = 10

198
Assertions: ['(destine serre is a [onto_herelles.Serre])', '(has_state bati_industrielle is a [onto_herelles.Zone_industrielle_commerciale_ou_tertiaire])', '(is_in zone_1 is a [onto_herelles.ZoneArticle1])', '(is_in zoneeau is a [onto_herelles.ZoneEau])']
Distance = 10

199
Assertions: ['(destine bati_industrielle is a [onto_herelles.Zone_industrielle_commerciale_ou_tertiaire])', '(has_state bati_industrielle is a [onto_herelles.Zone_industrielle_commerciale_ou_tertiaire])', '(is_in zone_z2 is a [onto_herelles.Zone_Z2])', '(is_in zone_z2 is a [onto_herelles.Zone_Z2])']
Distance = 10

200
Assertions: ['(destine bati_industrielle is a [onto_herelles.Zone_industrielle_commerciale_ou_tertiaire])', '(has_state bati_industrielle is a [onto_herelles.Zone_industrielle_commerciale_ou_tertiaire])', '(is_in zone_z2 is a [onto_herelles.Zone_Z2])', '(is_in zoneeau is a [onto_herelles.ZoneEau])']
Distance = 10

201
Assertions: ['(destine bati_industrielle is a [onto_herelles.Zone_industrielle_commerciale_ou_tertiaire])', '(has_state bati_industrielle is a [onto_herelles.Zone_industrielle_commerciale_ou_tertiaire])', '(is_in zoneeau is a [onto_herelles.ZoneEau])', '(is_in zoneeau is a [onto_herelles.ZoneEau])']
Distance = 10

202
Assertions: ['(destine bati_activite is a [onto_herelles.Bati_activite])', '(has_state bati_industrielle is a [onto_herelles.Zone_industrielle_commerciale_ou_tertiaire])', '(is_in zone is a [onto_herelles.Zone])', '(is_in zone_1 is a [onto_herelles.ZoneArticle1])']
Distance = 10

203
Assertions: ['(destine haie is a [onto_herelles.Haie])', '(has_pixels Px_1 is a [onto_herelles.Pixel])', '(has_pixels Px_2 is a [onto_herelles.Pixel])', '(has_state bâtiment_rural is a [onto_herelles.Bâtiment_rural])', '(is_in zone_1 is a [onto_herelles.ZoneArticle1])', '(is_in zone_2 is a [onto_herelles.ZoneEA])']
Distance = 11

204
Assertions: ['(destine vigne is a [onto_herelles.Vigne])', '(has_pixels Px_1 is a [onto_herelles.Pixel])', '(has_pixels Px_2 is a [onto_herelles.Pixel])', '(has_state bâtiment_rural is a [onto_herelles.Bâtiment_rural])', '(is_in zone_1 is a [onto_herelles.ZoneArticle1])', '(is_in zone_2 is a [onto_herelles.ZoneEA])']
Distance = 11

205
Assertions: ['(destine surface_herbeuse_agricole is a [onto_herelles.Surface_herbeuse_agricole])', '(has_pixels Px_1 is a [onto_herelles.Pixel])', '(has_pixels Px_2 is a [onto_herelles.Pixel])', '(has_state bâtiment_rural is a [onto_herelles.Bâtiment_rural])', '(is_in zone_1 is a [onto_herelles.ZoneArticle1])', '(is_in zone_2 is a [onto_herelles.ZoneEA])']
Distance = 11

206
Assertions: ['(destine autres_cultures is a [onto_herelles.Autres_cultures])', '(has_pixels Px_1 is a [onto_herelles.Pixel])', '(has_pixels Px_2 is a [onto_herelles.Pixel])', '(has_state bâtiment_rural is a [onto_herelles.Bâtiment_rural])', '(is_in zone_1 is a [onto_herelles.ZoneArticle1])', '(is_in zone_2 is a [onto_herelles.ZoneEA])']
Distance = 11

207
Assertions: ['(destine verger is a [onto_herelles.Verger])', '(has_pixels Px_1 is a [onto_herelles.Pixel])', '(has_pixels Px_2 is a [onto_herelles.Pixel])', '(has_state bâtiment_rural is a [onto_herelles.Bâtiment_rural])', '(is_in zone_1 is a [onto_herelles.ZoneArticle1])', '(is_in zone_2 is a [onto_herelles.ZoneEA])']
Distance = 11

208
Assertions: ['(destine groupe_darbres_agricole_sylviculture is a [onto_herelles.Groupe_darbres_agricole_sylviculture])', '(has_pixels Px_1 is a [onto_herelles.Pixel])', '(has_pixels Px_2 is a [onto_herelles.Pixel])', '(has_state bâtiment_rural is a [onto_herelles.Bâtiment_rural])', '(is_in zone_1 is a [onto_herelles.ZoneArticle1])', '(is_in zone_2 is a [onto_herelles.ZoneEA])']
Distance = 11

209
Assertions: ['(destine alignement_darbres_agricole is a [onto_herelles.Alignement_darbres_agricole])', '(has_pixels Px_1 is a [onto_herelles.Pixel])', '(has_pixels Px_2 is a [onto_herelles.Pixel])', '(has_state bâtiment_rural is a [onto_herelles.Bâtiment_rural])', '(is_in zone_1 is a [onto_herelles.ZoneArticle1])', '(is_in zone_2 is a [onto_herelles.ZoneEA])']
Distance = 11

210
Assertions: ['(destine haie is a [onto_herelles.Haie])', '(has_pixels Px_1 is a [onto_herelles.Pixel])', '(has_pixels Px_2 is a [onto_herelles.Pixel])', '(has_state serre is a [onto_herelles.Serre])', '(is_in zone_1 is a [onto_herelles.ZoneArticle1])', '(is_in zone_2 is a [onto_herelles.ZoneEA])']
Distance = 11

211
Assertions: ['(destine vigne is a [onto_herelles.Vigne])', '(has_pixels Px_1 is a [onto_herelles.Pixel])', '(has_pixels Px_2 is a [onto_herelles.Pixel])', '(has_state serre is a [onto_herelles.Serre])', '(is_in zone_1 is a [onto_herelles.ZoneArticle1])', '(is_in zone_2 is a [onto_herelles.ZoneEA])']
Distance = 11

212
Assertions: ['(destine surface_herbeuse_agricole is a [onto_herelles.Surface_herbeuse_agricole])', '(has_pixels Px_1 is a [onto_herelles.Pixel])', '(has_pixels Px_2 is a [onto_herelles.Pixel])', '(has_state serre is a [onto_herelles.Serre])', '(is_in zone_1 is a [onto_herelles.ZoneArticle1])', '(is_in zone_2 is a [onto_herelles.ZoneEA])']
Distance = 11

213
Assertions: ['(destine autres_cultures is a [onto_herelles.Autres_cultures])', '(has_pixels Px_1 is a [onto_herelles.Pixel])', '(has_pixels Px_2 is a [onto_herelles.Pixel])', '(has_state serre is a [onto_herelles.Serre])', '(is_in zone_1 is a [onto_herelles.ZoneArticle1])', '(is_in zone_2 is a [onto_herelles.ZoneEA])']
Distance = 11

214
Assertions: ['(destine verger is a [onto_herelles.Verger])', '(has_pixels Px_1 is a [onto_herelles.Pixel])', '(has_pixels Px_2 is a [onto_herelles.Pixel])', '(has_state serre is a [onto_herelles.Serre])', '(is_in zone_1 is a [onto_herelles.ZoneArticle1])', '(is_in zone_2 is a [onto_herelles.ZoneEA])']
Distance = 11

215
Assertions: ['(destine groupe_darbres_agricole_sylviculture is a [onto_herelles.Groupe_darbres_agricole_sylviculture])', '(has_pixels Px_1 is a [onto_herelles.Pixel])', '(has_pixels Px_2 is a [onto_herelles.Pixel])', '(has_state serre is a [onto_herelles.Serre])', '(is_in zone_1 is a [onto_herelles.ZoneArticle1])', '(is_in zone_2 is a [onto_herelles.ZoneEA])']
Distance = 11

216
Assertions: ['(destine alignement_darbres_agricole is a [onto_herelles.Alignement_darbres_agricole])', '(has_pixels Px_1 is a [onto_herelles.Pixel])', '(has_pixels Px_2 is a [onto_herelles.Pixel])', '(has_state serre is a [onto_herelles.Serre])', '(is_in zone_1 is a [onto_herelles.ZoneArticle1])', '(is_in zone_2 is a [onto_herelles.ZoneEA])']
Distance = 11

217
Assertions: ['(destine autre_vegetation_agricole is a [onto_herelles.Autre_vegetation_agricole])', '(has_pixels Px_1 is a [onto_herelles.Pixel])', '(has_pixels Px_2 is a [onto_herelles.Pixel])', '(has_state bati_industrielle is a [onto_herelles.Zone_industrielle_commerciale_ou_tertiaire])', '(is_in zone_2 is a [onto_herelles.ZoneEA])']
Distance = 11

218
Assertions: ['(destine parcelle_agricole is a [onto_herelles.Parcelle_agricole])', '(has_pixels Px_1 is a [onto_herelles.Pixel])', '(has_pixels Px_2 is a [onto_herelles.Pixel])', '(has_state bati_industrielle is a [onto_herelles.Zone_industrielle_commerciale_ou_tertiaire])', '(is_in zone_2 is a [onto_herelles.ZoneEA])']
Distance = 11

219
Assertions: ['(destine element_boise_agricole is a [onto_herelles.Element_boise_agricole])', '(has_pixels Px_1 is a [onto_herelles.Pixel])', '(has_pixels Px_2 is a [onto_herelles.Pixel])', '(has_state bati_industrielle is a [onto_herelles.Zone_industrielle_commerciale_ou_tertiaire])', '(is_in zone_2 is a [onto_herelles.ZoneEA])']
Distance = 11

220
Assertions: ['(destine autre_vegetation_agricole is a [onto_herelles.Autre_vegetation_agricole])', '(has_state bati_industrielle is a [onto_herelles.Zone_industrielle_commerciale_ou_tertiaire])', '(is_in zone_1 is a [onto_herelles.ZoneArticle1])', '(is_in zone_2 is a [onto_herelles.ZoneEA])']
Distance = 11

221
Assertions: ['(destine parcelle_agricole is a [onto_herelles.Parcelle_agricole])', '(has_state bati_industrielle is a [onto_herelles.Zone_industrielle_commerciale_ou_tertiaire])', '(is_in zone_1 is a [onto_herelles.ZoneArticle1])', '(is_in zone_2 is a [onto_herelles.ZoneEA])']
Distance = 11

222
Assertions: ['(destine element_boise_agricole is a [onto_herelles.Element_boise_agricole])', '(has_state bati_industrielle is a [onto_herelles.Zone_industrielle_commerciale_ou_tertiaire])', '(is_in zone_1 is a [onto_herelles.ZoneArticle1])', '(is_in zone_2 is a [onto_herelles.ZoneEA])']
Distance = 11

223
Assertions: ['(destine autre_vegetation_agricole is a [onto_herelles.Autre_vegetation_agricole])', '(has_pixels Px_2 is a [onto_herelles.Pixel])', '(has_state bati_activite is a [onto_herelles.Bati_activite])', '(is_in zone_1 is a [onto_herelles.ZoneArticle1])', '(is_in zone_2 is a [onto_herelles.ZoneEA])']
Distance = 11

224
Assertions: ['(destine parcelle_agricole is a [onto_herelles.Parcelle_agricole])', '(has_pixels Px_2 is a [onto_herelles.Pixel])', '(has_state bati_activite is a [onto_herelles.Bati_activite])', '(is_in zone_1 is a [onto_herelles.ZoneArticle1])', '(is_in zone_2 is a [onto_herelles.ZoneEA])']
Distance = 11

225
Assertions: ['(destine element_boise_agricole is a [onto_herelles.Element_boise_agricole])', '(has_pixels Px_2 is a [onto_herelles.Pixel])', '(has_state bati_activite is a [onto_herelles.Bati_activite])', '(is_in zone_1 is a [onto_herelles.ZoneArticle1])', '(is_in zone_2 is a [onto_herelles.ZoneEA])']
Distance = 11

226
Assertions: ['(destine autre_vegetation_agricole is a [onto_herelles.Autre_vegetation_agricole])', '(has_pixels Px_1 is a [onto_herelles.Pixel])', '(has_state bati_activite is a [onto_herelles.Bati_activite])', '(is_in zone_1 is a [onto_herelles.ZoneArticle1])', '(is_in zone_2 is a [onto_herelles.ZoneEA])']
Distance = 11

227
Assertions: ['(destine parcelle_agricole is a [onto_herelles.Parcelle_agricole])', '(has_pixels Px_1 is a [onto_herelles.Pixel])', '(has_state bati_activite is a [onto_herelles.Bati_activite])', '(is_in zone_1 is a [onto_herelles.ZoneArticle1])', '(is_in zone_2 is a [onto_herelles.ZoneEA])']
Distance = 11

228
Assertions: ['(destine element_boise_agricole is a [onto_herelles.Element_boise_agricole])', '(has_pixels Px_1 is a [onto_herelles.Pixel])', '(has_state bati_activite is a [onto_herelles.Bati_activite])', '(is_in zone_1 is a [onto_herelles.ZoneArticle1])', '(is_in zone_2 is a [onto_herelles.ZoneEA])']
Distance = 11

229
Assertions: ['(destine EA_1 is a [onto_herelles.Espaces_agricoles])', '(has_pixels Px_2 is a [onto_herelles.Pixel])', '(has_state bâtiment_rural is a [onto_herelles.Bâtiment_rural])', '(is_in zone_1 is a [onto_herelles.ZoneArticle1])', '(is_in zone_2 is a [onto_herelles.ZoneEA])']
Distance = 11

230
Assertions: ['(destine EA_1 is a [onto_herelles.Espaces_agricoles])', '(has_pixels Px_2 is a [onto_herelles.Pixel])', '(has_state serre is a [onto_herelles.Serre])', '(is_in zone_1 is a [onto_herelles.ZoneArticle1])', '(is_in zone_2 is a [onto_herelles.ZoneEA])']
Distance = 11

231
Assertions: ['(destine EA_1 is a [onto_herelles.Espaces_agricoles])', '(has_pixels Px_1 is a [onto_herelles.Pixel])', '(has_state bâtiment_rural is a [onto_herelles.Bâtiment_rural])', '(is_in zone_1 is a [onto_herelles.ZoneArticle1])', '(is_in zone_2 is a [onto_herelles.ZoneEA])']
Distance = 11

232
Assertions: ['(destine EA_1 is a [onto_herelles.Espaces_agricoles])', '(has_pixels Px_1 is a [onto_herelles.Pixel])', '(has_state serre is a [onto_herelles.Serre])', '(is_in zone_1 is a [onto_herelles.ZoneArticle1])', '(is_in zone_2 is a [onto_herelles.ZoneEA])']
Distance = 11

233
Assertions: ['(destine state_geo is a [onto_herelles.State_Geo])', '(has_pixels Px_2 is a [onto_herelles.Pixel])', '(has_state bati_industrielle is a [onto_herelles.Zone_industrielle_commerciale_ou_tertiaire])', '(is_in zone_2 is a [onto_herelles.ZoneEA])']
Distance = 11

234
Assertions: ['(destine tu_continu is a [onto_herelles.TU_continu])', '(has_pixels Px_2 is a [onto_herelles.Pixel])', '(has_state bati_industrielle is a [onto_herelles.Zone_industrielle_commerciale_ou_tertiaire])', '(is_in zone_1 is a [onto_herelles.ZoneArticle1])']
Distance = 11

235
Assertions: ['(destine tu_discontinu is a [onto_herelles.TU_discontinu])', '(has_pixels Px_2 is a [onto_herelles.Pixel])', '(has_state bati_industrielle is a [onto_herelles.Zone_industrielle_commerciale_ou_tertiaire])', '(is_in zone_1 is a [onto_herelles.ZoneArticle1])']
Distance = 11

236
Assertions: ['(destine state_geo is a [onto_herelles.State_Geo])', '(has_pixels Px_1 is a [onto_herelles.Pixel])', '(has_state bati_industrielle is a [onto_herelles.Zone_industrielle_commerciale_ou_tertiaire])', '(is_in zone_2 is a [onto_herelles.ZoneEA])']
Distance = 11

237
Assertions: ['(destine tu_continu is a [onto_herelles.TU_continu])', '(has_pixels Px_1 is a [onto_herelles.Pixel])', '(has_state bati_industrielle is a [onto_herelles.Zone_industrielle_commerciale_ou_tertiaire])', '(is_in zone_1 is a [onto_herelles.ZoneArticle1])']
Distance = 11

238
Assertions: ['(destine tu_discontinu is a [onto_herelles.TU_discontinu])', '(has_pixels Px_1 is a [onto_herelles.Pixel])', '(has_state bati_industrielle is a [onto_herelles.Zone_industrielle_commerciale_ou_tertiaire])', '(is_in zone_1 is a [onto_herelles.ZoneArticle1])']
Distance = 11

239
Assertions: ['(destine state_geo is a [onto_herelles.State_Geo])', '(has_pixels Px_1 is a [onto_herelles.Pixel])', '(has_pixels Px_2 is a [onto_herelles.Pixel])', '(has_state bati_activite is a [onto_herelles.Bati_activite])', '(is_in zone_2 is a [onto_herelles.ZoneEA])']
Distance = 11

240
Assertions: ['(destine state_geo is a [onto_herelles.State_Geo])', '(has_state bati_activite is a [onto_herelles.Bati_activite])', '(is_in zone_1 is a [onto_herelles.ZoneArticle1])', '(is_in zone_2 is a [onto_herelles.ZoneEA])']
Distance = 11

241
Assertions: ['(destine bati_industrielle is a [onto_herelles.Zone_industrielle_commerciale_ou_tertiaire])', '(has_pixels Px_1 is a [onto_herelles.Pixel])', '(has_pixels Px_2 is a [onto_herelles.Pixel])', '(has_state bâtiment_rural is a [onto_herelles.Bâtiment_rural])']
Distance = 11

242
Assertions: ['(destine bati_industrielle is a [onto_herelles.Zone_industrielle_commerciale_ou_tertiaire])', '(has_pixels Px_1 is a [onto_herelles.Pixel])', '(has_pixels Px_2 is a [onto_herelles.Pixel])', '(has_state serre is a [onto_herelles.Serre])']
Distance = 11

243
Assertions: ['(destine bati is a [onto_herelles.Bati])', '(has_state bati_industrielle is a [onto_herelles.Zone_industrielle_commerciale_ou_tertiaire])', '(is_in zone_1 is a [onto_herelles.ZoneArticle1])']
Distance = 11

244
Assertions: ['(destine bâtiment_rural is a [onto_herelles.Bâtiment_rural])', '(has_state bati_industrielle is a [onto_herelles.Zone_industrielle_commerciale_ou_tertiaire])', '(is_in zone_1 is a [onto_herelles.ZoneArticle1])']
Distance = 11

245
Assertions: ['(destine serre is a [onto_herelles.Serre])', '(has_state bati_industrielle is a [onto_herelles.Zone_industrielle_commerciale_ou_tertiaire])', '(is_in zone_1 is a [onto_herelles.ZoneArticle1])']
Distance = 11

246
Assertions: ['(destine bati_activite is a [onto_herelles.Bati_activite])', '(has_pixels Px_2 is a [onto_herelles.Pixel])', '(has_state bâtiment_rural is a [onto_herelles.Bâtiment_rural])', '(is_in zone_1 is a [onto_herelles.ZoneArticle1])']
Distance = 11

247
Assertions: ['(destine bati_activite is a [onto_herelles.Bati_activite])', '(has_pixels Px_2 is a [onto_herelles.Pixel])', '(has_state serre is a [onto_herelles.Serre])', '(is_in zone_1 is a [onto_herelles.ZoneArticle1])']
Distance = 11

248
Assertions: ['(destine bâtiment_rural is a [onto_herelles.Bâtiment_rural])', '(has_pixels Px_2 is a [onto_herelles.Pixel])', '(has_state bati_activite is a [onto_herelles.Bati_activite])', '(is_in zone_1 is a [onto_herelles.ZoneArticle1])']
Distance = 11

249
Assertions: ['(destine serre is a [onto_herelles.Serre])', '(has_pixels Px_2 is a [onto_herelles.Pixel])', '(has_state bati_activite is a [onto_herelles.Bati_activite])', '(is_in zone_1 is a [onto_herelles.ZoneArticle1])']
Distance = 11

250
Assertions: ['(destine bati_industrielle is a [onto_herelles.Zone_industrielle_commerciale_ou_tertiaire])', '(has_pixels Px_2 is a [onto_herelles.Pixel])', '(has_state bâtiment_rural is a [onto_herelles.Bâtiment_rural])', '(is_in zone is a [onto_herelles.Zone])']
Distance = 11

251
Assertions: ['(destine bati_industrielle is a [onto_herelles.Zone_industrielle_commerciale_ou_tertiaire])', '(has_pixels Px_2 is a [onto_herelles.Pixel])', '(has_state serre is a [onto_herelles.Serre])', '(is_in zone is a [onto_herelles.Zone])']
Distance = 11

252
Assertions: ['(destine bati_activite is a [onto_herelles.Bati_activite])', '(has_pixels Px_1 is a [onto_herelles.Pixel])', '(has_state bâtiment_rural is a [onto_herelles.Bâtiment_rural])', '(is_in zone_1 is a [onto_herelles.ZoneArticle1])']
Distance = 11

253
Assertions: ['(destine bati_activite is a [onto_herelles.Bati_activite])', '(has_pixels Px_1 is a [onto_herelles.Pixel])', '(has_state serre is a [onto_herelles.Serre])', '(is_in zone_1 is a [onto_herelles.ZoneArticle1])']
Distance = 11

254
Assertions: ['(destine bâtiment_rural is a [onto_herelles.Bâtiment_rural])', '(has_pixels Px_1 is a [onto_herelles.Pixel])', '(has_state bati_activite is a [onto_herelles.Bati_activite])', '(is_in zone_1 is a [onto_herelles.ZoneArticle1])']
Distance = 11

255
Assertions: ['(destine serre is a [onto_herelles.Serre])', '(has_pixels Px_1 is a [onto_herelles.Pixel])', '(has_state bati_activite is a [onto_herelles.Bati_activite])', '(is_in zone_1 is a [onto_herelles.ZoneArticle1])']
Distance = 11

256
Assertions: ['(destine bati_industrielle is a [onto_herelles.Zone_industrielle_commerciale_ou_tertiaire])', '(has_pixels Px_1 is a [onto_herelles.Pixel])', '(has_state bâtiment_rural is a [onto_herelles.Bâtiment_rural])', '(is_in zone is a [onto_herelles.Zone])']
Distance = 11

257
Assertions: ['(destine bati_industrielle is a [onto_herelles.Zone_industrielle_commerciale_ou_tertiaire])', '(has_pixels Px_1 is a [onto_herelles.Pixel])', '(has_state serre is a [onto_herelles.Serre])', '(is_in zone is a [onto_herelles.Zone])']
Distance = 11

258
Assertions: ['(destine bati_industrielle is a [onto_herelles.Zone_industrielle_commerciale_ou_tertiaire])', '(has_state bati_industrielle is a [onto_herelles.Zone_industrielle_commerciale_ou_tertiaire])', '(is_in zone_z2 is a [onto_herelles.Zone_Z2])']
Distance = 11

259
Assertions: ['(destine bati_industrielle is a [onto_herelles.Zone_industrielle_commerciale_ou_tertiaire])', '(has_state bati_industrielle is a [onto_herelles.Zone_industrielle_commerciale_ou_tertiaire])', '(is_in zoneeau is a [onto_herelles.ZoneEau])']
Distance = 11

260
Assertions: ['(destine bati_industrielle is a [onto_herelles.Zone_industrielle_commerciale_ou_tertiaire])', '(has_pixels Px_2 is a [onto_herelles.Pixel])', '(has_state bati_activite is a [onto_herelles.Bati_activite])', '(is_in zone_z2 is a [onto_herelles.Zone_Z2])']
Distance = 11

261
Assertions: ['(destine bati_industrielle is a [onto_herelles.Zone_industrielle_commerciale_ou_tertiaire])', '(has_pixels Px_2 is a [onto_herelles.Pixel])', '(has_state bati_activite is a [onto_herelles.Bati_activite])', '(is_in zoneeau is a [onto_herelles.ZoneEau])']
Distance = 11

262
Assertions: ['(destine bati_industrielle is a [onto_herelles.Zone_industrielle_commerciale_ou_tertiaire])', '(has_pixels Px_1 is a [onto_herelles.Pixel])', '(has_state bati_activite is a [onto_herelles.Bati_activite])', '(is_in zone_z2 is a [onto_herelles.Zone_Z2])']
Distance = 11

263
Assertions: ['(destine bati_industrielle is a [onto_herelles.Zone_industrielle_commerciale_ou_tertiaire])', '(has_pixels Px_1 is a [onto_herelles.Pixel])', '(has_state bati_activite is a [onto_herelles.Bati_activite])', '(is_in zoneeau is a [onto_herelles.ZoneEau])']
Distance = 11

264
Assertions: ['(destine bâtiment_rural is a [onto_herelles.Bâtiment_rural])', '(has_state bati_industrielle is a [onto_herelles.Zone_industrielle_commerciale_ou_tertiaire])', '(is_in zone is a [onto_herelles.Zone])', '(is_in zone_1 is a [onto_herelles.ZoneArticle1])']
Distance = 11

265
Assertions: ['(destine serre is a [onto_herelles.Serre])', '(has_state bati_industrielle is a [onto_herelles.Zone_industrielle_commerciale_ou_tertiaire])', '(is_in zone is a [onto_herelles.Zone])', '(is_in zone_1 is a [onto_herelles.ZoneArticle1])']
Distance = 11

266
Assertions: ['(has_pixels Px_2 is a [onto_herelles.Pixel])', '(has_state bati_industrielle is a [onto_herelles.Zone_industrielle_commerciale_ou_tertiaire])', '(is_in zone_1 is a [onto_herelles.ZoneArticle1])', '(is_in zone_2 is a [onto_herelles.ZoneEA])']
Distance = 12

267
Assertions: ['(has_pixels Px_1 is a [onto_herelles.Pixel])', '(has_state bati_industrielle is a [onto_herelles.Zone_industrielle_commerciale_ou_tertiaire])', '(is_in zone_1 is a [onto_herelles.ZoneArticle1])', '(is_in zone_2 is a [onto_herelles.ZoneEA])']
Distance = 12

268
Assertions: ['(has_pixels Px_1 is a [onto_herelles.Pixel])', '(has_pixels Px_2 is a [onto_herelles.Pixel])', '(has_state bati_activite is a [onto_herelles.Bati_activite])', '(is_in zone_1 is a [onto_herelles.ZoneArticle1])', '(is_in zone_2 is a [onto_herelles.ZoneEA])']
Distance = 12

269
Assertions: ['(destine haie is a [onto_herelles.Haie])', '(has_pixels Px_1 is a [onto_herelles.Pixel])', '(has_pixels Px_2 is a [onto_herelles.Pixel])', '(has_state bati_industrielle is a [onto_herelles.Zone_industrielle_commerciale_ou_tertiaire])', '(is_in zone_2 is a [onto_herelles.ZoneEA])']
Distance = 12

270
Assertions: ['(destine vigne is a [onto_herelles.Vigne])', '(has_pixels Px_1 is a [onto_herelles.Pixel])', '(has_pixels Px_2 is a [onto_herelles.Pixel])', '(has_state bati_industrielle is a [onto_herelles.Zone_industrielle_commerciale_ou_tertiaire])', '(is_in zone_2 is a [onto_herelles.ZoneEA])']
Distance = 12

271
Assertions: ['(destine surface_herbeuse_agricole is a [onto_herelles.Surface_herbeuse_agricole])', '(has_pixels Px_1 is a [onto_herelles.Pixel])', '(has_pixels Px_2 is a [onto_herelles.Pixel])', '(has_state bati_industrielle is a [onto_herelles.Zone_industrielle_commerciale_ou_tertiaire])', '(is_in zone_2 is a [onto_herelles.ZoneEA])']
Distance = 12

272
Assertions: ['(destine autres_cultures is a [onto_herelles.Autres_cultures])', '(has_pixels Px_1 is a [onto_herelles.Pixel])', '(has_pixels Px_2 is a [onto_herelles.Pixel])', '(has_state bati_industrielle is a [onto_herelles.Zone_industrielle_commerciale_ou_tertiaire])', '(is_in zone_2 is a [onto_herelles.ZoneEA])']
Distance = 12

273
Assertions: ['(destine verger is a [onto_herelles.Verger])', '(has_pixels Px_1 is a [onto_herelles.Pixel])', '(has_pixels Px_2 is a [onto_herelles.Pixel])', '(has_state bati_industrielle is a [onto_herelles.Zone_industrielle_commerciale_ou_tertiaire])', '(is_in zone_2 is a [onto_herelles.ZoneEA])']
Distance = 12

274
Assertions: ['(destine groupe_darbres_agricole_sylviculture is a [onto_herelles.Groupe_darbres_agricole_sylviculture])', '(has_pixels Px_1 is a [onto_herelles.Pixel])', '(has_pixels Px_2 is a [onto_herelles.Pixel])', '(has_state bati_industrielle is a [onto_herelles.Zone_industrielle_commerciale_ou_tertiaire])', '(is_in zone_2 is a [onto_herelles.ZoneEA])']
Distance = 12

275
Assertions: ['(destine alignement_darbres_agricole is a [onto_herelles.Alignement_darbres_agricole])', '(has_pixels Px_1 is a [onto_herelles.Pixel])', '(has_pixels Px_2 is a [onto_herelles.Pixel])', '(has_state bati_industrielle is a [onto_herelles.Zone_industrielle_commerciale_ou_tertiaire])', '(is_in zone_2 is a [onto_herelles.ZoneEA])']
Distance = 12

276
Assertions: ['(destine haie is a [onto_herelles.Haie])', '(has_state bati_industrielle is a [onto_herelles.Zone_industrielle_commerciale_ou_tertiaire])', '(is_in zone_1 is a [onto_herelles.ZoneArticle1])', '(is_in zone_2 is a [onto_herelles.ZoneEA])']
Distance = 12

277
Assertions: ['(destine vigne is a [onto_herelles.Vigne])', '(has_state bati_industrielle is a [onto_herelles.Zone_industrielle_commerciale_ou_tertiaire])', '(is_in zone_1 is a [onto_herelles.ZoneArticle1])', '(is_in zone_2 is a [onto_herelles.ZoneEA])']
Distance = 12

278
Assertions: ['(destine surface_herbeuse_agricole is a [onto_herelles.Surface_herbeuse_agricole])', '(has_state bati_industrielle is a [onto_herelles.Zone_industrielle_commerciale_ou_tertiaire])', '(is_in zone_1 is a [onto_herelles.ZoneArticle1])', '(is_in zone_2 is a [onto_herelles.ZoneEA])']
Distance = 12

279
Assertions: ['(destine autres_cultures is a [onto_herelles.Autres_cultures])', '(has_state bati_industrielle is a [onto_herelles.Zone_industrielle_commerciale_ou_tertiaire])', '(is_in zone_1 is a [onto_herelles.ZoneArticle1])', '(is_in zone_2 is a [onto_herelles.ZoneEA])']
Distance = 12

280
Assertions: ['(destine verger is a [onto_herelles.Verger])', '(has_state bati_industrielle is a [onto_herelles.Zone_industrielle_commerciale_ou_tertiaire])', '(is_in zone_1 is a [onto_herelles.ZoneArticle1])', '(is_in zone_2 is a [onto_herelles.ZoneEA])']
Distance = 12

281
Assertions: ['(destine groupe_darbres_agricole_sylviculture is a [onto_herelles.Groupe_darbres_agricole_sylviculture])', '(has_state bati_industrielle is a [onto_herelles.Zone_industrielle_commerciale_ou_tertiaire])', '(is_in zone_1 is a [onto_herelles.ZoneArticle1])', '(is_in zone_2 is a [onto_herelles.ZoneEA])']
Distance = 12

282
Assertions: ['(destine alignement_darbres_agricole is a [onto_herelles.Alignement_darbres_agricole])', '(has_state bati_industrielle is a [onto_herelles.Zone_industrielle_commerciale_ou_tertiaire])', '(is_in zone_1 is a [onto_herelles.ZoneArticle1])', '(is_in zone_2 is a [onto_herelles.ZoneEA])']
Distance = 12

283
Assertions: ['(destine haie is a [onto_herelles.Haie])', '(has_pixels Px_2 is a [onto_herelles.Pixel])', '(has_state bati_activite is a [onto_herelles.Bati_activite])', '(is_in zone_1 is a [onto_herelles.ZoneArticle1])', '(is_in zone_2 is a [onto_herelles.ZoneEA])']
Distance = 12

284
Assertions: ['(destine vigne is a [onto_herelles.Vigne])', '(has_pixels Px_2 is a [onto_herelles.Pixel])', '(has_state bati_activite is a [onto_herelles.Bati_activite])', '(is_in zone_1 is a [onto_herelles.ZoneArticle1])', '(is_in zone_2 is a [onto_herelles.ZoneEA])']
Distance = 12

285
Assertions: ['(destine surface_herbeuse_agricole is a [onto_herelles.Surface_herbeuse_agricole])', '(has_pixels Px_2 is a [onto_herelles.Pixel])', '(has_state bati_activite is a [onto_herelles.Bati_activite])', '(is_in zone_1 is a [onto_herelles.ZoneArticle1])', '(is_in zone_2 is a [onto_herelles.ZoneEA])']
Distance = 12

286
Assertions: ['(destine autres_cultures is a [onto_herelles.Autres_cultures])', '(has_pixels Px_2 is a [onto_herelles.Pixel])', '(has_state bati_activite is a [onto_herelles.Bati_activite])', '(is_in zone_1 is a [onto_herelles.ZoneArticle1])', '(is_in zone_2 is a [onto_herelles.ZoneEA])']
Distance = 12

287
Assertions: ['(destine verger is a [onto_herelles.Verger])', '(has_pixels Px_2 is a [onto_herelles.Pixel])', '(has_state bati_activite is a [onto_herelles.Bati_activite])', '(is_in zone_1 is a [onto_herelles.ZoneArticle1])', '(is_in zone_2 is a [onto_herelles.ZoneEA])']
Distance = 12

288
Assertions: ['(destine groupe_darbres_agricole_sylviculture is a [onto_herelles.Groupe_darbres_agricole_sylviculture])', '(has_pixels Px_2 is a [onto_herelles.Pixel])', '(has_state bati_activite is a [onto_herelles.Bati_activite])', '(is_in zone_1 is a [onto_herelles.ZoneArticle1])', '(is_in zone_2 is a [onto_herelles.ZoneEA])']
Distance = 12

289
Assertions: ['(destine alignement_darbres_agricole is a [onto_herelles.Alignement_darbres_agricole])', '(has_pixels Px_2 is a [onto_herelles.Pixel])', '(has_state bati_activite is a [onto_herelles.Bati_activite])', '(is_in zone_1 is a [onto_herelles.ZoneArticle1])', '(is_in zone_2 is a [onto_herelles.ZoneEA])']
Distance = 12

290
Assertions: ['(destine haie is a [onto_herelles.Haie])', '(has_pixels Px_1 is a [onto_herelles.Pixel])', '(has_state bati_activite is a [onto_herelles.Bati_activite])', '(is_in zone_1 is a [onto_herelles.ZoneArticle1])', '(is_in zone_2 is a [onto_herelles.ZoneEA])']
Distance = 12

291
Assertions: ['(destine vigne is a [onto_herelles.Vigne])', '(has_pixels Px_1 is a [onto_herelles.Pixel])', '(has_state bati_activite is a [onto_herelles.Bati_activite])', '(is_in zone_1 is a [onto_herelles.ZoneArticle1])', '(is_in zone_2 is a [onto_herelles.ZoneEA])']
Distance = 12

292
Assertions: ['(destine surface_herbeuse_agricole is a [onto_herelles.Surface_herbeuse_agricole])', '(has_pixels Px_1 is a [onto_herelles.Pixel])', '(has_state bati_activite is a [onto_herelles.Bati_activite])', '(is_in zone_1 is a [onto_herelles.ZoneArticle1])', '(is_in zone_2 is a [onto_herelles.ZoneEA])']
Distance = 12

293
Assertions: ['(destine autres_cultures is a [onto_herelles.Autres_cultures])', '(has_pixels Px_1 is a [onto_herelles.Pixel])', '(has_state bati_activite is a [onto_herelles.Bati_activite])', '(is_in zone_1 is a [onto_herelles.ZoneArticle1])', '(is_in zone_2 is a [onto_herelles.ZoneEA])']
Distance = 12

294
Assertions: ['(destine verger is a [onto_herelles.Verger])', '(has_pixels Px_1 is a [onto_herelles.Pixel])', '(has_state bati_activite is a [onto_herelles.Bati_activite])', '(is_in zone_1 is a [onto_herelles.ZoneArticle1])', '(is_in zone_2 is a [onto_herelles.ZoneEA])']
Distance = 12

295
Assertions: ['(destine groupe_darbres_agricole_sylviculture is a [onto_herelles.Groupe_darbres_agricole_sylviculture])', '(has_pixels Px_1 is a [onto_herelles.Pixel])', '(has_state bati_activite is a [onto_herelles.Bati_activite])', '(is_in zone_1 is a [onto_herelles.ZoneArticle1])', '(is_in zone_2 is a [onto_herelles.ZoneEA])']
Distance = 12

296
Assertions: ['(destine alignement_darbres_agricole is a [onto_herelles.Alignement_darbres_agricole])', '(has_pixels Px_1 is a [onto_herelles.Pixel])', '(has_state bati_activite is a [onto_herelles.Bati_activite])', '(is_in zone_1 is a [onto_herelles.ZoneArticle1])', '(is_in zone_2 is a [onto_herelles.ZoneEA])']
Distance = 12

297
Assertions: ['(destine autre_vegetation_agricole is a [onto_herelles.Autre_vegetation_agricole])', '(has_pixels Px_2 is a [onto_herelles.Pixel])', '(has_state bâtiment_rural is a [onto_herelles.Bâtiment_rural])', '(is_in zone_1 is a [onto_herelles.ZoneArticle1])', '(is_in zone_2 is a [onto_herelles.ZoneEA])']
Distance = 12

298
Assertions: ['(destine parcelle_agricole is a [onto_herelles.Parcelle_agricole])', '(has_pixels Px_2 is a [onto_herelles.Pixel])', '(has_state bâtiment_rural is a [onto_herelles.Bâtiment_rural])', '(is_in zone_1 is a [onto_herelles.ZoneArticle1])', '(is_in zone_2 is a [onto_herelles.ZoneEA])']
Distance = 12

299
Assertions: ['(destine element_boise_agricole is a [onto_herelles.Element_boise_agricole])', '(has_pixels Px_2 is a [onto_herelles.Pixel])', '(has_state bâtiment_rural is a [onto_herelles.Bâtiment_rural])', '(is_in zone_1 is a [onto_herelles.ZoneArticle1])', '(is_in zone_2 is a [onto_herelles.ZoneEA])']
Distance = 12

300
Assertions: ['(destine autre_vegetation_agricole is a [onto_herelles.Autre_vegetation_agricole])', '(has_pixels Px_2 is a [onto_herelles.Pixel])', '(has_state serre is a [onto_herelles.Serre])', '(is_in zone_1 is a [onto_herelles.ZoneArticle1])', '(is_in zone_2 is a [onto_herelles.ZoneEA])']
Distance = 12

301
Assertions: ['(destine parcelle_agricole is a [onto_herelles.Parcelle_agricole])', '(has_pixels Px_2 is a [onto_herelles.Pixel])', '(has_state serre is a [onto_herelles.Serre])', '(is_in zone_1 is a [onto_herelles.ZoneArticle1])', '(is_in zone_2 is a [onto_herelles.ZoneEA])']
Distance = 12

302
Assertions: ['(destine element_boise_agricole is a [onto_herelles.Element_boise_agricole])', '(has_pixels Px_2 is a [onto_herelles.Pixel])', '(has_state serre is a [onto_herelles.Serre])', '(is_in zone_1 is a [onto_herelles.ZoneArticle1])', '(is_in zone_2 is a [onto_herelles.ZoneEA])']
Distance = 12

303
Assertions: ['(destine autre_vegetation_agricole is a [onto_herelles.Autre_vegetation_agricole])', '(has_pixels Px_1 is a [onto_herelles.Pixel])', '(has_state bâtiment_rural is a [onto_herelles.Bâtiment_rural])', '(is_in zone_1 is a [onto_herelles.ZoneArticle1])', '(is_in zone_2 is a [onto_herelles.ZoneEA])']
Distance = 12

304
Assertions: ['(destine parcelle_agricole is a [onto_herelles.Parcelle_agricole])', '(has_pixels Px_1 is a [onto_herelles.Pixel])', '(has_state bâtiment_rural is a [onto_herelles.Bâtiment_rural])', '(is_in zone_1 is a [onto_herelles.ZoneArticle1])', '(is_in zone_2 is a [onto_herelles.ZoneEA])']
Distance = 12

305
Assertions: ['(destine element_boise_agricole is a [onto_herelles.Element_boise_agricole])', '(has_pixels Px_1 is a [onto_herelles.Pixel])', '(has_state bâtiment_rural is a [onto_herelles.Bâtiment_rural])', '(is_in zone_1 is a [onto_herelles.ZoneArticle1])', '(is_in zone_2 is a [onto_herelles.ZoneEA])']
Distance = 12

306
Assertions: ['(destine autre_vegetation_agricole is a [onto_herelles.Autre_vegetation_agricole])', '(has_pixels Px_1 is a [onto_herelles.Pixel])', '(has_state serre is a [onto_herelles.Serre])', '(is_in zone_1 is a [onto_herelles.ZoneArticle1])', '(is_in zone_2 is a [onto_herelles.ZoneEA])']
Distance = 12

307
Assertions: ['(destine parcelle_agricole is a [onto_herelles.Parcelle_agricole])', '(has_pixels Px_1 is a [onto_herelles.Pixel])', '(has_state serre is a [onto_herelles.Serre])', '(is_in zone_1 is a [onto_herelles.ZoneArticle1])', '(is_in zone_2 is a [onto_herelles.ZoneEA])']
Distance = 12

308
Assertions: ['(destine element_boise_agricole is a [onto_herelles.Element_boise_agricole])', '(has_pixels Px_1 is a [onto_herelles.Pixel])', '(has_state serre is a [onto_herelles.Serre])', '(is_in zone_1 is a [onto_herelles.ZoneArticle1])', '(is_in zone_2 is a [onto_herelles.ZoneEA])']
Distance = 12

309
Assertions: ['(destine EA_1 is a [onto_herelles.Espaces_agricoles])', '(has_pixels Px_2 is a [onto_herelles.Pixel])', '(has_state bati_industrielle is a [onto_herelles.Zone_industrielle_commerciale_ou_tertiaire])', '(is_in zone_2 is a [onto_herelles.ZoneEA])']
Distance = 12

310
Assertions: ['(destine tu_continu_individuel is a [onto_herelles.TU_continu_individuel])', '(has_pixels Px_2 is a [onto_herelles.Pixel])', '(has_state bati_industrielle is a [onto_herelles.Zone_industrielle_commerciale_ou_tertiaire])', '(is_in zone_1 is a [onto_herelles.ZoneArticle1])']
Distance = 12

311
Assertions: ['(destine tu_continu_collectif is a [onto_herelles.TU_continu_collectif])', '(has_pixels Px_2 is a [onto_herelles.Pixel])', '(has_state bati_industrielle is a [onto_herelles.Zone_industrielle_commerciale_ou_tertiaire])', '(is_in zone_1 is a [onto_herelles.ZoneArticle1])']
Distance = 12

312
Assertions: ['(destine tu_discontinu_collectif is a [onto_herelles.TU_discontinu_collectif])', '(has_pixels Px_2 is a [onto_herelles.Pixel])', '(has_state bati_industrielle is a [onto_herelles.Zone_industrielle_commerciale_ou_tertiaire])', '(is_in zone_1 is a [onto_herelles.ZoneArticle1])']
Distance = 12

313
Assertions: ['(destine tu_discontinu_individuel is a [onto_herelles.TU_discontinu_individuel])', '(has_pixels Px_2 is a [onto_herelles.Pixel])', '(has_state bati_industrielle is a [onto_herelles.Zone_industrielle_commerciale_ou_tertiaire])', '(is_in zone_1 is a [onto_herelles.ZoneArticle1])']
Distance = 12

314
Assertions: ['(destine EA_1 is a [onto_herelles.Espaces_agricoles])', '(has_pixels Px_1 is a [onto_herelles.Pixel])', '(has_state bati_industrielle is a [onto_herelles.Zone_industrielle_commerciale_ou_tertiaire])', '(is_in zone_2 is a [onto_herelles.ZoneEA])']
Distance = 12

315
Assertions: ['(destine tu_continu_individuel is a [onto_herelles.TU_continu_individuel])', '(has_pixels Px_1 is a [onto_herelles.Pixel])', '(has_state bati_industrielle is a [onto_herelles.Zone_industrielle_commerciale_ou_tertiaire])', '(is_in zone_1 is a [onto_herelles.ZoneArticle1])']
Distance = 12

316
Assertions: ['(destine tu_continu_collectif is a [onto_herelles.TU_continu_collectif])', '(has_pixels Px_1 is a [onto_herelles.Pixel])', '(has_state bati_industrielle is a [onto_herelles.Zone_industrielle_commerciale_ou_tertiaire])', '(is_in zone_1 is a [onto_herelles.ZoneArticle1])']
Distance = 12

317
Assertions: ['(destine tu_discontinu_collectif is a [onto_herelles.TU_discontinu_collectif])', '(has_pixels Px_1 is a [onto_herelles.Pixel])', '(has_state bati_industrielle is a [onto_herelles.Zone_industrielle_commerciale_ou_tertiaire])', '(is_in zone_1 is a [onto_herelles.ZoneArticle1])']
Distance = 12

318
Assertions: ['(destine tu_discontinu_individuel is a [onto_herelles.TU_discontinu_individuel])', '(has_pixels Px_1 is a [onto_herelles.Pixel])', '(has_state bati_industrielle is a [onto_herelles.Zone_industrielle_commerciale_ou_tertiaire])', '(is_in zone_1 is a [onto_herelles.ZoneArticle1])']
Distance = 12

319
Assertions: ['(destine EA_1 is a [onto_herelles.Espaces_agricoles])', '(has_pixels Px_1 is a [onto_herelles.Pixel])', '(has_pixels Px_2 is a [onto_herelles.Pixel])', '(has_state bati_activite is a [onto_herelles.Bati_activite])', '(is_in zone_2 is a [onto_herelles.ZoneEA])']
Distance = 12

320
Assertions: ['(destine EA_1 is a [onto_herelles.Espaces_agricoles])', '(has_state bati_activite is a [onto_herelles.Bati_activite])', '(is_in zone_1 is a [onto_herelles.ZoneArticle1])', '(is_in zone_2 is a [onto_herelles.ZoneEA])']
Distance = 12

321
Assertions: ['(destine state_geo is a [onto_herelles.State_Geo])', '(has_pixels Px_1 is a [onto_herelles.Pixel])', '(has_pixels Px_2 is a [onto_herelles.Pixel])', '(has_state bâtiment_rural is a [onto_herelles.Bâtiment_rural])', '(is_in zone_2 is a [onto_herelles.ZoneEA])']
Distance = 12

322
Assertions: ['(destine state_geo is a [onto_herelles.State_Geo])', '(has_pixels Px_1 is a [onto_herelles.Pixel])', '(has_pixels Px_2 is a [onto_herelles.Pixel])', '(has_state serre is a [onto_herelles.Serre])', '(is_in zone_2 is a [onto_herelles.ZoneEA])']
Distance = 12

323
Assertions: ['(destine state_geo is a [onto_herelles.State_Geo])', '(has_state bâtiment_rural is a [onto_herelles.Bâtiment_rural])', '(is_in zone_1 is a [onto_herelles.ZoneArticle1])', '(is_in zone_2 is a [onto_herelles.ZoneEA])']
Distance = 12

324
Assertions: ['(destine state_geo is a [onto_herelles.State_Geo])', '(has_state serre is a [onto_herelles.Serre])', '(is_in zone_1 is a [onto_herelles.ZoneArticle1])', '(is_in zone_2 is a [onto_herelles.ZoneEA])']
Distance = 12

325
Assertions: ['(destine bati_industrielle is a [onto_herelles.Zone_industrielle_commerciale_ou_tertiaire])', '(has_state bati_industrielle is a [onto_herelles.Zone_industrielle_commerciale_ou_tertiaire])']
Distance = 12

326
Assertions: ['(destine bati_residentiel is a [onto_herelles.Bati_residentiel])', '(has_state bati_industrielle is a [onto_herelles.Zone_industrielle_commerciale_ou_tertiaire])', '(is_in zone_1 is a [onto_herelles.ZoneArticle1])']
Distance = 12

327
Assertions: ['(destine autre_bati is a [onto_herelles.Autre_Bati])', '(has_state bati_industrielle is a [onto_herelles.Zone_industrielle_commerciale_ou_tertiaire])', '(is_in zone_1 is a [onto_herelles.ZoneArticle1])']
Distance = 12

328
Assertions: ['(destine bati_industrielle is a [onto_herelles.Zone_industrielle_commerciale_ou_tertiaire])', '(has_pixels Px_2 is a [onto_herelles.Pixel])', '(has_state bati_activite is a [onto_herelles.Bati_activite])']
Distance = 12

329
Assertions: ['(destine bati_industrielle is a [onto_herelles.Zone_industrielle_commerciale_ou_tertiaire])', '(has_pixels Px_1 is a [onto_herelles.Pixel])', '(has_state bati_activite is a [onto_herelles.Bati_activite])']
Distance = 12

330
Assertions: ['(destine bati_activite is a [onto_herelles.Bati_activite])', '(has_state bati_activite is a [onto_herelles.Bati_activite])', '(is_in zone_1 is a [onto_herelles.ZoneArticle1])']
Distance = 12

331
Assertions: ['(destine bati_industrielle is a [onto_herelles.Zone_industrielle_commerciale_ou_tertiaire])', '(has_state bati_activite is a [onto_herelles.Bati_activite])', '(is_in zone is a [onto_herelles.Zone])']
Distance = 12

332
Assertions: ['(destine bâtiment_rural is a [onto_herelles.Bâtiment_rural])', '(has_pixels Px_2 is a [onto_herelles.Pixel])', '(has_state bâtiment_rural is a [onto_herelles.Bâtiment_rural])', '(is_in zone_1 is a [onto_herelles.ZoneArticle1])']
Distance = 12

333
Assertions: ['(destine bâtiment_rural is a [onto_herelles.Bâtiment_rural])', '(has_pixels Px_2 is a [onto_herelles.Pixel])', '(has_state serre is a [onto_herelles.Serre])', '(is_in zone_1 is a [onto_herelles.ZoneArticle1])']
Distance = 12

334
Assertions: ['(destine serre is a [onto_herelles.Serre])', '(has_pixels Px_2 is a [onto_herelles.Pixel])', '(has_state bâtiment_rural is a [onto_herelles.Bâtiment_rural])', '(is_in zone_1 is a [onto_herelles.ZoneArticle1])']
Distance = 12

335
Assertions: ['(destine serre is a [onto_herelles.Serre])', '(has_pixels Px_2 is a [onto_herelles.Pixel])', '(has_state serre is a [onto_herelles.Serre])', '(is_in zone_1 is a [onto_herelles.ZoneArticle1])']
Distance = 12

336
Assertions: ['(destine bati_industrielle is a [onto_herelles.Zone_industrielle_commerciale_ou_tertiaire])', '(has_pixels Px_2 is a [onto_herelles.Pixel])', '(has_state bâtiment_rural is a [onto_herelles.Bâtiment_rural])', '(is_in zone_z2 is a [onto_herelles.Zone_Z2])']
Distance = 12

337
Assertions: ['(destine bati_industrielle is a [onto_herelles.Zone_industrielle_commerciale_ou_tertiaire])', '(has_pixels Px_2 is a [onto_herelles.Pixel])', '(has_state bâtiment_rural is a [onto_herelles.Bâtiment_rural])', '(is_in zoneeau is a [onto_herelles.ZoneEau])']
Distance = 12

338
Assertions: ['(destine bati_industrielle is a [onto_herelles.Zone_industrielle_commerciale_ou_tertiaire])', '(has_pixels Px_2 is a [onto_herelles.Pixel])', '(has_state serre is a [onto_herelles.Serre])', '(is_in zone_z2 is a [onto_herelles.Zone_Z2])']
Distance = 12

339
Assertions: ['(destine bati_industrielle is a [onto_herelles.Zone_industrielle_commerciale_ou_tertiaire])', '(has_pixels Px_2 is a [onto_herelles.Pixel])', '(has_state serre is a [onto_herelles.Serre])', '(is_in zoneeau is a [onto_herelles.ZoneEau])']
Distance = 12

340
Assertions: ['(destine bâtiment_rural is a [onto_herelles.Bâtiment_rural])', '(has_pixels Px_1 is a [onto_herelles.Pixel])', '(has_state bâtiment_rural is a [onto_herelles.Bâtiment_rural])', '(is_in zone_1 is a [onto_herelles.ZoneArticle1])']
Distance = 12

341
Assertions: ['(destine bâtiment_rural is a [onto_herelles.Bâtiment_rural])', '(has_pixels Px_1 is a [onto_herelles.Pixel])', '(has_state serre is a [onto_herelles.Serre])', '(is_in zone_1 is a [onto_herelles.ZoneArticle1])']
Distance = 12

342
Assertions: ['(destine serre is a [onto_herelles.Serre])', '(has_pixels Px_1 is a [onto_herelles.Pixel])', '(has_state bâtiment_rural is a [onto_herelles.Bâtiment_rural])', '(is_in zone_1 is a [onto_herelles.ZoneArticle1])']
Distance = 12

343
Assertions: ['(destine serre is a [onto_herelles.Serre])', '(has_pixels Px_1 is a [onto_herelles.Pixel])', '(has_state serre is a [onto_herelles.Serre])', '(is_in zone_1 is a [onto_herelles.ZoneArticle1])']
Distance = 12

344
Assertions: ['(destine bati_industrielle is a [onto_herelles.Zone_industrielle_commerciale_ou_tertiaire])', '(has_pixels Px_1 is a [onto_herelles.Pixel])', '(has_state bâtiment_rural is a [onto_herelles.Bâtiment_rural])', '(is_in zone_z2 is a [onto_herelles.Zone_Z2])']
Distance = 12

345
Assertions: ['(destine bati_industrielle is a [onto_herelles.Zone_industrielle_commerciale_ou_tertiaire])', '(has_pixels Px_1 is a [onto_herelles.Pixel])', '(has_state bâtiment_rural is a [onto_herelles.Bâtiment_rural])', '(is_in zoneeau is a [onto_herelles.ZoneEau])']
Distance = 12

346
Assertions: ['(destine bati_industrielle is a [onto_herelles.Zone_industrielle_commerciale_ou_tertiaire])', '(has_pixels Px_1 is a [onto_herelles.Pixel])', '(has_state serre is a [onto_herelles.Serre])', '(is_in zone_z2 is a [onto_herelles.Zone_Z2])']
Distance = 12

347
Assertions: ['(destine bati_industrielle is a [onto_herelles.Zone_industrielle_commerciale_ou_tertiaire])', '(has_pixels Px_1 is a [onto_herelles.Pixel])', '(has_state serre is a [onto_herelles.Serre])', '(is_in zoneeau is a [onto_herelles.ZoneEau])']
Distance = 12

348
Assertions: ['(has_pixels Px_1 is a [onto_herelles.Pixel])', '(has_pixels Px_2 is a [onto_herelles.Pixel])', '(has_state bâtiment_rural is a [onto_herelles.Bâtiment_rural])', '(is_in zone_1 is a [onto_herelles.ZoneArticle1])', '(is_in zone_2 is a [onto_herelles.ZoneEA])']
Distance = 13

349
Assertions: ['(has_pixels Px_1 is a [onto_herelles.Pixel])', '(has_pixels Px_2 is a [onto_herelles.Pixel])', '(has_state serre is a [onto_herelles.Serre])', '(is_in zone_1 is a [onto_herelles.ZoneArticle1])', '(is_in zone_2 is a [onto_herelles.ZoneEA])']
Distance = 13

350
Assertions: ['(has_pixels Px_1 is a [onto_herelles.Pixel])', '(has_pixels Px_2 is a [onto_herelles.Pixel])', '(has_state bati_industrielle is a [onto_herelles.Zone_industrielle_commerciale_ou_tertiaire])', '(is_in zone_1 is a [onto_herelles.ZoneArticle1])', '(is_in zone_1 is a [onto_herelles.ZoneArticle1])']
Distance = 13

351
Assertions: ['(has_pixels Px_1 is a [onto_herelles.Pixel])', '(has_pixels Px_2 is a [onto_herelles.Pixel])', '(has_state bati_industrielle is a [onto_herelles.Zone_industrielle_commerciale_ou_tertiaire])', '(is_in zone_1 is a [onto_herelles.ZoneArticle1])', '(is_in zone_z2 is a [onto_herelles.Zone_Z2])']
Distance = 13

352
Assertions: ['(has_pixels Px_1 is a [onto_herelles.Pixel])', '(has_pixels Px_2 is a [onto_herelles.Pixel])', '(has_state bati_industrielle is a [onto_herelles.Zone_industrielle_commerciale_ou_tertiaire])', '(is_in zone_1 is a [onto_herelles.ZoneArticle1])', '(is_in zoneeau is a [onto_herelles.ZoneEau])']
Distance = 13

353
Assertions: ['(destine haie is a [onto_herelles.Haie])', '(has_pixels Px_2 is a [onto_herelles.Pixel])', '(has_state bâtiment_rural is a [onto_herelles.Bâtiment_rural])', '(is_in zone_1 is a [onto_herelles.ZoneArticle1])', '(is_in zone_2 is a [onto_herelles.ZoneEA])']
Distance = 13

354
Assertions: ['(destine vigne is a [onto_herelles.Vigne])', '(has_pixels Px_2 is a [onto_herelles.Pixel])', '(has_state bâtiment_rural is a [onto_herelles.Bâtiment_rural])', '(is_in zone_1 is a [onto_herelles.ZoneArticle1])', '(is_in zone_2 is a [onto_herelles.ZoneEA])']
Distance = 13

355
Assertions: ['(destine surface_herbeuse_agricole is a [onto_herelles.Surface_herbeuse_agricole])', '(has_pixels Px_2 is a [onto_herelles.Pixel])', '(has_state bâtiment_rural is a [onto_herelles.Bâtiment_rural])', '(is_in zone_1 is a [onto_herelles.ZoneArticle1])', '(is_in zone_2 is a [onto_herelles.ZoneEA])']
Distance = 13

356
Assertions: ['(destine autres_cultures is a [onto_herelles.Autres_cultures])', '(has_pixels Px_2 is a [onto_herelles.Pixel])', '(has_state bâtiment_rural is a [onto_herelles.Bâtiment_rural])', '(is_in zone_1 is a [onto_herelles.ZoneArticle1])', '(is_in zone_2 is a [onto_herelles.ZoneEA])']
Distance = 13

357
Assertions: ['(destine verger is a [onto_herelles.Verger])', '(has_pixels Px_2 is a [onto_herelles.Pixel])', '(has_state bâtiment_rural is a [onto_herelles.Bâtiment_rural])', '(is_in zone_1 is a [onto_herelles.ZoneArticle1])', '(is_in zone_2 is a [onto_herelles.ZoneEA])']
Distance = 13

358
Assertions: ['(destine groupe_darbres_agricole_sylviculture is a [onto_herelles.Groupe_darbres_agricole_sylviculture])', '(has_pixels Px_2 is a [onto_herelles.Pixel])', '(has_state bâtiment_rural is a [onto_herelles.Bâtiment_rural])', '(is_in zone_1 is a [onto_herelles.ZoneArticle1])', '(is_in zone_2 is a [onto_herelles.ZoneEA])']
Distance = 13

359
Assertions: ['(destine alignement_darbres_agricole is a [onto_herelles.Alignement_darbres_agricole])', '(has_pixels Px_2 is a [onto_herelles.Pixel])', '(has_state bâtiment_rural is a [onto_herelles.Bâtiment_rural])', '(is_in zone_1 is a [onto_herelles.ZoneArticle1])', '(is_in zone_2 is a [onto_herelles.ZoneEA])']
Distance = 13

360
Assertions: ['(destine haie is a [onto_herelles.Haie])', '(has_pixels Px_2 is a [onto_herelles.Pixel])', '(has_state serre is a [onto_herelles.Serre])', '(is_in zone_1 is a [onto_herelles.ZoneArticle1])', '(is_in zone_2 is a [onto_herelles.ZoneEA])']
Distance = 13

361
Assertions: ['(destine vigne is a [onto_herelles.Vigne])', '(has_pixels Px_2 is a [onto_herelles.Pixel])', '(has_state serre is a [onto_herelles.Serre])', '(is_in zone_1 is a [onto_herelles.ZoneArticle1])', '(is_in zone_2 is a [onto_herelles.ZoneEA])']
Distance = 13

362
Assertions: ['(destine surface_herbeuse_agricole is a [onto_herelles.Surface_herbeuse_agricole])', '(has_pixels Px_2 is a [onto_herelles.Pixel])', '(has_state serre is a [onto_herelles.Serre])', '(is_in zone_1 is a [onto_herelles.ZoneArticle1])', '(is_in zone_2 is a [onto_herelles.ZoneEA])']
Distance = 13

363
Assertions: ['(destine autres_cultures is a [onto_herelles.Autres_cultures])', '(has_pixels Px_2 is a [onto_herelles.Pixel])', '(has_state serre is a [onto_herelles.Serre])', '(is_in zone_1 is a [onto_herelles.ZoneArticle1])', '(is_in zone_2 is a [onto_herelles.ZoneEA])']
Distance = 13

364
Assertions: ['(destine verger is a [onto_herelles.Verger])', '(has_pixels Px_2 is a [onto_herelles.Pixel])', '(has_state serre is a [onto_herelles.Serre])', '(is_in zone_1 is a [onto_herelles.ZoneArticle1])', '(is_in zone_2 is a [onto_herelles.ZoneEA])']
Distance = 13

365
Assertions: ['(destine groupe_darbres_agricole_sylviculture is a [onto_herelles.Groupe_darbres_agricole_sylviculture])', '(has_pixels Px_2 is a [onto_herelles.Pixel])', '(has_state serre is a [onto_herelles.Serre])', '(is_in zone_1 is a [onto_herelles.ZoneArticle1])', '(is_in zone_2 is a [onto_herelles.ZoneEA])']
Distance = 13

366
Assertions: ['(destine alignement_darbres_agricole is a [onto_herelles.Alignement_darbres_agricole])', '(has_pixels Px_2 is a [onto_herelles.Pixel])', '(has_state serre is a [onto_herelles.Serre])', '(is_in zone_1 is a [onto_herelles.ZoneArticle1])', '(is_in zone_2 is a [onto_herelles.ZoneEA])']
Distance = 13

367
Assertions: ['(destine haie is a [onto_herelles.Haie])', '(has_pixels Px_1 is a [onto_herelles.Pixel])', '(has_state bâtiment_rural is a [onto_herelles.Bâtiment_rural])', '(is_in zone_1 is a [onto_herelles.ZoneArticle1])', '(is_in zone_2 is a [onto_herelles.ZoneEA])']
Distance = 13

368
Assertions: ['(destine vigne is a [onto_herelles.Vigne])', '(has_pixels Px_1 is a [onto_herelles.Pixel])', '(has_state bâtiment_rural is a [onto_herelles.Bâtiment_rural])', '(is_in zone_1 is a [onto_herelles.ZoneArticle1])', '(is_in zone_2 is a [onto_herelles.ZoneEA])']
Distance = 13

369
Assertions: ['(destine surface_herbeuse_agricole is a [onto_herelles.Surface_herbeuse_agricole])', '(has_pixels Px_1 is a [onto_herelles.Pixel])', '(has_state bâtiment_rural is a [onto_herelles.Bâtiment_rural])', '(is_in zone_1 is a [onto_herelles.ZoneArticle1])', '(is_in zone_2 is a [onto_herelles.ZoneEA])']
Distance = 13

370
Assertions: ['(destine autres_cultures is a [onto_herelles.Autres_cultures])', '(has_pixels Px_1 is a [onto_herelles.Pixel])', '(has_state bâtiment_rural is a [onto_herelles.Bâtiment_rural])', '(is_in zone_1 is a [onto_herelles.ZoneArticle1])', '(is_in zone_2 is a [onto_herelles.ZoneEA])']
Distance = 13

371
Assertions: ['(destine verger is a [onto_herelles.Verger])', '(has_pixels Px_1 is a [onto_herelles.Pixel])', '(has_state bâtiment_rural is a [onto_herelles.Bâtiment_rural])', '(is_in zone_1 is a [onto_herelles.ZoneArticle1])', '(is_in zone_2 is a [onto_herelles.ZoneEA])']
Distance = 13

372
Assertions: ['(destine groupe_darbres_agricole_sylviculture is a [onto_herelles.Groupe_darbres_agricole_sylviculture])', '(has_pixels Px_1 is a [onto_herelles.Pixel])', '(has_state bâtiment_rural is a [onto_herelles.Bâtiment_rural])', '(is_in zone_1 is a [onto_herelles.ZoneArticle1])', '(is_in zone_2 is a [onto_herelles.ZoneEA])']
Distance = 13

373
Assertions: ['(destine alignement_darbres_agricole is a [onto_herelles.Alignement_darbres_agricole])', '(has_pixels Px_1 is a [onto_herelles.Pixel])', '(has_state bâtiment_rural is a [onto_herelles.Bâtiment_rural])', '(is_in zone_1 is a [onto_herelles.ZoneArticle1])', '(is_in zone_2 is a [onto_herelles.ZoneEA])']
Distance = 13

374
Assertions: ['(destine haie is a [onto_herelles.Haie])', '(has_pixels Px_1 is a [onto_herelles.Pixel])', '(has_state serre is a [onto_herelles.Serre])', '(is_in zone_1 is a [onto_herelles.ZoneArticle1])', '(is_in zone_2 is a [onto_herelles.ZoneEA])']
Distance = 13

375
Assertions: ['(destine vigne is a [onto_herelles.Vigne])', '(has_pixels Px_1 is a [onto_herelles.Pixel])', '(has_state serre is a [onto_herelles.Serre])', '(is_in zone_1 is a [onto_herelles.ZoneArticle1])', '(is_in zone_2 is a [onto_herelles.ZoneEA])']
Distance = 13

376
Assertions: ['(destine surface_herbeuse_agricole is a [onto_herelles.Surface_herbeuse_agricole])', '(has_pixels Px_1 is a [onto_herelles.Pixel])', '(has_state serre is a [onto_herelles.Serre])', '(is_in zone_1 is a [onto_herelles.ZoneArticle1])', '(is_in zone_2 is a [onto_herelles.ZoneEA])']
Distance = 13

377
Assertions: ['(destine autres_cultures is a [onto_herelles.Autres_cultures])', '(has_pixels Px_1 is a [onto_herelles.Pixel])', '(has_state serre is a [onto_herelles.Serre])', '(is_in zone_1 is a [onto_herelles.ZoneArticle1])', '(is_in zone_2 is a [onto_herelles.ZoneEA])']
Distance = 13

378
Assertions: ['(destine verger is a [onto_herelles.Verger])', '(has_pixels Px_1 is a [onto_herelles.Pixel])', '(has_state serre is a [onto_herelles.Serre])', '(is_in zone_1 is a [onto_herelles.ZoneArticle1])', '(is_in zone_2 is a [onto_herelles.ZoneEA])']
Distance = 13

379
Assertions: ['(destine groupe_darbres_agricole_sylviculture is a [onto_herelles.Groupe_darbres_agricole_sylviculture])', '(has_pixels Px_1 is a [onto_herelles.Pixel])', '(has_state serre is a [onto_herelles.Serre])', '(is_in zone_1 is a [onto_herelles.ZoneArticle1])', '(is_in zone_2 is a [onto_herelles.ZoneEA])']
Distance = 13

380
Assertions: ['(destine alignement_darbres_agricole is a [onto_herelles.Alignement_darbres_agricole])', '(has_pixels Px_1 is a [onto_herelles.Pixel])', '(has_state serre is a [onto_herelles.Serre])', '(is_in zone_1 is a [onto_herelles.ZoneArticle1])', '(is_in zone_2 is a [onto_herelles.ZoneEA])']
Distance = 13

381
Assertions: ['(destine autre_vegetation_agricole is a [onto_herelles.Autre_vegetation_agricole])', '(has_pixels Px_2 is a [onto_herelles.Pixel])', '(has_state bati_industrielle is a [onto_herelles.Zone_industrielle_commerciale_ou_tertiaire])', '(is_in zone_2 is a [onto_herelles.ZoneEA])']
Distance = 13

382
Assertions: ['(destine parcelle_agricole is a [onto_herelles.Parcelle_agricole])', '(has_pixels Px_2 is a [onto_herelles.Pixel])', '(has_state bati_industrielle is a [onto_herelles.Zone_industrielle_commerciale_ou_tertiaire])', '(is_in zone_2 is a [onto_herelles.ZoneEA])']
Distance = 13

383
Assertions: ['(destine element_boise_agricole is a [onto_herelles.Element_boise_agricole])', '(has_pixels Px_2 is a [onto_herelles.Pixel])', '(has_state bati_industrielle is a [onto_herelles.Zone_industrielle_commerciale_ou_tertiaire])', '(is_in zone_2 is a [onto_herelles.ZoneEA])']
Distance = 13

384
Assertions: ['(destine autre_vegetation_agricole is a [onto_herelles.Autre_vegetation_agricole])', '(has_pixels Px_1 is a [onto_herelles.Pixel])', '(has_state bati_industrielle is a [onto_herelles.Zone_industrielle_commerciale_ou_tertiaire])', '(is_in zone_2 is a [onto_herelles.ZoneEA])']
Distance = 13

385
Assertions: ['(destine parcelle_agricole is a [onto_herelles.Parcelle_agricole])', '(has_pixels Px_1 is a [onto_herelles.Pixel])', '(has_state bati_industrielle is a [onto_herelles.Zone_industrielle_commerciale_ou_tertiaire])', '(is_in zone_2 is a [onto_herelles.ZoneEA])']
Distance = 13

386
Assertions: ['(destine element_boise_agricole is a [onto_herelles.Element_boise_agricole])', '(has_pixels Px_1 is a [onto_herelles.Pixel])', '(has_state bati_industrielle is a [onto_herelles.Zone_industrielle_commerciale_ou_tertiaire])', '(is_in zone_2 is a [onto_herelles.ZoneEA])']
Distance = 13

387
Assertions: ['(destine autre_vegetation_agricole is a [onto_herelles.Autre_vegetation_agricole])', '(has_pixels Px_1 is a [onto_herelles.Pixel])', '(has_pixels Px_2 is a [onto_herelles.Pixel])', '(has_state bati_activite is a [onto_herelles.Bati_activite])', '(is_in zone_2 is a [onto_herelles.ZoneEA])']
Distance = 13

388
Assertions: ['(destine parcelle_agricole is a [onto_herelles.Parcelle_agricole])', '(has_pixels Px_1 is a [onto_herelles.Pixel])', '(has_pixels Px_2 is a [onto_herelles.Pixel])', '(has_state bati_activite is a [onto_herelles.Bati_activite])', '(is_in zone_2 is a [onto_herelles.ZoneEA])']
Distance = 13

389
Assertions: ['(destine element_boise_agricole is a [onto_herelles.Element_boise_agricole])', '(has_pixels Px_1 is a [onto_herelles.Pixel])', '(has_pixels Px_2 is a [onto_herelles.Pixel])', '(has_state bati_activite is a [onto_herelles.Bati_activite])', '(is_in zone_2 is a [onto_herelles.ZoneEA])']
Distance = 13

390
Assertions: ['(destine autre_vegetation_agricole is a [onto_herelles.Autre_vegetation_agricole])', '(has_state bati_activite is a [onto_herelles.Bati_activite])', '(is_in zone_1 is a [onto_herelles.ZoneArticle1])', '(is_in zone_2 is a [onto_herelles.ZoneEA])']
Distance = 13

391
Assertions: ['(destine parcelle_agricole is a [onto_herelles.Parcelle_agricole])', '(has_state bati_activite is a [onto_herelles.Bati_activite])', '(is_in zone_1 is a [onto_herelles.ZoneArticle1])', '(is_in zone_2 is a [onto_herelles.ZoneEA])']
Distance = 13

392
Assertions: ['(destine element_boise_agricole is a [onto_herelles.Element_boise_agricole])', '(has_state bati_activite is a [onto_herelles.Bati_activite])', '(is_in zone_1 is a [onto_herelles.ZoneArticle1])', '(is_in zone_2 is a [onto_herelles.ZoneEA])']
Distance = 13

393
Assertions: ['(destine EA_1 is a [onto_herelles.Espaces_agricoles])', '(has_pixels Px_1 is a [onto_herelles.Pixel])', '(has_pixels Px_2 is a [onto_herelles.Pixel])', '(has_state bâtiment_rural is a [onto_herelles.Bâtiment_rural])', '(is_in zone_2 is a [onto_herelles.ZoneEA])']
Distance = 13

394
Assertions: ['(destine EA_1 is a [onto_herelles.Espaces_agricoles])', '(has_pixels Px_1 is a [onto_herelles.Pixel])', '(has_pixels Px_2 is a [onto_herelles.Pixel])', '(has_state serre is a [onto_herelles.Serre])', '(is_in zone_2 is a [onto_herelles.ZoneEA])']
Distance = 13

395
Assertions: ['(destine EA_1 is a [onto_herelles.Espaces_agricoles])', '(has_state bâtiment_rural is a [onto_herelles.Bâtiment_rural])', '(is_in zone_1 is a [onto_herelles.ZoneArticle1])', '(is_in zone_2 is a [onto_herelles.ZoneEA])']
Distance = 13

396
Assertions: ['(destine EA_1 is a [onto_herelles.Espaces_agricoles])', '(has_state serre is a [onto_herelles.Serre])', '(is_in zone_1 is a [onto_herelles.ZoneArticle1])', '(is_in zone_2 is a [onto_herelles.ZoneEA])']
Distance = 13

397
Assertions: ['(destine state_geo is a [onto_herelles.State_Geo])', '(has_state bati_industrielle is a [onto_herelles.Zone_industrielle_commerciale_ou_tertiaire])', '(is_in zone_2 is a [onto_herelles.ZoneEA])']
Distance = 13

398
Assertions: ['(destine tu_continu is a [onto_herelles.TU_continu])', '(has_state bati_industrielle is a [onto_herelles.Zone_industrielle_commerciale_ou_tertiaire])', '(is_in zone_1 is a [onto_herelles.ZoneArticle1])']
Distance = 13

399
Assertions: ['(destine tu_discontinu is a [onto_herelles.TU_discontinu])', '(has_state bati_industrielle is a [onto_herelles.Zone_industrielle_commerciale_ou_tertiaire])', '(is_in zone_1 is a [onto_herelles.ZoneArticle1])']
Distance = 13

400
Assertions: ['(destine state_geo is a [onto_herelles.State_Geo])', '(has_pixels Px_2 is a [onto_herelles.Pixel])', '(has_state bati_activite is a [onto_herelles.Bati_activite])', '(is_in zone_2 is a [onto_herelles.ZoneEA])']
Distance = 13

401
Assertions: ['(destine state_geo is a [onto_herelles.State_Geo])', '(has_pixels Px_1 is a [onto_herelles.Pixel])', '(has_state bati_activite is a [onto_herelles.Bati_activite])', '(is_in zone_2 is a [onto_herelles.ZoneEA])']
Distance = 13

402
Assertions: ['(destine bati_industrielle is a [onto_herelles.Zone_industrielle_commerciale_ou_tertiaire])', '(has_pixels Px_2 is a [onto_herelles.Pixel])', '(has_state bâtiment_rural is a [onto_herelles.Bâtiment_rural])']
Distance = 13

403
Assertions: ['(destine bati_industrielle is a [onto_herelles.Zone_industrielle_commerciale_ou_tertiaire])', '(has_pixels Px_2 is a [onto_herelles.Pixel])', '(has_state serre is a [onto_herelles.Serre])']
Distance = 13

404
Assertions: ['(destine bati_industrielle is a [onto_herelles.Zone_industrielle_commerciale_ou_tertiaire])', '(has_pixels Px_1 is a [onto_herelles.Pixel])', '(has_state bâtiment_rural is a [onto_herelles.Bâtiment_rural])']
Distance = 13

405
Assertions: ['(destine bati_industrielle is a [onto_herelles.Zone_industrielle_commerciale_ou_tertiaire])', '(has_pixels Px_1 is a [onto_herelles.Pixel])', '(has_state serre is a [onto_herelles.Serre])']
Distance = 13

406
Assertions: ['(destine bati_activite is a [onto_herelles.Bati_activite])', '(has_state bâtiment_rural is a [onto_herelles.Bâtiment_rural])', '(is_in zone_1 is a [onto_herelles.ZoneArticle1])']
Distance = 13

407
Assertions: ['(destine bati_activite is a [onto_herelles.Bati_activite])', '(has_state serre is a [onto_herelles.Serre])', '(is_in zone_1 is a [onto_herelles.ZoneArticle1])']
Distance = 13

408
Assertions: ['(destine bâtiment_rural is a [onto_herelles.Bâtiment_rural])', '(has_state bati_activite is a [onto_herelles.Bati_activite])', '(is_in zone_1 is a [onto_herelles.ZoneArticle1])']
Distance = 13

409
Assertions: ['(destine serre is a [onto_herelles.Serre])', '(has_state bati_activite is a [onto_herelles.Bati_activite])', '(is_in zone_1 is a [onto_herelles.ZoneArticle1])']
Distance = 13

410
Assertions: ['(destine bati_industrielle is a [onto_herelles.Zone_industrielle_commerciale_ou_tertiaire])', '(has_state bâtiment_rural is a [onto_herelles.Bâtiment_rural])', '(is_in zone is a [onto_herelles.Zone])']
Distance = 13

411
Assertions: ['(destine bati_industrielle is a [onto_herelles.Zone_industrielle_commerciale_ou_tertiaire])', '(has_state serre is a [onto_herelles.Serre])', '(is_in zone is a [onto_herelles.Zone])']
Distance = 13

412
Assertions: ['(destine bati_industrielle is a [onto_herelles.Zone_industrielle_commerciale_ou_tertiaire])', '(has_state bati_activite is a [onto_herelles.Bati_activite])', '(is_in zone_z2 is a [onto_herelles.Zone_Z2])']
Distance = 13

413
Assertions: ['(destine bati_industrielle is a [onto_herelles.Zone_industrielle_commerciale_ou_tertiaire])', '(has_state bati_activite is a [onto_herelles.Bati_activite])', '(is_in zoneeau is a [onto_herelles.ZoneEau])']
Distance = 13

414
Assertions: ['(has_pixels Px_1 is a [onto_herelles.Pixel])', '(has_pixels Px_2 is a [onto_herelles.Pixel])', '(has_state bati_industrielle is a [onto_herelles.Zone_industrielle_commerciale_ou_tertiaire])', '(is_in zone_2 is a [onto_herelles.ZoneEA])']
Distance = 14

415
Assertions: ['(has_pixels Px_1 is a [onto_herelles.Pixel])', '(has_pixels Px_2 is a [onto_herelles.Pixel])', '(has_state bati_industrielle is a [onto_herelles.Zone_industrielle_commerciale_ou_tertiaire])', '(is_in zone_1 is a [onto_herelles.ZoneArticle1])']
Distance = 14

416
Assertions: ['(has_state bati_industrielle is a [onto_herelles.Zone_industrielle_commerciale_ou_tertiaire])', '(is_in zone_1 is a [onto_herelles.ZoneArticle1])', '(is_in zone_2 is a [onto_herelles.ZoneEA])']
Distance = 14

417
Assertions: ['(has_pixels Px_2 is a [onto_herelles.Pixel])', '(has_state bati_activite is a [onto_herelles.Bati_activite])', '(is_in zone_1 is a [onto_herelles.ZoneArticle1])', '(is_in zone_2 is a [onto_herelles.ZoneEA])']
Distance = 14

418
Assertions: ['(has_pixels Px_1 is a [onto_herelles.Pixel])', '(has_state bati_activite is a [onto_herelles.Bati_activite])', '(is_in zone_1 is a [onto_herelles.ZoneArticle1])', '(is_in zone_2 is a [onto_herelles.ZoneEA])']
Distance = 14

419
Assertions: ['(destine bati_industrielle is a [onto_herelles.Zone_industrielle_commerciale_ou_tertiaire])', '(has_pixels Px_1 is a [onto_herelles.Pixel])', '(has_pixels Px_2 is a [onto_herelles.Pixel])', '(is_in zone is a [onto_herelles.Zone])', '(is_in zone is a [onto_herelles.Zone])']
Distance = 14

420
Assertions: ['(has_pixels Px_1 is a [onto_herelles.Pixel])', '(has_pixels Px_2 is a [onto_herelles.Pixel])', '(has_state bati_industrielle is a [onto_herelles.Zone_industrielle_commerciale_ou_tertiaire])', '(is_in zone is a [onto_herelles.Zone])', '(is_in zone_1 is a [onto_herelles.ZoneArticle1])']
Distance = 14

421
Assertions: ['(destine haie is a [onto_herelles.Haie])', '(has_pixels Px_2 is a [onto_herelles.Pixel])', '(has_state bati_industrielle is a [onto_herelles.Zone_industrielle_commerciale_ou_tertiaire])', '(is_in zone_2 is a [onto_herelles.ZoneEA])']
Distance = 14

422
Assertions: ['(destine vigne is a [onto_herelles.Vigne])', '(has_pixels Px_2 is a [onto_herelles.Pixel])', '(has_state bati_industrielle is a [onto_herelles.Zone_industrielle_commerciale_ou_tertiaire])', '(is_in zone_2 is a [onto_herelles.ZoneEA])']
Distance = 14

423
Assertions: ['(destine surface_herbeuse_agricole is a [onto_herelles.Surface_herbeuse_agricole])', '(has_pixels Px_2 is a [onto_herelles.Pixel])', '(has_state bati_industrielle is a [onto_herelles.Zone_industrielle_commerciale_ou_tertiaire])', '(is_in zone_2 is a [onto_herelles.ZoneEA])']
Distance = 14

424
Assertions: ['(destine autres_cultures is a [onto_herelles.Autres_cultures])', '(has_pixels Px_2 is a [onto_herelles.Pixel])', '(has_state bati_industrielle is a [onto_herelles.Zone_industrielle_commerciale_ou_tertiaire])', '(is_in zone_2 is a [onto_herelles.ZoneEA])']
Distance = 14

425
Assertions: ['(destine verger is a [onto_herelles.Verger])', '(has_pixels Px_2 is a [onto_herelles.Pixel])', '(has_state bati_industrielle is a [onto_herelles.Zone_industrielle_commerciale_ou_tertiaire])', '(is_in zone_2 is a [onto_herelles.ZoneEA])']
Distance = 14

426
Assertions: ['(destine groupe_darbres_agricole_sylviculture is a [onto_herelles.Groupe_darbres_agricole_sylviculture])', '(has_pixels Px_2 is a [onto_herelles.Pixel])', '(has_state bati_industrielle is a [onto_herelles.Zone_industrielle_commerciale_ou_tertiaire])', '(is_in zone_2 is a [onto_herelles.ZoneEA])']
Distance = 14

427
Assertions: ['(destine alignement_darbres_agricole is a [onto_herelles.Alignement_darbres_agricole])', '(has_pixels Px_2 is a [onto_herelles.Pixel])', '(has_state bati_industrielle is a [onto_herelles.Zone_industrielle_commerciale_ou_tertiaire])', '(is_in zone_2 is a [onto_herelles.ZoneEA])']
Distance = 14

428
Assertions: ['(destine haie is a [onto_herelles.Haie])', '(has_pixels Px_1 is a [onto_herelles.Pixel])', '(has_state bati_industrielle is a [onto_herelles.Zone_industrielle_commerciale_ou_tertiaire])', '(is_in zone_2 is a [onto_herelles.ZoneEA])']
Distance = 14

429
Assertions: ['(destine vigne is a [onto_herelles.Vigne])', '(has_pixels Px_1 is a [onto_herelles.Pixel])', '(has_state bati_industrielle is a [onto_herelles.Zone_industrielle_commerciale_ou_tertiaire])', '(is_in zone_2 is a [onto_herelles.ZoneEA])']
Distance = 14

430
Assertions: ['(destine surface_herbeuse_agricole is a [onto_herelles.Surface_herbeuse_agricole])', '(has_pixels Px_1 is a [onto_herelles.Pixel])', '(has_state bati_industrielle is a [onto_herelles.Zone_industrielle_commerciale_ou_tertiaire])', '(is_in zone_2 is a [onto_herelles.ZoneEA])']
Distance = 14

431
Assertions: ['(destine autres_cultures is a [onto_herelles.Autres_cultures])', '(has_pixels Px_1 is a [onto_herelles.Pixel])', '(has_state bati_industrielle is a [onto_herelles.Zone_industrielle_commerciale_ou_tertiaire])', '(is_in zone_2 is a [onto_herelles.ZoneEA])']
Distance = 14

432
Assertions: ['(destine verger is a [onto_herelles.Verger])', '(has_pixels Px_1 is a [onto_herelles.Pixel])', '(has_state bati_industrielle is a [onto_herelles.Zone_industrielle_commerciale_ou_tertiaire])', '(is_in zone_2 is a [onto_herelles.ZoneEA])']
Distance = 14

433
Assertions: ['(destine groupe_darbres_agricole_sylviculture is a [onto_herelles.Groupe_darbres_agricole_sylviculture])', '(has_pixels Px_1 is a [onto_herelles.Pixel])', '(has_state bati_industrielle is a [onto_herelles.Zone_industrielle_commerciale_ou_tertiaire])', '(is_in zone_2 is a [onto_herelles.ZoneEA])']
Distance = 14

434
Assertions: ['(destine alignement_darbres_agricole is a [onto_herelles.Alignement_darbres_agricole])', '(has_pixels Px_1 is a [onto_herelles.Pixel])', '(has_state bati_industrielle is a [onto_herelles.Zone_industrielle_commerciale_ou_tertiaire])', '(is_in zone_2 is a [onto_herelles.ZoneEA])']
Distance = 14

435
Assertions: ['(destine haie is a [onto_herelles.Haie])', '(has_pixels Px_1 is a [onto_herelles.Pixel])', '(has_pixels Px_2 is a [onto_herelles.Pixel])', '(has_state bati_activite is a [onto_herelles.Bati_activite])', '(is_in zone_2 is a [onto_herelles.ZoneEA])']
Distance = 14

436
Assertions: ['(destine vigne is a [onto_herelles.Vigne])', '(has_pixels Px_1 is a [onto_herelles.Pixel])', '(has_pixels Px_2 is a [onto_herelles.Pixel])', '(has_state bati_activite is a [onto_herelles.Bati_activite])', '(is_in zone_2 is a [onto_herelles.ZoneEA])']
Distance = 14

437
Assertions: ['(destine surface_herbeuse_agricole is a [onto_herelles.Surface_herbeuse_agricole])', '(has_pixels Px_1 is a [onto_herelles.Pixel])', '(has_pixels Px_2 is a [onto_herelles.Pixel])', '(has_state bati_activite is a [onto_herelles.Bati_activite])', '(is_in zone_2 is a [onto_herelles.ZoneEA])']
Distance = 14

438
Assertions: ['(destine autres_cultures is a [onto_herelles.Autres_cultures])', '(has_pixels Px_1 is a [onto_herelles.Pixel])', '(has_pixels Px_2 is a [onto_herelles.Pixel])', '(has_state bati_activite is a [onto_herelles.Bati_activite])', '(is_in zone_2 is a [onto_herelles.ZoneEA])']
Distance = 14

439
Assertions: ['(destine verger is a [onto_herelles.Verger])', '(has_pixels Px_1 is a [onto_herelles.Pixel])', '(has_pixels Px_2 is a [onto_herelles.Pixel])', '(has_state bati_activite is a [onto_herelles.Bati_activite])', '(is_in zone_2 is a [onto_herelles.ZoneEA])']
Distance = 14

440
Assertions: ['(destine groupe_darbres_agricole_sylviculture is a [onto_herelles.Groupe_darbres_agricole_sylviculture])', '(has_pixels Px_1 is a [onto_herelles.Pixel])', '(has_pixels Px_2 is a [onto_herelles.Pixel])', '(has_state bati_activite is a [onto_herelles.Bati_activite])', '(is_in zone_2 is a [onto_herelles.ZoneEA])']
Distance = 14

441
Assertions: ['(destine alignement_darbres_agricole is a [onto_herelles.Alignement_darbres_agricole])', '(has_pixels Px_1 is a [onto_herelles.Pixel])', '(has_pixels Px_2 is a [onto_herelles.Pixel])', '(has_state bati_activite is a [onto_herelles.Bati_activite])', '(is_in zone_2 is a [onto_herelles.ZoneEA])']
Distance = 14

442
Assertions: ['(destine haie is a [onto_herelles.Haie])', '(has_state bati_activite is a [onto_herelles.Bati_activite])', '(is_in zone_1 is a [onto_herelles.ZoneArticle1])', '(is_in zone_2 is a [onto_herelles.ZoneEA])']
Distance = 14

443
Assertions: ['(destine vigne is a [onto_herelles.Vigne])', '(has_state bati_activite is a [onto_herelles.Bati_activite])', '(is_in zone_1 is a [onto_herelles.ZoneArticle1])', '(is_in zone_2 is a [onto_herelles.ZoneEA])']
Distance = 14

444
Assertions: ['(destine surface_herbeuse_agricole is a [onto_herelles.Surface_herbeuse_agricole])', '(has_state bati_activite is a [onto_herelles.Bati_activite])', '(is_in zone_1 is a [onto_herelles.ZoneArticle1])', '(is_in zone_2 is a [onto_herelles.ZoneEA])']
Distance = 14

445
Assertions: ['(destine autres_cultures is a [onto_herelles.Autres_cultures])', '(has_state bati_activite is a [onto_herelles.Bati_activite])', '(is_in zone_1 is a [onto_herelles.ZoneArticle1])', '(is_in zone_2 is a [onto_herelles.ZoneEA])']
Distance = 14

446
Assertions: ['(destine verger is a [onto_herelles.Verger])', '(has_state bati_activite is a [onto_herelles.Bati_activite])', '(is_in zone_1 is a [onto_herelles.ZoneArticle1])', '(is_in zone_2 is a [onto_herelles.ZoneEA])']
Distance = 14

447
Assertions: ['(destine groupe_darbres_agricole_sylviculture is a [onto_herelles.Groupe_darbres_agricole_sylviculture])', '(has_state bati_activite is a [onto_herelles.Bati_activite])', '(is_in zone_1 is a [onto_herelles.ZoneArticle1])', '(is_in zone_2 is a [onto_herelles.ZoneEA])']
Distance = 14

448
Assertions: ['(destine alignement_darbres_agricole is a [onto_herelles.Alignement_darbres_agricole])', '(has_state bati_activite is a [onto_herelles.Bati_activite])', '(is_in zone_1 is a [onto_herelles.ZoneArticle1])', '(is_in zone_2 is a [onto_herelles.ZoneEA])']
Distance = 14

449
Assertions: ['(destine autre_vegetation_agricole is a [onto_herelles.Autre_vegetation_agricole])', '(has_pixels Px_1 is a [onto_herelles.Pixel])', '(has_pixels Px_2 is a [onto_herelles.Pixel])', '(has_state bâtiment_rural is a [onto_herelles.Bâtiment_rural])', '(is_in zone_2 is a [onto_herelles.ZoneEA])']
Distance = 14

450
Assertions: ['(destine parcelle_agricole is a [onto_herelles.Parcelle_agricole])', '(has_pixels Px_1 is a [onto_herelles.Pixel])', '(has_pixels Px_2 is a [onto_herelles.Pixel])', '(has_state bâtiment_rural is a [onto_herelles.Bâtiment_rural])', '(is_in zone_2 is a [onto_herelles.ZoneEA])']
Distance = 14

451
Assertions: ['(destine element_boise_agricole is a [onto_herelles.Element_boise_agricole])', '(has_pixels Px_1 is a [onto_herelles.Pixel])', '(has_pixels Px_2 is a [onto_herelles.Pixel])', '(has_state bâtiment_rural is a [onto_herelles.Bâtiment_rural])', '(is_in zone_2 is a [onto_herelles.ZoneEA])']
Distance = 14

452
Assertions: ['(destine autre_vegetation_agricole is a [onto_herelles.Autre_vegetation_agricole])', '(has_pixels Px_1 is a [onto_herelles.Pixel])', '(has_pixels Px_2 is a [onto_herelles.Pixel])', '(has_state serre is a [onto_herelles.Serre])', '(is_in zone_2 is a [onto_herelles.ZoneEA])']
Distance = 14

453
Assertions: ['(destine parcelle_agricole is a [onto_herelles.Parcelle_agricole])', '(has_pixels Px_1 is a [onto_herelles.Pixel])', '(has_pixels Px_2 is a [onto_herelles.Pixel])', '(has_state serre is a [onto_herelles.Serre])', '(is_in zone_2 is a [onto_herelles.ZoneEA])']
Distance = 14

454
Assertions: ['(destine element_boise_agricole is a [onto_herelles.Element_boise_agricole])', '(has_pixels Px_1 is a [onto_herelles.Pixel])', '(has_pixels Px_2 is a [onto_herelles.Pixel])', '(has_state serre is a [onto_herelles.Serre])', '(is_in zone_2 is a [onto_herelles.ZoneEA])']
Distance = 14

455
Assertions: ['(destine autre_vegetation_agricole is a [onto_herelles.Autre_vegetation_agricole])', '(has_state bâtiment_rural is a [onto_herelles.Bâtiment_rural])', '(is_in zone_1 is a [onto_herelles.ZoneArticle1])', '(is_in zone_2 is a [onto_herelles.ZoneEA])']
Distance = 14

456
Assertions: ['(destine parcelle_agricole is a [onto_herelles.Parcelle_agricole])', '(has_state bâtiment_rural is a [onto_herelles.Bâtiment_rural])', '(is_in zone_1 is a [onto_herelles.ZoneArticle1])', '(is_in zone_2 is a [onto_herelles.ZoneEA])']
Distance = 14

457
Assertions: ['(destine element_boise_agricole is a [onto_herelles.Element_boise_agricole])', '(has_state bâtiment_rural is a [onto_herelles.Bâtiment_rural])', '(is_in zone_1 is a [onto_herelles.ZoneArticle1])', '(is_in zone_2 is a [onto_herelles.ZoneEA])']
Distance = 14

458
Assertions: ['(destine autre_vegetation_agricole is a [onto_herelles.Autre_vegetation_agricole])', '(has_state serre is a [onto_herelles.Serre])', '(is_in zone_1 is a [onto_herelles.ZoneArticle1])', '(is_in zone_2 is a [onto_herelles.ZoneEA])']
Distance = 14

459
Assertions: ['(destine parcelle_agricole is a [onto_herelles.Parcelle_agricole])', '(has_state serre is a [onto_herelles.Serre])', '(is_in zone_1 is a [onto_herelles.ZoneArticle1])', '(is_in zone_2 is a [onto_herelles.ZoneEA])']
Distance = 14

460
Assertions: ['(destine element_boise_agricole is a [onto_herelles.Element_boise_agricole])', '(has_state serre is a [onto_herelles.Serre])', '(is_in zone_1 is a [onto_herelles.ZoneArticle1])', '(is_in zone_2 is a [onto_herelles.ZoneEA])']
Distance = 14

461
Assertions: ['(destine EA_1 is a [onto_herelles.Espaces_agricoles])', '(has_state bati_industrielle is a [onto_herelles.Zone_industrielle_commerciale_ou_tertiaire])', '(is_in zone_2 is a [onto_herelles.ZoneEA])']
Distance = 14

462
Assertions: ['(destine tu_continu_individuel is a [onto_herelles.TU_continu_individuel])', '(has_state bati_industrielle is a [onto_herelles.Zone_industrielle_commerciale_ou_tertiaire])', '(is_in zone_1 is a [onto_herelles.ZoneArticle1])']
Distance = 14

463
Assertions: ['(destine tu_continu_collectif is a [onto_herelles.TU_continu_collectif])', '(has_state bati_industrielle is a [onto_herelles.Zone_industrielle_commerciale_ou_tertiaire])', '(is_in zone_1 is a [onto_herelles.ZoneArticle1])']
Distance = 14

464
Assertions: ['(destine tu_discontinu_collectif is a [onto_herelles.TU_discontinu_collectif])', '(has_state bati_industrielle is a [onto_herelles.Zone_industrielle_commerciale_ou_tertiaire])', '(is_in zone_1 is a [onto_herelles.ZoneArticle1])']
Distance = 14

465
Assertions: ['(destine tu_discontinu_individuel is a [onto_herelles.TU_discontinu_individuel])', '(has_state bati_industrielle is a [onto_herelles.Zone_industrielle_commerciale_ou_tertiaire])', '(is_in zone_1 is a [onto_herelles.ZoneArticle1])']
Distance = 14

466
Assertions: ['(destine EA_1 is a [onto_herelles.Espaces_agricoles])', '(has_pixels Px_2 is a [onto_herelles.Pixel])', '(has_state bati_activite is a [onto_herelles.Bati_activite])', '(is_in zone_2 is a [onto_herelles.ZoneEA])']
Distance = 14

467
Assertions: ['(destine EA_1 is a [onto_herelles.Espaces_agricoles])', '(has_pixels Px_1 is a [onto_herelles.Pixel])', '(has_state bati_activite is a [onto_herelles.Bati_activite])', '(is_in zone_2 is a [onto_herelles.ZoneEA])']
Distance = 14

468
Assertions: ['(destine state_geo is a [onto_herelles.State_Geo])', '(has_pixels Px_2 is a [onto_herelles.Pixel])', '(has_state bâtiment_rural is a [onto_herelles.Bâtiment_rural])', '(is_in zone_2 is a [onto_herelles.ZoneEA])']
Distance = 14

469
Assertions: ['(destine state_geo is a [onto_herelles.State_Geo])', '(has_pixels Px_2 is a [onto_herelles.Pixel])', '(has_state serre is a [onto_herelles.Serre])', '(is_in zone_2 is a [onto_herelles.ZoneEA])']
Distance = 14

470
Assertions: ['(destine state_geo is a [onto_herelles.State_Geo])', '(has_pixels Px_1 is a [onto_herelles.Pixel])', '(has_state bâtiment_rural is a [onto_herelles.Bâtiment_rural])', '(is_in zone_2 is a [onto_herelles.ZoneEA])']
Distance = 14

471
Assertions: ['(destine state_geo is a [onto_herelles.State_Geo])', '(has_pixels Px_1 is a [onto_herelles.Pixel])', '(has_state serre is a [onto_herelles.Serre])', '(is_in zone_2 is a [onto_herelles.ZoneEA])']
Distance = 14

472
Assertions: ['(destine bati_industrielle is a [onto_herelles.Zone_industrielle_commerciale_ou_tertiaire])', '(has_state bati_activite is a [onto_herelles.Bati_activite])']
Distance = 14

473
Assertions: ['(destine bâtiment_rural is a [onto_herelles.Bâtiment_rural])', '(has_state bâtiment_rural is a [onto_herelles.Bâtiment_rural])', '(is_in zone_1 is a [onto_herelles.ZoneArticle1])']
Distance = 14

474
Assertions: ['(destine bâtiment_rural is a [onto_herelles.Bâtiment_rural])', '(has_state serre is a [onto_herelles.Serre])', '(is_in zone_1 is a [onto_herelles.ZoneArticle1])']
Distance = 14

475
Assertions: ['(destine serre is a [onto_herelles.Serre])', '(has_state bâtiment_rural is a [onto_herelles.Bâtiment_rural])', '(is_in zone_1 is a [onto_herelles.ZoneArticle1])']
Distance = 14

476
Assertions: ['(destine serre is a [onto_herelles.Serre])', '(has_state serre is a [onto_herelles.Serre])', '(is_in zone_1 is a [onto_herelles.ZoneArticle1])']
Distance = 14

477
Assertions: ['(destine bati_industrielle is a [onto_herelles.Zone_industrielle_commerciale_ou_tertiaire])', '(has_state bâtiment_rural is a [onto_herelles.Bâtiment_rural])', '(is_in zone_z2 is a [onto_herelles.Zone_Z2])']
Distance = 14

478
Assertions: ['(destine bati_industrielle is a [onto_herelles.Zone_industrielle_commerciale_ou_tertiaire])', '(has_state bâtiment_rural is a [onto_herelles.Bâtiment_rural])', '(is_in zoneeau is a [onto_herelles.ZoneEau])']
Distance = 14

479
Assertions: ['(destine bati_industrielle is a [onto_herelles.Zone_industrielle_commerciale_ou_tertiaire])', '(has_state serre is a [onto_herelles.Serre])', '(is_in zone_z2 is a [onto_herelles.Zone_Z2])']
Distance = 14

480
Assertions: ['(destine bati_industrielle is a [onto_herelles.Zone_industrielle_commerciale_ou_tertiaire])', '(has_state serre is a [onto_herelles.Serre])', '(is_in zoneeau is a [onto_herelles.ZoneEau])']
Distance = 14

481
Assertions: ['(destine state_geo is a [onto_herelles.State_Geo])', '(has_pixels Px_1 is a [onto_herelles.Pixel])', '(has_pixels Px_2 is a [onto_herelles.Pixel])', '(is_in zone_1 is a [onto_herelles.ZoneArticle1])', '(is_in zone_2 is a [onto_herelles.ZoneEA])']
Distance = 15

482
Assertions: ['(has_pixels Px_2 is a [onto_herelles.Pixel])', '(has_state bâtiment_rural is a [onto_herelles.Bâtiment_rural])', '(is_in zone_1 is a [onto_herelles.ZoneArticle1])', '(is_in zone_2 is a [onto_herelles.ZoneEA])']
Distance = 15

483
Assertions: ['(has_pixels Px_2 is a [onto_herelles.Pixel])', '(has_state serre is a [onto_herelles.Serre])', '(is_in zone_1 is a [onto_herelles.ZoneArticle1])', '(is_in zone_2 is a [onto_herelles.ZoneEA])']
Distance = 15

484
Assertions: ['(has_pixels Px_2 is a [onto_herelles.Pixel])', '(has_state bati_industrielle is a [onto_herelles.Zone_industrielle_commerciale_ou_tertiaire])', '(is_in zone_1 is a [onto_herelles.ZoneArticle1])', '(is_in zone_1 is a [onto_herelles.ZoneArticle1])']
Distance = 15

485
Assertions: ['(has_pixels Px_2 is a [onto_herelles.Pixel])', '(has_state bati_industrielle is a [onto_herelles.Zone_industrielle_commerciale_ou_tertiaire])', '(is_in zone_1 is a [onto_herelles.ZoneArticle1])', '(is_in zone_z2 is a [onto_herelles.Zone_Z2])']
Distance = 15

486
Assertions: ['(has_pixels Px_2 is a [onto_herelles.Pixel])', '(has_state bati_industrielle is a [onto_herelles.Zone_industrielle_commerciale_ou_tertiaire])', '(is_in zone_1 is a [onto_herelles.ZoneArticle1])', '(is_in zoneeau is a [onto_herelles.ZoneEau])']
Distance = 15

487
Assertions: ['(has_pixels Px_1 is a [onto_herelles.Pixel])', '(has_state bâtiment_rural is a [onto_herelles.Bâtiment_rural])', '(is_in zone_1 is a [onto_herelles.ZoneArticle1])', '(is_in zone_2 is a [onto_herelles.ZoneEA])']
Distance = 15

488
Assertions: ['(has_pixels Px_1 is a [onto_herelles.Pixel])', '(has_state serre is a [onto_herelles.Serre])', '(is_in zone_1 is a [onto_herelles.ZoneArticle1])', '(is_in zone_2 is a [onto_herelles.ZoneEA])']
Distance = 15

489
Assertions: ['(has_pixels Px_1 is a [onto_herelles.Pixel])', '(has_state bati_industrielle is a [onto_herelles.Zone_industrielle_commerciale_ou_tertiaire])', '(is_in zone_1 is a [onto_herelles.ZoneArticle1])', '(is_in zone_1 is a [onto_herelles.ZoneArticle1])']
Distance = 15

490
Assertions: ['(has_pixels Px_1 is a [onto_herelles.Pixel])', '(has_state bati_industrielle is a [onto_herelles.Zone_industrielle_commerciale_ou_tertiaire])', '(is_in zone_1 is a [onto_herelles.ZoneArticle1])', '(is_in zone_z2 is a [onto_herelles.Zone_Z2])']
Distance = 15

491
Assertions: ['(has_pixels Px_1 is a [onto_herelles.Pixel])', '(has_state bati_industrielle is a [onto_herelles.Zone_industrielle_commerciale_ou_tertiaire])', '(is_in zone_1 is a [onto_herelles.ZoneArticle1])', '(is_in zoneeau is a [onto_herelles.ZoneEau])']
Distance = 15

492
Assertions: ['(destine bati_activite is a [onto_herelles.Bati_activite])', '(has_pixels Px_1 is a [onto_herelles.Pixel])', '(has_pixels Px_2 is a [onto_herelles.Pixel])', '(is_in zone_1 is a [onto_herelles.ZoneArticle1])', '(is_in zone_1 is a [onto_herelles.ZoneArticle1])']
Distance = 15

493
Assertions: ['(destine bati_activite is a [onto_herelles.Bati_activite])', '(has_pixels Px_1 is a [onto_herelles.Pixel])', '(has_pixels Px_2 is a [onto_herelles.Pixel])', '(is_in zone_1 is a [onto_herelles.ZoneArticle1])', '(is_in zone_z2 is a [onto_herelles.Zone_Z2])']
Distance = 15

494
Assertions: ['(destine bati_activite is a [onto_herelles.Bati_activite])', '(has_pixels Px_1 is a [onto_herelles.Pixel])', '(has_pixels Px_2 is a [onto_herelles.Pixel])', '(is_in zone_1 is a [onto_herelles.ZoneArticle1])', '(is_in zoneeau is a [onto_herelles.ZoneEau])']
Distance = 15

495
Assertions: ['(destine bati_industrielle is a [onto_herelles.Zone_industrielle_commerciale_ou_tertiaire])', '(has_pixels Px_1 is a [onto_herelles.Pixel])', '(has_pixels Px_2 is a [onto_herelles.Pixel])', '(is_in zone is a [onto_herelles.Zone])', '(is_in zone_z2 is a [onto_herelles.Zone_Z2])']
Distance = 15

496
Assertions: ['(destine bati_industrielle is a [onto_herelles.Zone_industrielle_commerciale_ou_tertiaire])', '(has_pixels Px_1 is a [onto_herelles.Pixel])', '(has_pixels Px_2 is a [onto_herelles.Pixel])', '(is_in zone is a [onto_herelles.Zone])', '(is_in zoneeau is a [onto_herelles.ZoneEau])']
Distance = 15

497
Assertions: ['(destine haie is a [onto_herelles.Haie])', '(has_pixels Px_1 is a [onto_herelles.Pixel])', '(has_pixels Px_2 is a [onto_herelles.Pixel])', '(has_state bâtiment_rural is a [onto_herelles.Bâtiment_rural])', '(is_in zone_2 is a [onto_herelles.ZoneEA])']
Distance = 15

498
Assertions: ['(destine vigne is a [onto_herelles.Vigne])', '(has_pixels Px_1 is a [onto_herelles.Pixel])', '(has_pixels Px_2 is a [onto_herelles.Pixel])', '(has_state bâtiment_rural is a [onto_herelles.Bâtiment_rural])', '(is_in zone_2 is a [onto_herelles.ZoneEA])']
Distance = 15

499
Assertions: ['(destine surface_herbeuse_agricole is a [onto_herelles.Surface_herbeuse_agricole])', '(has_pixels Px_1 is a [onto_herelles.Pixel])', '(has_pixels Px_2 is a [onto_herelles.Pixel])', '(has_state bâtiment_rural is a [onto_herelles.Bâtiment_rural])', '(is_in zone_2 is a [onto_herelles.ZoneEA])']
Distance = 15

500
Assertions: ['(destine autres_cultures is a [onto_herelles.Autres_cultures])', '(has_pixels Px_1 is a [onto_herelles.Pixel])', '(has_pixels Px_2 is a [onto_herelles.Pixel])', '(has_state bâtiment_rural is a [onto_herelles.Bâtiment_rural])', '(is_in zone_2 is a [onto_herelles.ZoneEA])']
Distance = 15

501
Assertions: ['(destine verger is a [onto_herelles.Verger])', '(has_pixels Px_1 is a [onto_herelles.Pixel])', '(has_pixels Px_2 is a [onto_herelles.Pixel])', '(has_state bâtiment_rural is a [onto_herelles.Bâtiment_rural])', '(is_in zone_2 is a [onto_herelles.ZoneEA])']
Distance = 15

502
Assertions: ['(destine groupe_darbres_agricole_sylviculture is a [onto_herelles.Groupe_darbres_agricole_sylviculture])', '(has_pixels Px_1 is a [onto_herelles.Pixel])', '(has_pixels Px_2 is a [onto_herelles.Pixel])', '(has_state bâtiment_rural is a [onto_herelles.Bâtiment_rural])', '(is_in zone_2 is a [onto_herelles.ZoneEA])']
Distance = 15

503
Assertions: ['(destine alignement_darbres_agricole is a [onto_herelles.Alignement_darbres_agricole])', '(has_pixels Px_1 is a [onto_herelles.Pixel])', '(has_pixels Px_2 is a [onto_herelles.Pixel])', '(has_state bâtiment_rural is a [onto_herelles.Bâtiment_rural])', '(is_in zone_2 is a [onto_herelles.ZoneEA])']
Distance = 15

504
Assertions: ['(destine haie is a [onto_herelles.Haie])', '(has_pixels Px_1 is a [onto_herelles.Pixel])', '(has_pixels Px_2 is a [onto_herelles.Pixel])', '(has_state serre is a [onto_herelles.Serre])', '(is_in zone_2 is a [onto_herelles.ZoneEA])']
Distance = 15

505
Assertions: ['(destine vigne is a [onto_herelles.Vigne])', '(has_pixels Px_1 is a [onto_herelles.Pixel])', '(has_pixels Px_2 is a [onto_herelles.Pixel])', '(has_state serre is a [onto_herelles.Serre])', '(is_in zone_2 is a [onto_herelles.ZoneEA])']
Distance = 15

506
Assertions: ['(destine surface_herbeuse_agricole is a [onto_herelles.Surface_herbeuse_agricole])', '(has_pixels Px_1 is a [onto_herelles.Pixel])', '(has_pixels Px_2 is a [onto_herelles.Pixel])', '(has_state serre is a [onto_herelles.Serre])', '(is_in zone_2 is a [onto_herelles.ZoneEA])']
Distance = 15

507
Assertions: ['(destine autres_cultures is a [onto_herelles.Autres_cultures])', '(has_pixels Px_1 is a [onto_herelles.Pixel])', '(has_pixels Px_2 is a [onto_herelles.Pixel])', '(has_state serre is a [onto_herelles.Serre])', '(is_in zone_2 is a [onto_herelles.ZoneEA])']
Distance = 15

508
Assertions: ['(destine verger is a [onto_herelles.Verger])', '(has_pixels Px_1 is a [onto_herelles.Pixel])', '(has_pixels Px_2 is a [onto_herelles.Pixel])', '(has_state serre is a [onto_herelles.Serre])', '(is_in zone_2 is a [onto_herelles.ZoneEA])']
Distance = 15

509
Assertions: ['(destine groupe_darbres_agricole_sylviculture is a [onto_herelles.Groupe_darbres_agricole_sylviculture])', '(has_pixels Px_1 is a [onto_herelles.Pixel])', '(has_pixels Px_2 is a [onto_herelles.Pixel])', '(has_state serre is a [onto_herelles.Serre])', '(is_in zone_2 is a [onto_herelles.ZoneEA])']
Distance = 15

510
Assertions: ['(destine alignement_darbres_agricole is a [onto_herelles.Alignement_darbres_agricole])', '(has_pixels Px_1 is a [onto_herelles.Pixel])', '(has_pixels Px_2 is a [onto_herelles.Pixel])', '(has_state serre is a [onto_herelles.Serre])', '(is_in zone_2 is a [onto_herelles.ZoneEA])']
Distance = 15

511
Assertions: ['(destine haie is a [onto_herelles.Haie])', '(has_state bâtiment_rural is a [onto_herelles.Bâtiment_rural])', '(is_in zone_1 is a [onto_herelles.ZoneArticle1])', '(is_in zone_2 is a [onto_herelles.ZoneEA])']
Distance = 15

512
Assertions: ['(destine vigne is a [onto_herelles.Vigne])', '(has_state bâtiment_rural is a [onto_herelles.Bâtiment_rural])', '(is_in zone_1 is a [onto_herelles.ZoneArticle1])', '(is_in zone_2 is a [onto_herelles.ZoneEA])']
Distance = 15

513
Assertions: ['(destine surface_herbeuse_agricole is a [onto_herelles.Surface_herbeuse_agricole])', '(has_state bâtiment_rural is a [onto_herelles.Bâtiment_rural])', '(is_in zone_1 is a [onto_herelles.ZoneArticle1])', '(is_in zone_2 is a [onto_herelles.ZoneEA])']
Distance = 15

514
Assertions: ['(destine autres_cultures is a [onto_herelles.Autres_cultures])', '(has_state bâtiment_rural is a [onto_herelles.Bâtiment_rural])', '(is_in zone_1 is a [onto_herelles.ZoneArticle1])', '(is_in zone_2 is a [onto_herelles.ZoneEA])']
Distance = 15

515
Assertions: ['(destine verger is a [onto_herelles.Verger])', '(has_state bâtiment_rural is a [onto_herelles.Bâtiment_rural])', '(is_in zone_1 is a [onto_herelles.ZoneArticle1])', '(is_in zone_2 is a [onto_herelles.ZoneEA])']
Distance = 15

516
Assertions: ['(destine groupe_darbres_agricole_sylviculture is a [onto_herelles.Groupe_darbres_agricole_sylviculture])', '(has_state bâtiment_rural is a [onto_herelles.Bâtiment_rural])', '(is_in zone_1 is a [onto_herelles.ZoneArticle1])', '(is_in zone_2 is a [onto_herelles.ZoneEA])']
Distance = 15

517
Assertions: ['(destine alignement_darbres_agricole is a [onto_herelles.Alignement_darbres_agricole])', '(has_state bâtiment_rural is a [onto_herelles.Bâtiment_rural])', '(is_in zone_1 is a [onto_herelles.ZoneArticle1])', '(is_in zone_2 is a [onto_herelles.ZoneEA])']
Distance = 15

518
Assertions: ['(destine haie is a [onto_herelles.Haie])', '(has_state serre is a [onto_herelles.Serre])', '(is_in zone_1 is a [onto_herelles.ZoneArticle1])', '(is_in zone_2 is a [onto_herelles.ZoneEA])']
Distance = 15

519
Assertions: ['(destine vigne is a [onto_herelles.Vigne])', '(has_state serre is a [onto_herelles.Serre])', '(is_in zone_1 is a [onto_herelles.ZoneArticle1])', '(is_in zone_2 is a [onto_herelles.ZoneEA])']
Distance = 15

520
Assertions: ['(destine surface_herbeuse_agricole is a [onto_herelles.Surface_herbeuse_agricole])', '(has_state serre is a [onto_herelles.Serre])', '(is_in zone_1 is a [onto_herelles.ZoneArticle1])', '(is_in zone_2 is a [onto_herelles.ZoneEA])']
Distance = 15

521
Assertions: ['(destine autres_cultures is a [onto_herelles.Autres_cultures])', '(has_state serre is a [onto_herelles.Serre])', '(is_in zone_1 is a [onto_herelles.ZoneArticle1])', '(is_in zone_2 is a [onto_herelles.ZoneEA])']
Distance = 15

522
Assertions: ['(destine verger is a [onto_herelles.Verger])', '(has_state serre is a [onto_herelles.Serre])', '(is_in zone_1 is a [onto_herelles.ZoneArticle1])', '(is_in zone_2 is a [onto_herelles.ZoneEA])']
Distance = 15

523
Assertions: ['(destine groupe_darbres_agricole_sylviculture is a [onto_herelles.Groupe_darbres_agricole_sylviculture])', '(has_state serre is a [onto_herelles.Serre])', '(is_in zone_1 is a [onto_herelles.ZoneArticle1])', '(is_in zone_2 is a [onto_herelles.ZoneEA])']
Distance = 15

524
Assertions: ['(destine alignement_darbres_agricole is a [onto_herelles.Alignement_darbres_agricole])', '(has_state serre is a [onto_herelles.Serre])', '(is_in zone_1 is a [onto_herelles.ZoneArticle1])', '(is_in zone_2 is a [onto_herelles.ZoneEA])']
Distance = 15

525
Assertions: ['(destine autre_vegetation_agricole is a [onto_herelles.Autre_vegetation_agricole])', '(has_state bati_industrielle is a [onto_herelles.Zone_industrielle_commerciale_ou_tertiaire])', '(is_in zone_2 is a [onto_herelles.ZoneEA])']
Distance = 15

526
Assertions: ['(destine parcelle_agricole is a [onto_herelles.Parcelle_agricole])', '(has_state bati_industrielle is a [onto_herelles.Zone_industrielle_commerciale_ou_tertiaire])', '(is_in zone_2 is a [onto_herelles.ZoneEA])']
Distance = 15

527
Assertions: ['(destine element_boise_agricole is a [onto_herelles.Element_boise_agricole])', '(has_state bati_industrielle is a [onto_herelles.Zone_industrielle_commerciale_ou_tertiaire])', '(is_in zone_2 is a [onto_herelles.ZoneEA])']
Distance = 15

528
Assertions: ['(destine autre_vegetation_agricole is a [onto_herelles.Autre_vegetation_agricole])', '(has_pixels Px_2 is a [onto_herelles.Pixel])', '(has_state bati_activite is a [onto_herelles.Bati_activite])', '(is_in zone_2 is a [onto_herelles.ZoneEA])']
Distance = 15

529
Assertions: ['(destine parcelle_agricole is a [onto_herelles.Parcelle_agricole])', '(has_pixels Px_2 is a [onto_herelles.Pixel])', '(has_state bati_activite is a [onto_herelles.Bati_activite])', '(is_in zone_2 is a [onto_herelles.ZoneEA])']
Distance = 15

530
Assertions: ['(destine element_boise_agricole is a [onto_herelles.Element_boise_agricole])', '(has_pixels Px_2 is a [onto_herelles.Pixel])', '(has_state bati_activite is a [onto_herelles.Bati_activite])', '(is_in zone_2 is a [onto_herelles.ZoneEA])']
Distance = 15

531
Assertions: ['(destine autre_vegetation_agricole is a [onto_herelles.Autre_vegetation_agricole])', '(has_pixels Px_1 is a [onto_herelles.Pixel])', '(has_state bati_activite is a [onto_herelles.Bati_activite])', '(is_in zone_2 is a [onto_herelles.ZoneEA])']
Distance = 15

532
Assertions: ['(destine parcelle_agricole is a [onto_herelles.Parcelle_agricole])', '(has_pixels Px_1 is a [onto_herelles.Pixel])', '(has_state bati_activite is a [onto_herelles.Bati_activite])', '(is_in zone_2 is a [onto_herelles.ZoneEA])']
Distance = 15

533
Assertions: ['(destine element_boise_agricole is a [onto_herelles.Element_boise_agricole])', '(has_pixels Px_1 is a [onto_herelles.Pixel])', '(has_state bati_activite is a [onto_herelles.Bati_activite])', '(is_in zone_2 is a [onto_herelles.ZoneEA])']
Distance = 15

534
Assertions: ['(destine EA_1 is a [onto_herelles.Espaces_agricoles])', '(has_pixels Px_2 is a [onto_herelles.Pixel])', '(has_state bâtiment_rural is a [onto_herelles.Bâtiment_rural])', '(is_in zone_2 is a [onto_herelles.ZoneEA])']
Distance = 15

535
Assertions: ['(destine EA_1 is a [onto_herelles.Espaces_agricoles])', '(has_pixels Px_2 is a [onto_herelles.Pixel])', '(has_state serre is a [onto_herelles.Serre])', '(is_in zone_2 is a [onto_herelles.ZoneEA])']
Distance = 15

536
Assertions: ['(destine EA_1 is a [onto_herelles.Espaces_agricoles])', '(has_pixels Px_1 is a [onto_herelles.Pixel])', '(has_state bâtiment_rural is a [onto_herelles.Bâtiment_rural])', '(is_in zone_2 is a [onto_herelles.ZoneEA])']
Distance = 15

537
Assertions: ['(destine EA_1 is a [onto_herelles.Espaces_agricoles])', '(has_pixels Px_1 is a [onto_herelles.Pixel])', '(has_state serre is a [onto_herelles.Serre])', '(is_in zone_2 is a [onto_herelles.ZoneEA])']
Distance = 15

538
Assertions: ['(destine state_geo is a [onto_herelles.State_Geo])', '(has_state bati_activite is a [onto_herelles.Bati_activite])', '(is_in zone_2 is a [onto_herelles.ZoneEA])']
Distance = 15

539
Assertions: ['(destine bati_industrielle is a [onto_herelles.Zone_industrielle_commerciale_ou_tertiaire])', '(has_state bâtiment_rural is a [onto_herelles.Bâtiment_rural])']
Distance = 15

540
Assertions: ['(destine bati_industrielle is a [onto_herelles.Zone_industrielle_commerciale_ou_tertiaire])', '(has_state serre is a [onto_herelles.Serre])']
Distance = 15

541
Assertions: ['(destine EA_1 is a [onto_herelles.Espaces_agricoles])', '(has_pixels Px_1 is a [onto_herelles.Pixel])', '(has_pixels Px_2 is a [onto_herelles.Pixel])', '(is_in zone_1 is a [onto_herelles.ZoneArticle1])', '(is_in zone_2 is a [onto_herelles.ZoneEA])']
Distance = 16

542
Assertions: ['(has_pixels Px_2 is a [onto_herelles.Pixel])', '(has_state bati_industrielle is a [onto_herelles.Zone_industrielle_commerciale_ou_tertiaire])', '(is_in zone_2 is a [onto_herelles.ZoneEA])']
Distance = 16

543
Assertions: ['(has_pixels Px_2 is a [onto_herelles.Pixel])', '(has_state bati_industrielle is a [onto_herelles.Zone_industrielle_commerciale_ou_tertiaire])', '(is_in zone_1 is a [onto_herelles.ZoneArticle1])']
Distance = 16

544
Assertions: ['(has_pixels Px_1 is a [onto_herelles.Pixel])', '(has_state bati_industrielle is a [onto_herelles.Zone_industrielle_commerciale_ou_tertiaire])', '(is_in zone_2 is a [onto_herelles.ZoneEA])']
Distance = 16

545
Assertions: ['(has_pixels Px_1 is a [onto_herelles.Pixel])', '(has_state bati_industrielle is a [onto_herelles.Zone_industrielle_commerciale_ou_tertiaire])', '(is_in zone_1 is a [onto_herelles.ZoneArticle1])']
Distance = 16

546
Assertions: ['(destine bati_activite is a [onto_herelles.Bati_activite])', '(has_pixels Px_1 is a [onto_herelles.Pixel])', '(has_pixels Px_2 is a [onto_herelles.Pixel])', '(is_in zone_1 is a [onto_herelles.ZoneArticle1])']
Distance = 16

547
Assertions: ['(has_pixels Px_1 is a [onto_herelles.Pixel])', '(has_pixels Px_2 is a [onto_herelles.Pixel])', '(has_state bati_activite is a [onto_herelles.Bati_activite])', '(is_in zone_1 is a [onto_herelles.ZoneArticle1])']
Distance = 16

548
Assertions: ['(destine bati_industrielle is a [onto_herelles.Zone_industrielle_commerciale_ou_tertiaire])', '(has_pixels Px_1 is a [onto_herelles.Pixel])', '(has_pixels Px_2 is a [onto_herelles.Pixel])', '(is_in zone is a [onto_herelles.Zone])']
Distance = 16

549
Assertions: ['(destine bâtiment_rural is a [onto_herelles.Bâtiment_rural])', '(has_pixels Px_1 is a [onto_herelles.Pixel])', '(has_pixels Px_2 is a [onto_herelles.Pixel])', '(is_in zone_1 is a [onto_herelles.ZoneArticle1])', '(is_in zone_1 is a [onto_herelles.ZoneArticle1])']
Distance = 16

550
Assertions: ['(destine bâtiment_rural is a [onto_herelles.Bâtiment_rural])', '(has_pixels Px_1 is a [onto_herelles.Pixel])', '(has_pixels Px_2 is a [onto_herelles.Pixel])', '(is_in zone_1 is a [onto_herelles.ZoneArticle1])', '(is_in zone_z2 is a [onto_herelles.Zone_Z2])']
Distance = 16

551
Assertions: ['(destine bâtiment_rural is a [onto_herelles.Bâtiment_rural])', '(has_pixels Px_1 is a [onto_herelles.Pixel])', '(has_pixels Px_2 is a [onto_herelles.Pixel])', '(is_in zone_1 is a [onto_herelles.ZoneArticle1])', '(is_in zoneeau is a [onto_herelles.ZoneEau])']
Distance = 16

552
Assertions: ['(destine serre is a [onto_herelles.Serre])', '(has_pixels Px_1 is a [onto_herelles.Pixel])', '(has_pixels Px_2 is a [onto_herelles.Pixel])', '(is_in zone_1 is a [onto_herelles.ZoneArticle1])', '(is_in zone_1 is a [onto_herelles.ZoneArticle1])']
Distance = 16

553
Assertions: ['(destine serre is a [onto_herelles.Serre])', '(has_pixels Px_1 is a [onto_herelles.Pixel])', '(has_pixels Px_2 is a [onto_herelles.Pixel])', '(is_in zone_1 is a [onto_herelles.ZoneArticle1])', '(is_in zone_z2 is a [onto_herelles.Zone_Z2])']
Distance = 16

554
Assertions: ['(destine serre is a [onto_herelles.Serre])', '(has_pixels Px_1 is a [onto_herelles.Pixel])', '(has_pixels Px_2 is a [onto_herelles.Pixel])', '(is_in zone_1 is a [onto_herelles.ZoneArticle1])', '(is_in zoneeau is a [onto_herelles.ZoneEau])']
Distance = 16

555
Assertions: ['(destine bati_industrielle is a [onto_herelles.Zone_industrielle_commerciale_ou_tertiaire])', '(has_pixels Px_1 is a [onto_herelles.Pixel])', '(has_pixels Px_2 is a [onto_herelles.Pixel])', '(is_in zone_z2 is a [onto_herelles.Zone_Z2])', '(is_in zone_z2 is a [onto_herelles.Zone_Z2])']
Distance = 16

556
Assertions: ['(destine bati_industrielle is a [onto_herelles.Zone_industrielle_commerciale_ou_tertiaire])', '(has_pixels Px_1 is a [onto_herelles.Pixel])', '(has_pixels Px_2 is a [onto_herelles.Pixel])', '(is_in zone_z2 is a [onto_herelles.Zone_Z2])', '(is_in zoneeau is a [onto_herelles.ZoneEau])']
Distance = 16

557
Assertions: ['(destine bati_industrielle is a [onto_herelles.Zone_industrielle_commerciale_ou_tertiaire])', '(has_pixels Px_1 is a [onto_herelles.Pixel])', '(has_pixels Px_2 is a [onto_herelles.Pixel])', '(is_in zoneeau is a [onto_herelles.ZoneEau])', '(is_in zoneeau is a [onto_herelles.ZoneEau])']
Distance = 16

558
Assertions: ['(has_pixels Px_1 is a [onto_herelles.Pixel])', '(has_pixels Px_2 is a [onto_herelles.Pixel])', '(has_state bati_activite is a [onto_herelles.Bati_activite])', '(is_in zone_2 is a [onto_herelles.ZoneEA])']
Distance = 16

559
Assertions: ['(has_state bati_activite is a [onto_herelles.Bati_activite])', '(is_in zone_1 is a [onto_herelles.ZoneArticle1])', '(is_in zone_2 is a [onto_herelles.ZoneEA])']
Distance = 16

560
Assertions: ['(destine bati_industrielle is a [onto_herelles.Zone_industrielle_commerciale_ou_tertiaire])', '(has_pixels Px_2 is a [onto_herelles.Pixel])', '(is_in zone is a [onto_herelles.Zone])', '(is_in zone is a [onto_herelles.Zone])']
Distance = 16

561
Assertions: ['(destine bati_industrielle is a [onto_herelles.Zone_industrielle_commerciale_ou_tertiaire])', '(has_pixels Px_1 is a [onto_herelles.Pixel])', '(is_in zone is a [onto_herelles.Zone])', '(is_in zone is a [onto_herelles.Zone])']
Distance = 16

562
Assertions: ['(has_pixels Px_1 is a [onto_herelles.Pixel])', '(has_state bati_industrielle is a [onto_herelles.Zone_industrielle_commerciale_ou_tertiaire])', '(is_in zone is a [onto_herelles.Zone])', '(is_in zone_1 is a [onto_herelles.ZoneArticle1])']
Distance = 16

563
Assertions: ['(destine bati_activite is a [onto_herelles.Bati_activite])', '(has_pixels Px_1 is a [onto_herelles.Pixel])', '(has_pixels Px_2 is a [onto_herelles.Pixel])', '(is_in zone is a [onto_herelles.Zone])', '(is_in zone_1 is a [onto_herelles.ZoneArticle1])']
Distance = 16

564
Assertions: ['(has_pixels Px_2 is a [onto_herelles.Pixel])', '(has_state bati_industrielle is a [onto_herelles.Zone_industrielle_commerciale_ou_tertiaire])', '(is_in zone is a [onto_herelles.Zone])', '(is_in zone_1 is a [onto_herelles.ZoneArticle1])']
Distance = 16

565
Assertions: ['(destine haie is a [onto_herelles.Haie])', '(has_state bati_industrielle is a [onto_herelles.Zone_industrielle_commerciale_ou_tertiaire])', '(is_in zone_2 is a [onto_herelles.ZoneEA])']
Distance = 16

566
Assertions: ['(destine vigne is a [onto_herelles.Vigne])', '(has_state bati_industrielle is a [onto_herelles.Zone_industrielle_commerciale_ou_tertiaire])', '(is_in zone_2 is a [onto_herelles.ZoneEA])']
Distance = 16

567
Assertions: ['(destine surface_herbeuse_agricole is a [onto_herelles.Surface_herbeuse_agricole])', '(has_state bati_industrielle is a [onto_herelles.Zone_industrielle_commerciale_ou_tertiaire])', '(is_in zone_2 is a [onto_herelles.ZoneEA])']
Distance = 16

568
Assertions: ['(destine autres_cultures is a [onto_herelles.Autres_cultures])', '(has_state bati_industrielle is a [onto_herelles.Zone_industrielle_commerciale_ou_tertiaire])', '(is_in zone_2 is a [onto_herelles.ZoneEA])']
Distance = 16

569
Assertions: ['(destine verger is a [onto_herelles.Verger])', '(has_state bati_industrielle is a [onto_herelles.Zone_industrielle_commerciale_ou_tertiaire])', '(is_in zone_2 is a [onto_herelles.ZoneEA])']
Distance = 16

570
Assertions: ['(destine groupe_darbres_agricole_sylviculture is a [onto_herelles.Groupe_darbres_agricole_sylviculture])', '(has_state bati_industrielle is a [onto_herelles.Zone_industrielle_commerciale_ou_tertiaire])', '(is_in zone_2 is a [onto_herelles.ZoneEA])']
Distance = 16

571
Assertions: ['(destine alignement_darbres_agricole is a [onto_herelles.Alignement_darbres_agricole])', '(has_state bati_industrielle is a [onto_herelles.Zone_industrielle_commerciale_ou_tertiaire])', '(is_in zone_2 is a [onto_herelles.ZoneEA])']
Distance = 16

572
Assertions: ['(destine haie is a [onto_herelles.Haie])', '(has_pixels Px_2 is a [onto_herelles.Pixel])', '(has_state bati_activite is a [onto_herelles.Bati_activite])', '(is_in zone_2 is a [onto_herelles.ZoneEA])']
Distance = 16

573
Assertions: ['(destine vigne is a [onto_herelles.Vigne])', '(has_pixels Px_2 is a [onto_herelles.Pixel])', '(has_state bati_activite is a [onto_herelles.Bati_activite])', '(is_in zone_2 is a [onto_herelles.ZoneEA])']
Distance = 16

574
Assertions: ['(destine surface_herbeuse_agricole is a [onto_herelles.Surface_herbeuse_agricole])', '(has_pixels Px_2 is a [onto_herelles.Pixel])', '(has_state bati_activite is a [onto_herelles.Bati_activite])', '(is_in zone_2 is a [onto_herelles.ZoneEA])']
Distance = 16

575
Assertions: ['(destine autres_cultures is a [onto_herelles.Autres_cultures])', '(has_pixels Px_2 is a [onto_herelles.Pixel])', '(has_state bati_activite is a [onto_herelles.Bati_activite])', '(is_in zone_2 is a [onto_herelles.ZoneEA])']
Distance = 16

576
Assertions: ['(destine verger is a [onto_herelles.Verger])', '(has_pixels Px_2 is a [onto_herelles.Pixel])', '(has_state bati_activite is a [onto_herelles.Bati_activite])', '(is_in zone_2 is a [onto_herelles.ZoneEA])']
Distance = 16

577
Assertions: ['(destine groupe_darbres_agricole_sylviculture is a [onto_herelles.Groupe_darbres_agricole_sylviculture])', '(has_pixels Px_2 is a [onto_herelles.Pixel])', '(has_state bati_activite is a [onto_herelles.Bati_activite])', '(is_in zone_2 is a [onto_herelles.ZoneEA])']
Distance = 16

578
Assertions: ['(destine alignement_darbres_agricole is a [onto_herelles.Alignement_darbres_agricole])', '(has_pixels Px_2 is a [onto_herelles.Pixel])', '(has_state bati_activite is a [onto_herelles.Bati_activite])', '(is_in zone_2 is a [onto_herelles.ZoneEA])']
Distance = 16

579
Assertions: ['(destine haie is a [onto_herelles.Haie])', '(has_pixels Px_1 is a [onto_herelles.Pixel])', '(has_state bati_activite is a [onto_herelles.Bati_activite])', '(is_in zone_2 is a [onto_herelles.ZoneEA])']
Distance = 16

580
Assertions: ['(destine vigne is a [onto_herelles.Vigne])', '(has_pixels Px_1 is a [onto_herelles.Pixel])', '(has_state bati_activite is a [onto_herelles.Bati_activite])', '(is_in zone_2 is a [onto_herelles.ZoneEA])']
Distance = 16

581
Assertions: ['(destine surface_herbeuse_agricole is a [onto_herelles.Surface_herbeuse_agricole])', '(has_pixels Px_1 is a [onto_herelles.Pixel])', '(has_state bati_activite is a [onto_herelles.Bati_activite])', '(is_in zone_2 is a [onto_herelles.ZoneEA])']
Distance = 16

582
Assertions: ['(destine autres_cultures is a [onto_herelles.Autres_cultures])', '(has_pixels Px_1 is a [onto_herelles.Pixel])', '(has_state bati_activite is a [onto_herelles.Bati_activite])', '(is_in zone_2 is a [onto_herelles.ZoneEA])']
Distance = 16

583
Assertions: ['(destine verger is a [onto_herelles.Verger])', '(has_pixels Px_1 is a [onto_herelles.Pixel])', '(has_state bati_activite is a [onto_herelles.Bati_activite])', '(is_in zone_2 is a [onto_herelles.ZoneEA])']
Distance = 16

584
Assertions: ['(destine groupe_darbres_agricole_sylviculture is a [onto_herelles.Groupe_darbres_agricole_sylviculture])', '(has_pixels Px_1 is a [onto_herelles.Pixel])', '(has_state bati_activite is a [onto_herelles.Bati_activite])', '(is_in zone_2 is a [onto_herelles.ZoneEA])']
Distance = 16

585
Assertions: ['(destine alignement_darbres_agricole is a [onto_herelles.Alignement_darbres_agricole])', '(has_pixels Px_1 is a [onto_herelles.Pixel])', '(has_state bati_activite is a [onto_herelles.Bati_activite])', '(is_in zone_2 is a [onto_herelles.ZoneEA])']
Distance = 16

586
Assertions: ['(destine autre_vegetation_agricole is a [onto_herelles.Autre_vegetation_agricole])', '(has_pixels Px_2 is a [onto_herelles.Pixel])', '(has_state bâtiment_rural is a [onto_herelles.Bâtiment_rural])', '(is_in zone_2 is a [onto_herelles.ZoneEA])']
Distance = 16

587
Assertions: ['(destine parcelle_agricole is a [onto_herelles.Parcelle_agricole])', '(has_pixels Px_2 is a [onto_herelles.Pixel])', '(has_state bâtiment_rural is a [onto_herelles.Bâtiment_rural])', '(is_in zone_2 is a [onto_herelles.ZoneEA])']
Distance = 16

588
Assertions: ['(destine element_boise_agricole is a [onto_herelles.Element_boise_agricole])', '(has_pixels Px_2 is a [onto_herelles.Pixel])', '(has_state bâtiment_rural is a [onto_herelles.Bâtiment_rural])', '(is_in zone_2 is a [onto_herelles.ZoneEA])']
Distance = 16

589
Assertions: ['(destine autre_vegetation_agricole is a [onto_herelles.Autre_vegetation_agricole])', '(has_pixels Px_2 is a [onto_herelles.Pixel])', '(has_state serre is a [onto_herelles.Serre])', '(is_in zone_2 is a [onto_herelles.ZoneEA])']
Distance = 16

590
Assertions: ['(destine parcelle_agricole is a [onto_herelles.Parcelle_agricole])', '(has_pixels Px_2 is a [onto_herelles.Pixel])', '(has_state serre is a [onto_herelles.Serre])', '(is_in zone_2 is a [onto_herelles.ZoneEA])']
Distance = 16

591
Assertions: ['(destine element_boise_agricole is a [onto_herelles.Element_boise_agricole])', '(has_pixels Px_2 is a [onto_herelles.Pixel])', '(has_state serre is a [onto_herelles.Serre])', '(is_in zone_2 is a [onto_herelles.ZoneEA])']
Distance = 16

592
Assertions: ['(destine autre_vegetation_agricole is a [onto_herelles.Autre_vegetation_agricole])', '(has_pixels Px_1 is a [onto_herelles.Pixel])', '(has_state bâtiment_rural is a [onto_herelles.Bâtiment_rural])', '(is_in zone_2 is a [onto_herelles.ZoneEA])']
Distance = 16

593
Assertions: ['(destine parcelle_agricole is a [onto_herelles.Parcelle_agricole])', '(has_pixels Px_1 is a [onto_herelles.Pixel])', '(has_state bâtiment_rural is a [onto_herelles.Bâtiment_rural])', '(is_in zone_2 is a [onto_herelles.ZoneEA])']
Distance = 16

594
Assertions: ['(destine element_boise_agricole is a [onto_herelles.Element_boise_agricole])', '(has_pixels Px_1 is a [onto_herelles.Pixel])', '(has_state bâtiment_rural is a [onto_herelles.Bâtiment_rural])', '(is_in zone_2 is a [onto_herelles.ZoneEA])']
Distance = 16

595
Assertions: ['(destine autre_vegetation_agricole is a [onto_herelles.Autre_vegetation_agricole])', '(has_pixels Px_1 is a [onto_herelles.Pixel])', '(has_state serre is a [onto_herelles.Serre])', '(is_in zone_2 is a [onto_herelles.ZoneEA])']
Distance = 16

596
Assertions: ['(destine parcelle_agricole is a [onto_herelles.Parcelle_agricole])', '(has_pixels Px_1 is a [onto_herelles.Pixel])', '(has_state serre is a [onto_herelles.Serre])', '(is_in zone_2 is a [onto_herelles.ZoneEA])']
Distance = 16

597
Assertions: ['(destine element_boise_agricole is a [onto_herelles.Element_boise_agricole])', '(has_pixels Px_1 is a [onto_herelles.Pixel])', '(has_state serre is a [onto_herelles.Serre])', '(is_in zone_2 is a [onto_herelles.ZoneEA])']
Distance = 16

598
Assertions: ['(destine EA_1 is a [onto_herelles.Espaces_agricoles])', '(has_state bati_activite is a [onto_herelles.Bati_activite])', '(is_in zone_2 is a [onto_herelles.ZoneEA])']
Distance = 16

599
Assertions: ['(destine state_geo is a [onto_herelles.State_Geo])', '(has_state bâtiment_rural is a [onto_herelles.Bâtiment_rural])', '(is_in zone_2 is a [onto_herelles.ZoneEA])']
Distance = 16

600
Assertions: ['(destine state_geo is a [onto_herelles.State_Geo])', '(has_state serre is a [onto_herelles.Serre])', '(is_in zone_2 is a [onto_herelles.ZoneEA])']
Distance = 16

601
Assertions: ['(destine autre_vegetation_agricole is a [onto_herelles.Autre_vegetation_agricole])', '(has_pixels Px_1 is a [onto_herelles.Pixel])', '(has_pixels Px_2 is a [onto_herelles.Pixel])', '(is_in zone_1 is a [onto_herelles.ZoneArticle1])', '(is_in zone_2 is a [onto_herelles.ZoneEA])']
Distance = 17

602
Assertions: ['(destine parcelle_agricole is a [onto_herelles.Parcelle_agricole])', '(has_pixels Px_1 is a [onto_herelles.Pixel])', '(has_pixels Px_2 is a [onto_herelles.Pixel])', '(is_in zone_1 is a [onto_herelles.ZoneArticle1])', '(is_in zone_2 is a [onto_herelles.ZoneEA])']
Distance = 17

603
Assertions: ['(destine element_boise_agricole is a [onto_herelles.Element_boise_agricole])', '(has_pixels Px_1 is a [onto_herelles.Pixel])', '(has_pixels Px_2 is a [onto_herelles.Pixel])', '(is_in zone_1 is a [onto_herelles.ZoneArticle1])', '(is_in zone_2 is a [onto_herelles.ZoneEA])']
Distance = 17

604
Assertions: ['(destine state_geo is a [onto_herelles.State_Geo])', '(has_pixels Px_2 is a [onto_herelles.Pixel])', '(is_in zone_1 is a [onto_herelles.ZoneArticle1])', '(is_in zone_2 is a [onto_herelles.ZoneEA])']
Distance = 17

605
Assertions: ['(destine state_geo is a [onto_herelles.State_Geo])', '(has_pixels Px_1 is a [onto_herelles.Pixel])', '(is_in zone_1 is a [onto_herelles.ZoneArticle1])', '(is_in zone_2 is a [onto_herelles.ZoneEA])']
Distance = 17

606
Assertions: ['(destine bati is a [onto_herelles.Bati])', '(has_pixels Px_1 is a [onto_herelles.Pixel])', '(has_pixels Px_2 is a [onto_herelles.Pixel])', '(is_in zone_1 is a [onto_herelles.ZoneArticle1])']
Distance = 17

607
Assertions: ['(destine bâtiment_rural is a [onto_herelles.Bâtiment_rural])', '(has_pixels Px_1 is a [onto_herelles.Pixel])', '(has_pixels Px_2 is a [onto_herelles.Pixel])', '(is_in zone_1 is a [onto_herelles.ZoneArticle1])']
Distance = 17

608
Assertions: ['(destine serre is a [onto_herelles.Serre])', '(has_pixels Px_1 is a [onto_herelles.Pixel])', '(has_pixels Px_2 is a [onto_herelles.Pixel])', '(is_in zone_1 is a [onto_herelles.ZoneArticle1])']
Distance = 17

609
Assertions: ['(has_pixels Px_1 is a [onto_herelles.Pixel])', '(has_pixels Px_2 is a [onto_herelles.Pixel])', '(has_state bâtiment_rural is a [onto_herelles.Bâtiment_rural])', '(is_in zone_1 is a [onto_herelles.ZoneArticle1])']
Distance = 17

610
Assertions: ['(has_pixels Px_1 is a [onto_herelles.Pixel])', '(has_pixels Px_2 is a [onto_herelles.Pixel])', '(has_state serre is a [onto_herelles.Serre])', '(is_in zone_1 is a [onto_herelles.ZoneArticle1])']
Distance = 17

611
Assertions: ['(has_pixels Px_1 is a [onto_herelles.Pixel])', '(has_pixels Px_2 is a [onto_herelles.Pixel])', '(has_state bâtiment_rural is a [onto_herelles.Bâtiment_rural])', '(is_in zone_2 is a [onto_herelles.ZoneEA])']
Distance = 17

612
Assertions: ['(has_pixels Px_1 is a [onto_herelles.Pixel])', '(has_pixels Px_2 is a [onto_herelles.Pixel])', '(has_state serre is a [onto_herelles.Serre])', '(is_in zone_2 is a [onto_herelles.ZoneEA])']
Distance = 17

613
Assertions: ['(destine bati_industrielle is a [onto_herelles.Zone_industrielle_commerciale_ou_tertiaire])', '(has_pixels Px_1 is a [onto_herelles.Pixel])', '(has_pixels Px_2 is a [onto_herelles.Pixel])', '(is_in zone_z2 is a [onto_herelles.Zone_Z2])']
Distance = 17

614
Assertions: ['(destine bati_industrielle is a [onto_herelles.Zone_industrielle_commerciale_ou_tertiaire])', '(has_pixels Px_1 is a [onto_herelles.Pixel])', '(has_pixels Px_2 is a [onto_herelles.Pixel])', '(is_in zoneeau is a [onto_herelles.ZoneEau])']
Distance = 17

615
Assertions: ['(has_state bâtiment_rural is a [onto_herelles.Bâtiment_rural])', '(is_in zone_1 is a [onto_herelles.ZoneArticle1])', '(is_in zone_2 is a [onto_herelles.ZoneEA])']
Distance = 17

616
Assertions: ['(has_state serre is a [onto_herelles.Serre])', '(is_in zone_1 is a [onto_herelles.ZoneArticle1])', '(is_in zone_2 is a [onto_herelles.ZoneEA])']
Distance = 17

617
Assertions: ['(has_state bati_industrielle is a [onto_herelles.Zone_industrielle_commerciale_ou_tertiaire])', '(is_in zone_1 is a [onto_herelles.ZoneArticle1])', '(is_in zone_1 is a [onto_herelles.ZoneArticle1])']
Distance = 17

618
Assertions: ['(has_state bati_industrielle is a [onto_herelles.Zone_industrielle_commerciale_ou_tertiaire])', '(is_in zone_1 is a [onto_herelles.ZoneArticle1])', '(is_in zone_z2 is a [onto_herelles.Zone_Z2])']
Distance = 17

619
Assertions: ['(has_state bati_industrielle is a [onto_herelles.Zone_industrielle_commerciale_ou_tertiaire])', '(is_in zone_1 is a [onto_herelles.ZoneArticle1])', '(is_in zoneeau is a [onto_herelles.ZoneEau])']
Distance = 17

620
Assertions: ['(destine bati_activite is a [onto_herelles.Bati_activite])', '(has_pixels Px_2 is a [onto_herelles.Pixel])', '(is_in zone_1 is a [onto_herelles.ZoneArticle1])', '(is_in zone_1 is a [onto_herelles.ZoneArticle1])']
Distance = 17

621
Assertions: ['(destine bati_activite is a [onto_herelles.Bati_activite])', '(has_pixels Px_2 is a [onto_herelles.Pixel])', '(is_in zone_1 is a [onto_herelles.ZoneArticle1])', '(is_in zone_z2 is a [onto_herelles.Zone_Z2])']
Distance = 17

622
Assertions: ['(destine bati_activite is a [onto_herelles.Bati_activite])', '(has_pixels Px_2 is a [onto_herelles.Pixel])', '(is_in zone_1 is a [onto_herelles.ZoneArticle1])', '(is_in zoneeau is a [onto_herelles.ZoneEau])']
Distance = 17

623
Assertions: ['(destine bati_industrielle is a [onto_herelles.Zone_industrielle_commerciale_ou_tertiaire])', '(has_pixels Px_2 is a [onto_herelles.Pixel])', '(is_in zone is a [onto_herelles.Zone])', '(is_in zone_z2 is a [onto_herelles.Zone_Z2])']
Distance = 17

624
Assertions: ['(destine bati_industrielle is a [onto_herelles.Zone_industrielle_commerciale_ou_tertiaire])', '(has_pixels Px_2 is a [onto_herelles.Pixel])', '(is_in zone is a [onto_herelles.Zone])', '(is_in zoneeau is a [onto_herelles.ZoneEau])']
Distance = 17

625
Assertions: ['(destine bati_activite is a [onto_herelles.Bati_activite])', '(has_pixels Px_1 is a [onto_herelles.Pixel])', '(is_in zone_1 is a [onto_herelles.ZoneArticle1])', '(is_in zone_1 is a [onto_herelles.ZoneArticle1])']
Distance = 17

626
Assertions: ['(destine bati_activite is a [onto_herelles.Bati_activite])', '(has_pixels Px_1 is a [onto_herelles.Pixel])', '(is_in zone_1 is a [onto_herelles.ZoneArticle1])', '(is_in zone_z2 is a [onto_herelles.Zone_Z2])']
Distance = 17

627
Assertions: ['(destine bati_activite is a [onto_herelles.Bati_activite])', '(has_pixels Px_1 is a [onto_herelles.Pixel])', '(is_in zone_1 is a [onto_herelles.ZoneArticle1])', '(is_in zoneeau is a [onto_herelles.ZoneEau])']
Distance = 17

628
Assertions: ['(destine bati_industrielle is a [onto_herelles.Zone_industrielle_commerciale_ou_tertiaire])', '(has_pixels Px_1 is a [onto_herelles.Pixel])', '(is_in zone is a [onto_herelles.Zone])', '(is_in zone_z2 is a [onto_herelles.Zone_Z2])']
Distance = 17

629
Assertions: ['(destine bati_industrielle is a [onto_herelles.Zone_industrielle_commerciale_ou_tertiaire])', '(has_pixels Px_1 is a [onto_herelles.Pixel])', '(is_in zone is a [onto_herelles.Zone])', '(is_in zoneeau is a [onto_herelles.ZoneEau])']
Distance = 17

630
Assertions: ['(destine bâtiment_rural is a [onto_herelles.Bâtiment_rural])', '(has_pixels Px_1 is a [onto_herelles.Pixel])', '(has_pixels Px_2 is a [onto_herelles.Pixel])', '(is_in zone is a [onto_herelles.Zone])', '(is_in zone_1 is a [onto_herelles.ZoneArticle1])']
Distance = 17

631
Assertions: ['(destine serre is a [onto_herelles.Serre])', '(has_pixels Px_1 is a [onto_herelles.Pixel])', '(has_pixels Px_2 is a [onto_herelles.Pixel])', '(is_in zone is a [onto_herelles.Zone])', '(is_in zone_1 is a [onto_herelles.ZoneArticle1])']
Distance = 17

632
Assertions: ['(destine haie is a [onto_herelles.Haie])', '(has_pixels Px_2 is a [onto_herelles.Pixel])', '(has_state bâtiment_rural is a [onto_herelles.Bâtiment_rural])', '(is_in zone_2 is a [onto_herelles.ZoneEA])']
Distance = 17

633
Assertions: ['(destine vigne is a [onto_herelles.Vigne])', '(has_pixels Px_2 is a [onto_herelles.Pixel])', '(has_state bâtiment_rural is a [onto_herelles.Bâtiment_rural])', '(is_in zone_2 is a [onto_herelles.ZoneEA])']
Distance = 17

634
Assertions: ['(destine surface_herbeuse_agricole is a [onto_herelles.Surface_herbeuse_agricole])', '(has_pixels Px_2 is a [onto_herelles.Pixel])', '(has_state bâtiment_rural is a [onto_herelles.Bâtiment_rural])', '(is_in zone_2 is a [onto_herelles.ZoneEA])']
Distance = 17

635
Assertions: ['(destine autres_cultures is a [onto_herelles.Autres_cultures])', '(has_pixels Px_2 is a [onto_herelles.Pixel])', '(has_state bâtiment_rural is a [onto_herelles.Bâtiment_rural])', '(is_in zone_2 is a [onto_herelles.ZoneEA])']
Distance = 17

636
Assertions: ['(destine verger is a [onto_herelles.Verger])', '(has_pixels Px_2 is a [onto_herelles.Pixel])', '(has_state bâtiment_rural is a [onto_herelles.Bâtiment_rural])', '(is_in zone_2 is a [onto_herelles.ZoneEA])']
Distance = 17

637
Assertions: ['(destine groupe_darbres_agricole_sylviculture is a [onto_herelles.Groupe_darbres_agricole_sylviculture])', '(has_pixels Px_2 is a [onto_herelles.Pixel])', '(has_state bâtiment_rural is a [onto_herelles.Bâtiment_rural])', '(is_in zone_2 is a [onto_herelles.ZoneEA])']
Distance = 17

638
Assertions: ['(destine alignement_darbres_agricole is a [onto_herelles.Alignement_darbres_agricole])', '(has_pixels Px_2 is a [onto_herelles.Pixel])', '(has_state bâtiment_rural is a [onto_herelles.Bâtiment_rural])', '(is_in zone_2 is a [onto_herelles.ZoneEA])']
Distance = 17

639
Assertions: ['(destine haie is a [onto_herelles.Haie])', '(has_pixels Px_2 is a [onto_herelles.Pixel])', '(has_state serre is a [onto_herelles.Serre])', '(is_in zone_2 is a [onto_herelles.ZoneEA])']
Distance = 17

640
Assertions: ['(destine vigne is a [onto_herelles.Vigne])', '(has_pixels Px_2 is a [onto_herelles.Pixel])', '(has_state serre is a [onto_herelles.Serre])', '(is_in zone_2 is a [onto_herelles.ZoneEA])']
Distance = 17

641
Assertions: ['(destine surface_herbeuse_agricole is a [onto_herelles.Surface_herbeuse_agricole])', '(has_pixels Px_2 is a [onto_herelles.Pixel])', '(has_state serre is a [onto_herelles.Serre])', '(is_in zone_2 is a [onto_herelles.ZoneEA])']
Distance = 17

642
Assertions: ['(destine autres_cultures is a [onto_herelles.Autres_cultures])', '(has_pixels Px_2 is a [onto_herelles.Pixel])', '(has_state serre is a [onto_herelles.Serre])', '(is_in zone_2 is a [onto_herelles.ZoneEA])']
Distance = 17

643
Assertions: ['(destine verger is a [onto_herelles.Verger])', '(has_pixels Px_2 is a [onto_herelles.Pixel])', '(has_state serre is a [onto_herelles.Serre])', '(is_in zone_2 is a [onto_herelles.ZoneEA])']
Distance = 17

644
Assertions: ['(destine groupe_darbres_agricole_sylviculture is a [onto_herelles.Groupe_darbres_agricole_sylviculture])', '(has_pixels Px_2 is a [onto_herelles.Pixel])', '(has_state serre is a [onto_herelles.Serre])', '(is_in zone_2 is a [onto_herelles.ZoneEA])']
Distance = 17

645
Assertions: ['(destine alignement_darbres_agricole is a [onto_herelles.Alignement_darbres_agricole])', '(has_pixels Px_2 is a [onto_herelles.Pixel])', '(has_state serre is a [onto_herelles.Serre])', '(is_in zone_2 is a [onto_herelles.ZoneEA])']
Distance = 17

646
Assertions: ['(destine haie is a [onto_herelles.Haie])', '(has_pixels Px_1 is a [onto_herelles.Pixel])', '(has_state bâtiment_rural is a [onto_herelles.Bâtiment_rural])', '(is_in zone_2 is a [onto_herelles.ZoneEA])']
Distance = 17

647
Assertions: ['(destine vigne is a [onto_herelles.Vigne])', '(has_pixels Px_1 is a [onto_herelles.Pixel])', '(has_state bâtiment_rural is a [onto_herelles.Bâtiment_rural])', '(is_in zone_2 is a [onto_herelles.ZoneEA])']
Distance = 17

648
Assertions: ['(destine surface_herbeuse_agricole is a [onto_herelles.Surface_herbeuse_agricole])', '(has_pixels Px_1 is a [onto_herelles.Pixel])', '(has_state bâtiment_rural is a [onto_herelles.Bâtiment_rural])', '(is_in zone_2 is a [onto_herelles.ZoneEA])']
Distance = 17

649
Assertions: ['(destine autres_cultures is a [onto_herelles.Autres_cultures])', '(has_pixels Px_1 is a [onto_herelles.Pixel])', '(has_state bâtiment_rural is a [onto_herelles.Bâtiment_rural])', '(is_in zone_2 is a [onto_herelles.ZoneEA])']
Distance = 17

650
Assertions: ['(destine verger is a [onto_herelles.Verger])', '(has_pixels Px_1 is a [onto_herelles.Pixel])', '(has_state bâtiment_rural is a [onto_herelles.Bâtiment_rural])', '(is_in zone_2 is a [onto_herelles.ZoneEA])']
Distance = 17

651
Assertions: ['(destine groupe_darbres_agricole_sylviculture is a [onto_herelles.Groupe_darbres_agricole_sylviculture])', '(has_pixels Px_1 is a [onto_herelles.Pixel])', '(has_state bâtiment_rural is a [onto_herelles.Bâtiment_rural])', '(is_in zone_2 is a [onto_herelles.ZoneEA])']
Distance = 17

652
Assertions: ['(destine alignement_darbres_agricole is a [onto_herelles.Alignement_darbres_agricole])', '(has_pixels Px_1 is a [onto_herelles.Pixel])', '(has_state bâtiment_rural is a [onto_herelles.Bâtiment_rural])', '(is_in zone_2 is a [onto_herelles.ZoneEA])']
Distance = 17

653
Assertions: ['(destine haie is a [onto_herelles.Haie])', '(has_pixels Px_1 is a [onto_herelles.Pixel])', '(has_state serre is a [onto_herelles.Serre])', '(is_in zone_2 is a [onto_herelles.ZoneEA])']
Distance = 17

654
Assertions: ['(destine vigne is a [onto_herelles.Vigne])', '(has_pixels Px_1 is a [onto_herelles.Pixel])', '(has_state serre is a [onto_herelles.Serre])', '(is_in zone_2 is a [onto_herelles.ZoneEA])']
Distance = 17

655
Assertions: ['(destine surface_herbeuse_agricole is a [onto_herelles.Surface_herbeuse_agricole])', '(has_pixels Px_1 is a [onto_herelles.Pixel])', '(has_state serre is a [onto_herelles.Serre])', '(is_in zone_2 is a [onto_herelles.ZoneEA])']
Distance = 17

656
Assertions: ['(destine autres_cultures is a [onto_herelles.Autres_cultures])', '(has_pixels Px_1 is a [onto_herelles.Pixel])', '(has_state serre is a [onto_herelles.Serre])', '(is_in zone_2 is a [onto_herelles.ZoneEA])']
Distance = 17

657
Assertions: ['(destine verger is a [onto_herelles.Verger])', '(has_pixels Px_1 is a [onto_herelles.Pixel])', '(has_state serre is a [onto_herelles.Serre])', '(is_in zone_2 is a [onto_herelles.ZoneEA])']
Distance = 17

658
Assertions: ['(destine groupe_darbres_agricole_sylviculture is a [onto_herelles.Groupe_darbres_agricole_sylviculture])', '(has_pixels Px_1 is a [onto_herelles.Pixel])', '(has_state serre is a [onto_herelles.Serre])', '(is_in zone_2 is a [onto_herelles.ZoneEA])']
Distance = 17

659
Assertions: ['(destine alignement_darbres_agricole is a [onto_herelles.Alignement_darbres_agricole])', '(has_pixels Px_1 is a [onto_herelles.Pixel])', '(has_state serre is a [onto_herelles.Serre])', '(is_in zone_2 is a [onto_herelles.ZoneEA])']
Distance = 17

660
Assertions: ['(destine autre_vegetation_agricole is a [onto_herelles.Autre_vegetation_agricole])', '(has_state bati_activite is a [onto_herelles.Bati_activite])', '(is_in zone_2 is a [onto_herelles.ZoneEA])']
Distance = 17

661
Assertions: ['(destine parcelle_agricole is a [onto_herelles.Parcelle_agricole])', '(has_state bati_activite is a [onto_herelles.Bati_activite])', '(is_in zone_2 is a [onto_herelles.ZoneEA])']
Distance = 17

662
Assertions: ['(destine element_boise_agricole is a [onto_herelles.Element_boise_agricole])', '(has_state bati_activite is a [onto_herelles.Bati_activite])', '(is_in zone_2 is a [onto_herelles.ZoneEA])']
Distance = 17

663
Assertions: ['(destine EA_1 is a [onto_herelles.Espaces_agricoles])', '(has_state bâtiment_rural is a [onto_herelles.Bâtiment_rural])', '(is_in zone_2 is a [onto_herelles.ZoneEA])']
Distance = 17

664
Assertions: ['(destine EA_1 is a [onto_herelles.Espaces_agricoles])', '(has_state serre is a [onto_herelles.Serre])', '(is_in zone_2 is a [onto_herelles.ZoneEA])']
Distance = 17

665
Assertions: ['(destine haie is a [onto_herelles.Haie])', '(has_pixels Px_1 is a [onto_herelles.Pixel])', '(has_pixels Px_2 is a [onto_herelles.Pixel])', '(is_in zone_1 is a [onto_herelles.ZoneArticle1])', '(is_in zone_2 is a [onto_herelles.ZoneEA])']
Distance = 18

666
Assertions: ['(destine vigne is a [onto_herelles.Vigne])', '(has_pixels Px_1 is a [onto_herelles.Pixel])', '(has_pixels Px_2 is a [onto_herelles.Pixel])', '(is_in zone_1 is a [onto_herelles.ZoneArticle1])', '(is_in zone_2 is a [onto_herelles.ZoneEA])']
Distance = 18

667
Assertions: ['(destine surface_herbeuse_agricole is a [onto_herelles.Surface_herbeuse_agricole])', '(has_pixels Px_1 is a [onto_herelles.Pixel])', '(has_pixels Px_2 is a [onto_herelles.Pixel])', '(is_in zone_1 is a [onto_herelles.ZoneArticle1])', '(is_in zone_2 is a [onto_herelles.ZoneEA])']
Distance = 18

668
Assertions: ['(destine autres_cultures is a [onto_herelles.Autres_cultures])', '(has_pixels Px_1 is a [onto_herelles.Pixel])', '(has_pixels Px_2 is a [onto_herelles.Pixel])', '(is_in zone_1 is a [onto_herelles.ZoneArticle1])', '(is_in zone_2 is a [onto_herelles.ZoneEA])']
Distance = 18

669
Assertions: ['(destine verger is a [onto_herelles.Verger])', '(has_pixels Px_1 is a [onto_herelles.Pixel])', '(has_pixels Px_2 is a [onto_herelles.Pixel])', '(is_in zone_1 is a [onto_herelles.ZoneArticle1])', '(is_in zone_2 is a [onto_herelles.ZoneEA])']
Distance = 18

670
Assertions: ['(destine groupe_darbres_agricole_sylviculture is a [onto_herelles.Groupe_darbres_agricole_sylviculture])', '(has_pixels Px_1 is a [onto_herelles.Pixel])', '(has_pixels Px_2 is a [onto_herelles.Pixel])', '(is_in zone_1 is a [onto_herelles.ZoneArticle1])', '(is_in zone_2 is a [onto_herelles.ZoneEA])']
Distance = 18

671
Assertions: ['(destine alignement_darbres_agricole is a [onto_herelles.Alignement_darbres_agricole])', '(has_pixels Px_1 is a [onto_herelles.Pixel])', '(has_pixels Px_2 is a [onto_herelles.Pixel])', '(is_in zone_1 is a [onto_herelles.ZoneArticle1])', '(is_in zone_2 is a [onto_herelles.ZoneEA])']
Distance = 18

672
Assertions: ['(destine EA_1 is a [onto_herelles.Espaces_agricoles])', '(has_pixels Px_2 is a [onto_herelles.Pixel])', '(is_in zone_1 is a [onto_herelles.ZoneArticle1])', '(is_in zone_2 is a [onto_herelles.ZoneEA])']
Distance = 18

673
Assertions: ['(destine EA_1 is a [onto_herelles.Espaces_agricoles])', '(has_pixels Px_1 is a [onto_herelles.Pixel])', '(is_in zone_1 is a [onto_herelles.ZoneArticle1])', '(is_in zone_2 is a [onto_herelles.ZoneEA])']
Distance = 18

674
Assertions: ['(destine bati_industrielle is a [onto_herelles.Zone_industrielle_commerciale_ou_tertiaire])', '(has_pixels Px_1 is a [onto_herelles.Pixel])', '(has_pixels Px_2 is a [onto_herelles.Pixel])']
Distance = 18

675
Assertions: ['(destine bati_residentiel is a [onto_herelles.Bati_residentiel])', '(has_pixels Px_1 is a [onto_herelles.Pixel])', '(has_pixels Px_2 is a [onto_herelles.Pixel])', '(is_in zone_1 is a [onto_herelles.ZoneArticle1])']
Distance = 18

676
Assertions: ['(destine autre_bati is a [onto_herelles.Autre_Bati])', '(has_pixels Px_1 is a [onto_herelles.Pixel])', '(has_pixels Px_2 is a [onto_herelles.Pixel])', '(is_in zone_1 is a [onto_herelles.ZoneArticle1])']
Distance = 18

677
Assertions: ['(has_state bati_industrielle is a [onto_herelles.Zone_industrielle_commerciale_ou_tertiaire])', '(is_in zone_2 is a [onto_herelles.ZoneEA])']
Distance = 18

678
Assertions: ['(has_state bati_industrielle is a [onto_herelles.Zone_industrielle_commerciale_ou_tertiaire])', '(is_in zone_1 is a [onto_herelles.ZoneArticle1])']
Distance = 18

679
Assertions: ['(destine bati_activite is a [onto_herelles.Bati_activite])', '(has_pixels Px_2 is a [onto_herelles.Pixel])', '(is_in zone_1 is a [onto_herelles.ZoneArticle1])']
Distance = 18

680
Assertions: ['(has_pixels Px_2 is a [onto_herelles.Pixel])', '(has_state bati_activite is a [onto_herelles.Bati_activite])', '(is_in zone_1 is a [onto_herelles.ZoneArticle1])']
Distance = 18

681
Assertions: ['(destine bati_industrielle is a [onto_herelles.Zone_industrielle_commerciale_ou_tertiaire])', '(has_pixels Px_2 is a [onto_herelles.Pixel])', '(is_in zone is a [onto_herelles.Zone])']
Distance = 18

682
Assertions: ['(destine bati_activite is a [onto_herelles.Bati_activite])', '(has_pixels Px_1 is a [onto_herelles.Pixel])', '(is_in zone_1 is a [onto_herelles.ZoneArticle1])']
Distance = 18

683
Assertions: ['(has_pixels Px_1 is a [onto_herelles.Pixel])', '(has_state bati_activite is a [onto_herelles.Bati_activite])', '(is_in zone_1 is a [onto_herelles.ZoneArticle1])']
Distance = 18

684
Assertions: ['(destine bati_industrielle is a [onto_herelles.Zone_industrielle_commerciale_ou_tertiaire])', '(has_pixels Px_1 is a [onto_herelles.Pixel])', '(is_in zone is a [onto_herelles.Zone])']
Distance = 18

685
Assertions: ['(destine bâtiment_rural is a [onto_herelles.Bâtiment_rural])', '(has_pixels Px_2 is a [onto_herelles.Pixel])', '(is_in zone_1 is a [onto_herelles.ZoneArticle1])', '(is_in zone_1 is a [onto_herelles.ZoneArticle1])']
Distance = 18

686
Assertions: ['(destine bâtiment_rural is a [onto_herelles.Bâtiment_rural])', '(has_pixels Px_2 is a [onto_herelles.Pixel])', '(is_in zone_1 is a [onto_herelles.ZoneArticle1])', '(is_in zone_z2 is a [onto_herelles.Zone_Z2])']
Distance = 18

687
Assertions: ['(destine bâtiment_rural is a [onto_herelles.Bâtiment_rural])', '(has_pixels Px_2 is a [onto_herelles.Pixel])', '(is_in zone_1 is a [onto_herelles.ZoneArticle1])', '(is_in zoneeau is a [onto_herelles.ZoneEau])']
Distance = 18

688
Assertions: ['(destine serre is a [onto_herelles.Serre])', '(has_pixels Px_2 is a [onto_herelles.Pixel])', '(is_in zone_1 is a [onto_herelles.ZoneArticle1])', '(is_in zone_1 is a [onto_herelles.ZoneArticle1])']
Distance = 18

689
Assertions: ['(destine serre is a [onto_herelles.Serre])', '(has_pixels Px_2 is a [onto_herelles.Pixel])', '(is_in zone_1 is a [onto_herelles.ZoneArticle1])', '(is_in zone_z2 is a [onto_herelles.Zone_Z2])']
Distance = 18

690
Assertions: ['(destine serre is a [onto_herelles.Serre])', '(has_pixels Px_2 is a [onto_herelles.Pixel])', '(is_in zone_1 is a [onto_herelles.ZoneArticle1])', '(is_in zoneeau is a [onto_herelles.ZoneEau])']
Distance = 18

691
Assertions: ['(destine bati_industrielle is a [onto_herelles.Zone_industrielle_commerciale_ou_tertiaire])', '(has_pixels Px_2 is a [onto_herelles.Pixel])', '(is_in zone_z2 is a [onto_herelles.Zone_Z2])', '(is_in zone_z2 is a [onto_herelles.Zone_Z2])']
Distance = 18

692
Assertions: ['(destine bati_industrielle is a [onto_herelles.Zone_industrielle_commerciale_ou_tertiaire])', '(has_pixels Px_2 is a [onto_herelles.Pixel])', '(is_in zone_z2 is a [onto_herelles.Zone_Z2])', '(is_in zoneeau is a [onto_herelles.ZoneEau])']
Distance = 18

693
Assertions: ['(destine bati_industrielle is a [onto_herelles.Zone_industrielle_commerciale_ou_tertiaire])', '(has_pixels Px_2 is a [onto_herelles.Pixel])', '(is_in zoneeau is a [onto_herelles.ZoneEau])', '(is_in zoneeau is a [onto_herelles.ZoneEau])']
Distance = 18

694
Assertions: ['(destine bâtiment_rural is a [onto_herelles.Bâtiment_rural])', '(has_pixels Px_1 is a [onto_herelles.Pixel])', '(is_in zone_1 is a [onto_herelles.ZoneArticle1])', '(is_in zone_1 is a [onto_herelles.ZoneArticle1])']
Distance = 18

695
Assertions: ['(destine bâtiment_rural is a [onto_herelles.Bâtiment_rural])', '(has_pixels Px_1 is a [onto_herelles.Pixel])', '(is_in zone_1 is a [onto_herelles.ZoneArticle1])', '(is_in zone_z2 is a [onto_herelles.Zone_Z2])']
Distance = 18

696
Assertions: ['(destine bâtiment_rural is a [onto_herelles.Bâtiment_rural])', '(has_pixels Px_1 is a [onto_herelles.Pixel])', '(is_in zone_1 is a [onto_herelles.ZoneArticle1])', '(is_in zoneeau is a [onto_herelles.ZoneEau])']
Distance = 18

697
Assertions: ['(destine serre is a [onto_herelles.Serre])', '(has_pixels Px_1 is a [onto_herelles.Pixel])', '(is_in zone_1 is a [onto_herelles.ZoneArticle1])', '(is_in zone_1 is a [onto_herelles.ZoneArticle1])']
Distance = 18

698
Assertions: ['(destine serre is a [onto_herelles.Serre])', '(has_pixels Px_1 is a [onto_herelles.Pixel])', '(is_in zone_1 is a [onto_herelles.ZoneArticle1])', '(is_in zone_z2 is a [onto_herelles.Zone_Z2])']
Distance = 18

699
Assertions: ['(destine serre is a [onto_herelles.Serre])', '(has_pixels Px_1 is a [onto_herelles.Pixel])', '(is_in zone_1 is a [onto_herelles.ZoneArticle1])', '(is_in zoneeau is a [onto_herelles.ZoneEau])']
Distance = 18

700
Assertions: ['(destine bati_industrielle is a [onto_herelles.Zone_industrielle_commerciale_ou_tertiaire])', '(has_pixels Px_1 is a [onto_herelles.Pixel])', '(is_in zone_z2 is a [onto_herelles.Zone_Z2])', '(is_in zone_z2 is a [onto_herelles.Zone_Z2])']
Distance = 18

701
Assertions: ['(destine bati_industrielle is a [onto_herelles.Zone_industrielle_commerciale_ou_tertiaire])', '(has_pixels Px_1 is a [onto_herelles.Pixel])', '(is_in zone_z2 is a [onto_herelles.Zone_Z2])', '(is_in zoneeau is a [onto_herelles.ZoneEau])']
Distance = 18

702
Assertions: ['(destine bati_industrielle is a [onto_herelles.Zone_industrielle_commerciale_ou_tertiaire])', '(has_pixels Px_1 is a [onto_herelles.Pixel])', '(is_in zoneeau is a [onto_herelles.ZoneEau])', '(is_in zoneeau is a [onto_herelles.ZoneEau])']
Distance = 18

703
Assertions: ['(has_pixels Px_2 is a [onto_herelles.Pixel])', '(has_state bati_activite is a [onto_herelles.Bati_activite])', '(is_in zone_2 is a [onto_herelles.ZoneEA])']
Distance = 18

704
Assertions: ['(has_pixels Px_1 is a [onto_herelles.Pixel])', '(has_state bati_activite is a [onto_herelles.Bati_activite])', '(is_in zone_2 is a [onto_herelles.ZoneEA])']
Distance = 18

705
Assertions: ['(destine bati_industrielle is a [onto_herelles.Zone_industrielle_commerciale_ou_tertiaire])', '(is_in zone is a [onto_herelles.Zone])', '(is_in zone is a [onto_herelles.Zone])']
Distance = 18

706
Assertions: ['(has_state bati_industrielle is a [onto_herelles.Zone_industrielle_commerciale_ou_tertiaire])', '(is_in zone is a [onto_herelles.Zone])', '(is_in zone_1 is a [onto_herelles.ZoneArticle1])']
Distance = 18

707
Assertions: ['(destine bati_activite is a [onto_herelles.Bati_activite])', '(has_pixels Px_1 is a [onto_herelles.Pixel])', '(is_in zone is a [onto_herelles.Zone])', '(is_in zone_1 is a [onto_herelles.ZoneArticle1])']
Distance = 18

708
Assertions: ['(destine bati_activite is a [onto_herelles.Bati_activite])', '(has_pixels Px_2 is a [onto_herelles.Pixel])', '(is_in zone is a [onto_herelles.Zone])', '(is_in zone_1 is a [onto_herelles.ZoneArticle1])']
Distance = 18

709
Assertions: ['(destine haie is a [onto_herelles.Haie])', '(has_state bati_activite is a [onto_herelles.Bati_activite])', '(is_in zone_2 is a [onto_herelles.ZoneEA])']
Distance = 18

710
Assertions: ['(destine vigne is a [onto_herelles.Vigne])', '(has_state bati_activite is a [onto_herelles.Bati_activite])', '(is_in zone_2 is a [onto_herelles.ZoneEA])']
Distance = 18

711
Assertions: ['(destine surface_herbeuse_agricole is a [onto_herelles.Surface_herbeuse_agricole])', '(has_state bati_activite is a [onto_herelles.Bati_activite])', '(is_in zone_2 is a [onto_herelles.ZoneEA])']
Distance = 18

712
Assertions: ['(destine autres_cultures is a [onto_herelles.Autres_cultures])', '(has_state bati_activite is a [onto_herelles.Bati_activite])', '(is_in zone_2 is a [onto_herelles.ZoneEA])']
Distance = 18

713
Assertions: ['(destine verger is a [onto_herelles.Verger])', '(has_state bati_activite is a [onto_herelles.Bati_activite])', '(is_in zone_2 is a [onto_herelles.ZoneEA])']
Distance = 18

714
Assertions: ['(destine groupe_darbres_agricole_sylviculture is a [onto_herelles.Groupe_darbres_agricole_sylviculture])', '(has_state bati_activite is a [onto_herelles.Bati_activite])', '(is_in zone_2 is a [onto_herelles.ZoneEA])']
Distance = 18

715
Assertions: ['(destine alignement_darbres_agricole is a [onto_herelles.Alignement_darbres_agricole])', '(has_state bati_activite is a [onto_herelles.Bati_activite])', '(is_in zone_2 is a [onto_herelles.ZoneEA])']
Distance = 18

716
Assertions: ['(destine autre_vegetation_agricole is a [onto_herelles.Autre_vegetation_agricole])', '(has_state bâtiment_rural is a [onto_herelles.Bâtiment_rural])', '(is_in zone_2 is a [onto_herelles.ZoneEA])']
Distance = 18

717
Assertions: ['(destine parcelle_agricole is a [onto_herelles.Parcelle_agricole])', '(has_state bâtiment_rural is a [onto_herelles.Bâtiment_rural])', '(is_in zone_2 is a [onto_herelles.ZoneEA])']
Distance = 18

718
Assertions: ['(destine element_boise_agricole is a [onto_herelles.Element_boise_agricole])', '(has_state bâtiment_rural is a [onto_herelles.Bâtiment_rural])', '(is_in zone_2 is a [onto_herelles.ZoneEA])']
Distance = 18

719
Assertions: ['(destine autre_vegetation_agricole is a [onto_herelles.Autre_vegetation_agricole])', '(has_state serre is a [onto_herelles.Serre])', '(is_in zone_2 is a [onto_herelles.ZoneEA])']
Distance = 18

720
Assertions: ['(destine parcelle_agricole is a [onto_herelles.Parcelle_agricole])', '(has_state serre is a [onto_herelles.Serre])', '(is_in zone_2 is a [onto_herelles.ZoneEA])']
Distance = 18

721
Assertions: ['(destine element_boise_agricole is a [onto_herelles.Element_boise_agricole])', '(has_state serre is a [onto_herelles.Serre])', '(is_in zone_2 is a [onto_herelles.ZoneEA])']
Distance = 18

722
Assertions: ['(destine autre_vegetation_agricole is a [onto_herelles.Autre_vegetation_agricole])', '(has_pixels Px_2 is a [onto_herelles.Pixel])', '(is_in zone_1 is a [onto_herelles.ZoneArticle1])', '(is_in zone_2 is a [onto_herelles.ZoneEA])']
Distance = 19

723
Assertions: ['(destine parcelle_agricole is a [onto_herelles.Parcelle_agricole])', '(has_pixels Px_2 is a [onto_herelles.Pixel])', '(is_in zone_1 is a [onto_herelles.ZoneArticle1])', '(is_in zone_2 is a [onto_herelles.ZoneEA])']
Distance = 19

724
Assertions: ['(destine element_boise_agricole is a [onto_herelles.Element_boise_agricole])', '(has_pixels Px_2 is a [onto_herelles.Pixel])', '(is_in zone_1 is a [onto_herelles.ZoneArticle1])', '(is_in zone_2 is a [onto_herelles.ZoneEA])']
Distance = 19

725
Assertions: ['(destine autre_vegetation_agricole is a [onto_herelles.Autre_vegetation_agricole])', '(has_pixels Px_1 is a [onto_herelles.Pixel])', '(is_in zone_1 is a [onto_herelles.ZoneArticle1])', '(is_in zone_2 is a [onto_herelles.ZoneEA])']
Distance = 19

726
Assertions: ['(destine parcelle_agricole is a [onto_herelles.Parcelle_agricole])', '(has_pixels Px_1 is a [onto_herelles.Pixel])', '(is_in zone_1 is a [onto_herelles.ZoneArticle1])', '(is_in zone_2 is a [onto_herelles.ZoneEA])']
Distance = 19

727
Assertions: ['(destine element_boise_agricole is a [onto_herelles.Element_boise_agricole])', '(has_pixels Px_1 is a [onto_herelles.Pixel])', '(is_in zone_1 is a [onto_herelles.ZoneArticle1])', '(is_in zone_2 is a [onto_herelles.ZoneEA])']
Distance = 19

728
Assertions: ['(destine state_geo is a [onto_herelles.State_Geo])', '(has_pixels Px_1 is a [onto_herelles.Pixel])', '(has_pixels Px_2 is a [onto_herelles.Pixel])', '(is_in zone_2 is a [onto_herelles.ZoneEA])']
Distance = 19

729
Assertions: ['(destine tu_continu is a [onto_herelles.TU_continu])', '(has_pixels Px_1 is a [onto_herelles.Pixel])', '(has_pixels Px_2 is a [onto_herelles.Pixel])', '(is_in zone_1 is a [onto_herelles.ZoneArticle1])']
Distance = 19

730
Assertions: ['(destine tu_discontinu is a [onto_herelles.TU_discontinu])', '(has_pixels Px_1 is a [onto_herelles.Pixel])', '(has_pixels Px_2 is a [onto_herelles.Pixel])', '(is_in zone_1 is a [onto_herelles.ZoneArticle1])']
Distance = 19

731
Assertions: ['(destine state_geo is a [onto_herelles.State_Geo])', '(is_in zone_1 is a [onto_herelles.ZoneArticle1])', '(is_in zone_2 is a [onto_herelles.ZoneEA])']
Distance = 19

732
Assertions: ['(destine bati is a [onto_herelles.Bati])', '(has_pixels Px_2 is a [onto_herelles.Pixel])', '(is_in zone_1 is a [onto_herelles.ZoneArticle1])']
Distance = 19

733
Assertions: ['(destine bâtiment_rural is a [onto_herelles.Bâtiment_rural])', '(has_pixels Px_2 is a [onto_herelles.Pixel])', '(is_in zone_1 is a [onto_herelles.ZoneArticle1])']
Distance = 19

734
Assertions: ['(destine serre is a [onto_herelles.Serre])', '(has_pixels Px_2 is a [onto_herelles.Pixel])', '(is_in zone_1 is a [onto_herelles.ZoneArticle1])']
Distance = 19

735
Assertions: ['(has_pixels Px_2 is a [onto_herelles.Pixel])', '(has_state bâtiment_rural is a [onto_herelles.Bâtiment_rural])', '(is_in zone_1 is a [onto_herelles.ZoneArticle1])']
Distance = 19

736
Assertions: ['(has_pixels Px_2 is a [onto_herelles.Pixel])', '(has_state serre is a [onto_herelles.Serre])', '(is_in zone_1 is a [onto_herelles.ZoneArticle1])']
Distance = 19

737
Assertions: ['(destine bati is a [onto_herelles.Bati])', '(has_pixels Px_1 is a [onto_herelles.Pixel])', '(is_in zone_1 is a [onto_herelles.ZoneArticle1])']
Distance = 19

738
Assertions: ['(destine bâtiment_rural is a [onto_herelles.Bâtiment_rural])', '(has_pixels Px_1 is a [onto_herelles.Pixel])', '(is_in zone_1 is a [onto_herelles.ZoneArticle1])']
Distance = 19

739
Assertions: ['(destine serre is a [onto_herelles.Serre])', '(has_pixels Px_1 is a [onto_herelles.Pixel])', '(is_in zone_1 is a [onto_herelles.ZoneArticle1])']
Distance = 19

740
Assertions: ['(has_pixels Px_1 is a [onto_herelles.Pixel])', '(has_state bâtiment_rural is a [onto_herelles.Bâtiment_rural])', '(is_in zone_1 is a [onto_herelles.ZoneArticle1])']
Distance = 19

741
Assertions: ['(has_pixels Px_1 is a [onto_herelles.Pixel])', '(has_state serre is a [onto_herelles.Serre])', '(is_in zone_1 is a [onto_herelles.ZoneArticle1])']
Distance = 19

742
Assertions: ['(has_pixels Px_2 is a [onto_herelles.Pixel])', '(has_state bâtiment_rural is a [onto_herelles.Bâtiment_rural])', '(is_in zone_2 is a [onto_herelles.ZoneEA])']
Distance = 19

743
Assertions: ['(has_pixels Px_2 is a [onto_herelles.Pixel])', '(has_state serre is a [onto_herelles.Serre])', '(is_in zone_2 is a [onto_herelles.ZoneEA])']
Distance = 19

744
Assertions: ['(destine bati_industrielle is a [onto_herelles.Zone_industrielle_commerciale_ou_tertiaire])', '(has_pixels Px_2 is a [onto_herelles.Pixel])', '(is_in zone_z2 is a [onto_herelles.Zone_Z2])']
Distance = 19

745
Assertions: ['(destine bati_industrielle is a [onto_herelles.Zone_industrielle_commerciale_ou_tertiaire])', '(has_pixels Px_2 is a [onto_herelles.Pixel])', '(is_in zoneeau is a [onto_herelles.ZoneEau])']
Distance = 19

746
Assertions: ['(has_pixels Px_1 is a [onto_herelles.Pixel])', '(has_state bâtiment_rural is a [onto_herelles.Bâtiment_rural])', '(is_in zone_2 is a [onto_herelles.ZoneEA])']
Distance = 19

747
Assertions: ['(has_pixels Px_1 is a [onto_herelles.Pixel])', '(has_state serre is a [onto_herelles.Serre])', '(is_in zone_2 is a [onto_herelles.ZoneEA])']
Distance = 19

748
Assertions: ['(destine bati_industrielle is a [onto_herelles.Zone_industrielle_commerciale_ou_tertiaire])', '(has_pixels Px_1 is a [onto_herelles.Pixel])', '(is_in zone_z2 is a [onto_herelles.Zone_Z2])']
Distance = 19

749
Assertions: ['(destine bati_industrielle is a [onto_herelles.Zone_industrielle_commerciale_ou_tertiaire])', '(has_pixels Px_1 is a [onto_herelles.Pixel])', '(is_in zoneeau is a [onto_herelles.ZoneEau])']
Distance = 19

750
Assertions: ['(destine bati_activite is a [onto_herelles.Bati_activite])', '(is_in zone_1 is a [onto_herelles.ZoneArticle1])', '(is_in zone_1 is a [onto_herelles.ZoneArticle1])']
Distance = 19

751
Assertions: ['(destine bati_activite is a [onto_herelles.Bati_activite])', '(is_in zone_1 is a [onto_herelles.ZoneArticle1])', '(is_in zone_z2 is a [onto_herelles.Zone_Z2])']
Distance = 19

752
Assertions: ['(destine bati_activite is a [onto_herelles.Bati_activite])', '(is_in zone_1 is a [onto_herelles.ZoneArticle1])', '(is_in zoneeau is a [onto_herelles.ZoneEau])']
Distance = 19

753
Assertions: ['(destine bati_industrielle is a [onto_herelles.Zone_industrielle_commerciale_ou_tertiaire])', '(is_in zone is a [onto_herelles.Zone])', '(is_in zone_z2 is a [onto_herelles.Zone_Z2])']
Distance = 19

754
Assertions: ['(destine bati_industrielle is a [onto_herelles.Zone_industrielle_commerciale_ou_tertiaire])', '(is_in zone is a [onto_herelles.Zone])', '(is_in zoneeau is a [onto_herelles.ZoneEau])']
Distance = 19

755
Assertions: ['(destine bâtiment_rural is a [onto_herelles.Bâtiment_rural])', '(has_pixels Px_1 is a [onto_herelles.Pixel])', '(is_in zone is a [onto_herelles.Zone])', '(is_in zone_1 is a [onto_herelles.ZoneArticle1])']
Distance = 19

756
Assertions: ['(destine serre is a [onto_herelles.Serre])', '(has_pixels Px_1 is a [onto_herelles.Pixel])', '(is_in zone is a [onto_herelles.Zone])', '(is_in zone_1 is a [onto_herelles.ZoneArticle1])']
Distance = 19

757
Assertions: ['(destine bâtiment_rural is a [onto_herelles.Bâtiment_rural])', '(has_pixels Px_2 is a [onto_herelles.Pixel])', '(is_in zone is a [onto_herelles.Zone])', '(is_in zone_1 is a [onto_herelles.ZoneArticle1])']
Distance = 19

758
Assertions: ['(destine serre is a [onto_herelles.Serre])', '(has_pixels Px_2 is a [onto_herelles.Pixel])', '(is_in zone is a [onto_herelles.Zone])', '(is_in zone_1 is a [onto_herelles.ZoneArticle1])']
Distance = 19

759
Assertions: ['(destine haie is a [onto_herelles.Haie])', '(has_state bâtiment_rural is a [onto_herelles.Bâtiment_rural])', '(is_in zone_2 is a [onto_herelles.ZoneEA])']
Distance = 19

760
Assertions: ['(destine vigne is a [onto_herelles.Vigne])', '(has_state bâtiment_rural is a [onto_herelles.Bâtiment_rural])', '(is_in zone_2 is a [onto_herelles.ZoneEA])']
Distance = 19

761
Assertions: ['(destine surface_herbeuse_agricole is a [onto_herelles.Surface_herbeuse_agricole])', '(has_state bâtiment_rural is a [onto_herelles.Bâtiment_rural])', '(is_in zone_2 is a [onto_herelles.ZoneEA])']
Distance = 19

762
Assertions: ['(destine autres_cultures is a [onto_herelles.Autres_cultures])', '(has_state bâtiment_rural is a [onto_herelles.Bâtiment_rural])', '(is_in zone_2 is a [onto_herelles.ZoneEA])']
Distance = 19

763
Assertions: ['(destine verger is a [onto_herelles.Verger])', '(has_state bâtiment_rural is a [onto_herelles.Bâtiment_rural])', '(is_in zone_2 is a [onto_herelles.ZoneEA])']
Distance = 19

764
Assertions: ['(destine groupe_darbres_agricole_sylviculture is a [onto_herelles.Groupe_darbres_agricole_sylviculture])', '(has_state bâtiment_rural is a [onto_herelles.Bâtiment_rural])', '(is_in zone_2 is a [onto_herelles.ZoneEA])']
Distance = 19

765
Assertions: ['(destine alignement_darbres_agricole is a [onto_herelles.Alignement_darbres_agricole])', '(has_state bâtiment_rural is a [onto_herelles.Bâtiment_rural])', '(is_in zone_2 is a [onto_herelles.ZoneEA])']
Distance = 19

766
Assertions: ['(destine haie is a [onto_herelles.Haie])', '(has_state serre is a [onto_herelles.Serre])', '(is_in zone_2 is a [onto_herelles.ZoneEA])']
Distance = 19

767
Assertions: ['(destine vigne is a [onto_herelles.Vigne])', '(has_state serre is a [onto_herelles.Serre])', '(is_in zone_2 is a [onto_herelles.ZoneEA])']
Distance = 19

768
Assertions: ['(destine surface_herbeuse_agricole is a [onto_herelles.Surface_herbeuse_agricole])', '(has_state serre is a [onto_herelles.Serre])', '(is_in zone_2 is a [onto_herelles.ZoneEA])']
Distance = 19

769
Assertions: ['(destine autres_cultures is a [onto_herelles.Autres_cultures])', '(has_state serre is a [onto_herelles.Serre])', '(is_in zone_2 is a [onto_herelles.ZoneEA])']
Distance = 19

770
Assertions: ['(destine verger is a [onto_herelles.Verger])', '(has_state serre is a [onto_herelles.Serre])', '(is_in zone_2 is a [onto_herelles.ZoneEA])']
Distance = 19

771
Assertions: ['(destine groupe_darbres_agricole_sylviculture is a [onto_herelles.Groupe_darbres_agricole_sylviculture])', '(has_state serre is a [onto_herelles.Serre])', '(is_in zone_2 is a [onto_herelles.ZoneEA])']
Distance = 19

772
Assertions: ['(destine alignement_darbres_agricole is a [onto_herelles.Alignement_darbres_agricole])', '(has_state serre is a [onto_herelles.Serre])', '(is_in zone_2 is a [onto_herelles.ZoneEA])']
Distance = 19

773
Assertions: ['(has_pixels Px_1 is a [onto_herelles.Pixel])', '(has_pixels Px_2 is a [onto_herelles.Pixel])', '(is_in zone_1 is a [onto_herelles.ZoneArticle1])', '(is_in zone_2 is a [onto_herelles.ZoneEA])']
Distance = 20

774
Assertions: ['(destine haie is a [onto_herelles.Haie])', '(has_pixels Px_2 is a [onto_herelles.Pixel])', '(is_in zone_1 is a [onto_herelles.ZoneArticle1])', '(is_in zone_2 is a [onto_herelles.ZoneEA])']
Distance = 20

775
Assertions: ['(destine vigne is a [onto_herelles.Vigne])', '(has_pixels Px_2 is a [onto_herelles.Pixel])', '(is_in zone_1 is a [onto_herelles.ZoneArticle1])', '(is_in zone_2 is a [onto_herelles.ZoneEA])']
Distance = 20

776
Assertions: ['(destine surface_herbeuse_agricole is a [onto_herelles.Surface_herbeuse_agricole])', '(has_pixels Px_2 is a [onto_herelles.Pixel])', '(is_in zone_1 is a [onto_herelles.ZoneArticle1])', '(is_in zone_2 is a [onto_herelles.ZoneEA])']
Distance = 20

777
Assertions: ['(destine autres_cultures is a [onto_herelles.Autres_cultures])', '(has_pixels Px_2 is a [onto_herelles.Pixel])', '(is_in zone_1 is a [onto_herelles.ZoneArticle1])', '(is_in zone_2 is a [onto_herelles.ZoneEA])']
Distance = 20

778
Assertions: ['(destine verger is a [onto_herelles.Verger])', '(has_pixels Px_2 is a [onto_herelles.Pixel])', '(is_in zone_1 is a [onto_herelles.ZoneArticle1])', '(is_in zone_2 is a [onto_herelles.ZoneEA])']
Distance = 20

779
Assertions: ['(destine groupe_darbres_agricole_sylviculture is a [onto_herelles.Groupe_darbres_agricole_sylviculture])', '(has_pixels Px_2 is a [onto_herelles.Pixel])', '(is_in zone_1 is a [onto_herelles.ZoneArticle1])', '(is_in zone_2 is a [onto_herelles.ZoneEA])']
Distance = 20

780
Assertions: ['(destine alignement_darbres_agricole is a [onto_herelles.Alignement_darbres_agricole])', '(has_pixels Px_2 is a [onto_herelles.Pixel])', '(is_in zone_1 is a [onto_herelles.ZoneArticle1])', '(is_in zone_2 is a [onto_herelles.ZoneEA])']
Distance = 20

781
Assertions: ['(destine haie is a [onto_herelles.Haie])', '(has_pixels Px_1 is a [onto_herelles.Pixel])', '(is_in zone_1 is a [onto_herelles.ZoneArticle1])', '(is_in zone_2 is a [onto_herelles.ZoneEA])']
Distance = 20

782
Assertions: ['(destine vigne is a [onto_herelles.Vigne])', '(has_pixels Px_1 is a [onto_herelles.Pixel])', '(is_in zone_1 is a [onto_herelles.ZoneArticle1])', '(is_in zone_2 is a [onto_herelles.ZoneEA])']
Distance = 20

783
Assertions: ['(destine surface_herbeuse_agricole is a [onto_herelles.Surface_herbeuse_agricole])', '(has_pixels Px_1 is a [onto_herelles.Pixel])', '(is_in zone_1 is a [onto_herelles.ZoneArticle1])', '(is_in zone_2 is a [onto_herelles.ZoneEA])']
Distance = 20

784
Assertions: ['(destine autres_cultures is a [onto_herelles.Autres_cultures])', '(has_pixels Px_1 is a [onto_herelles.Pixel])', '(is_in zone_1 is a [onto_herelles.ZoneArticle1])', '(is_in zone_2 is a [onto_herelles.ZoneEA])']
Distance = 20

785
Assertions: ['(destine verger is a [onto_herelles.Verger])', '(has_pixels Px_1 is a [onto_herelles.Pixel])', '(is_in zone_1 is a [onto_herelles.ZoneArticle1])', '(is_in zone_2 is a [onto_herelles.ZoneEA])']
Distance = 20

786
Assertions: ['(destine groupe_darbres_agricole_sylviculture is a [onto_herelles.Groupe_darbres_agricole_sylviculture])', '(has_pixels Px_1 is a [onto_herelles.Pixel])', '(is_in zone_1 is a [onto_herelles.ZoneArticle1])', '(is_in zone_2 is a [onto_herelles.ZoneEA])']
Distance = 20

787
Assertions: ['(destine alignement_darbres_agricole is a [onto_herelles.Alignement_darbres_agricole])', '(has_pixels Px_1 is a [onto_herelles.Pixel])', '(is_in zone_1 is a [onto_herelles.ZoneArticle1])', '(is_in zone_2 is a [onto_herelles.ZoneEA])']
Distance = 20

788
Assertions: ['(destine EA_1 is a [onto_herelles.Espaces_agricoles])', '(has_pixels Px_1 is a [onto_herelles.Pixel])', '(has_pixels Px_2 is a [onto_herelles.Pixel])', '(is_in zone_2 is a [onto_herelles.ZoneEA])']
Distance = 20

789
Assertions: ['(destine tu_continu_individuel is a [onto_herelles.TU_continu_individuel])', '(has_pixels Px_1 is a [onto_herelles.Pixel])', '(has_pixels Px_2 is a [onto_herelles.Pixel])', '(is_in zone_1 is a [onto_herelles.ZoneArticle1])']
Distance = 20

790
Assertions: ['(destine tu_continu_collectif is a [onto_herelles.TU_continu_collectif])', '(has_pixels Px_1 is a [onto_herelles.Pixel])', '(has_pixels Px_2 is a [onto_herelles.Pixel])', '(is_in zone_1 is a [onto_herelles.ZoneArticle1])']
Distance = 20

791
Assertions: ['(destine tu_discontinu_collectif is a [onto_herelles.TU_discontinu_collectif])', '(has_pixels Px_1 is a [onto_herelles.Pixel])', '(has_pixels Px_2 is a [onto_herelles.Pixel])', '(is_in zone_1 is a [onto_herelles.ZoneArticle1])']
Distance = 20

792
Assertions: ['(destine tu_discontinu_individuel is a [onto_herelles.TU_discontinu_individuel])', '(has_pixels Px_1 is a [onto_herelles.Pixel])', '(has_pixels Px_2 is a [onto_herelles.Pixel])', '(is_in zone_1 is a [onto_herelles.ZoneArticle1])']
Distance = 20

793
Assertions: ['(destine EA_1 is a [onto_herelles.Espaces_agricoles])', '(is_in zone_1 is a [onto_herelles.ZoneArticle1])', '(is_in zone_2 is a [onto_herelles.ZoneEA])']
Distance = 20

794
Assertions: ['(destine bati_industrielle is a [onto_herelles.Zone_industrielle_commerciale_ou_tertiaire])', '(has_pixels Px_2 is a [onto_herelles.Pixel])']
Distance = 20

795
Assertions: ['(destine bati_residentiel is a [onto_herelles.Bati_residentiel])', '(has_pixels Px_2 is a [onto_herelles.Pixel])', '(is_in zone_1 is a [onto_herelles.ZoneArticle1])']
Distance = 20

796
Assertions: ['(destine autre_bati is a [onto_herelles.Autre_Bati])', '(has_pixels Px_2 is a [onto_herelles.Pixel])', '(is_in zone_1 is a [onto_herelles.ZoneArticle1])']
Distance = 20

797
Assertions: ['(destine bati_industrielle is a [onto_herelles.Zone_industrielle_commerciale_ou_tertiaire])', '(has_pixels Px_1 is a [onto_herelles.Pixel])']
Distance = 20

798
Assertions: ['(destine bati_residentiel is a [onto_herelles.Bati_residentiel])', '(has_pixels Px_1 is a [onto_herelles.Pixel])', '(is_in zone_1 is a [onto_herelles.ZoneArticle1])']
Distance = 20

799
Assertions: ['(destine autre_bati is a [onto_herelles.Autre_Bati])', '(has_pixels Px_1 is a [onto_herelles.Pixel])', '(is_in zone_1 is a [onto_herelles.ZoneArticle1])']
Distance = 20

800
Assertions: ['(destine bati_activite is a [onto_herelles.Bati_activite])', '(is_in zone_1 is a [onto_herelles.ZoneArticle1])']
Distance = 20

801
Assertions: ['(has_state bati_activite is a [onto_herelles.Bati_activite])', '(is_in zone_1 is a [onto_herelles.ZoneArticle1])']
Distance = 20

802
Assertions: ['(destine bati_industrielle is a [onto_herelles.Zone_industrielle_commerciale_ou_tertiaire])', '(is_in zone is a [onto_herelles.Zone])']
Distance = 20

803
Assertions: ['(destine bâtiment_rural is a [onto_herelles.Bâtiment_rural])', '(is_in zone_1 is a [onto_herelles.ZoneArticle1])', '(is_in zone_1 is a [onto_herelles.ZoneArticle1])']
Distance = 20

804
Assertions: ['(destine bâtiment_rural is a [onto_herelles.Bâtiment_rural])', '(is_in zone_1 is a [onto_herelles.ZoneArticle1])', '(is_in zone_z2 is a [onto_herelles.Zone_Z2])']
Distance = 20

805
Assertions: ['(destine bâtiment_rural is a [onto_herelles.Bâtiment_rural])', '(is_in zone_1 is a [onto_herelles.ZoneArticle1])', '(is_in zoneeau is a [onto_herelles.ZoneEau])']
Distance = 20

806
Assertions: ['(destine serre is a [onto_herelles.Serre])', '(is_in zone_1 is a [onto_herelles.ZoneArticle1])', '(is_in zone_1 is a [onto_herelles.ZoneArticle1])']
Distance = 20

807
Assertions: ['(destine serre is a [onto_herelles.Serre])', '(is_in zone_1 is a [onto_herelles.ZoneArticle1])', '(is_in zone_z2 is a [onto_herelles.Zone_Z2])']
Distance = 20

808
Assertions: ['(destine serre is a [onto_herelles.Serre])', '(is_in zone_1 is a [onto_herelles.ZoneArticle1])', '(is_in zoneeau is a [onto_herelles.ZoneEau])']
Distance = 20

809
Assertions: ['(destine bati_industrielle is a [onto_herelles.Zone_industrielle_commerciale_ou_tertiaire])', '(is_in zone_z2 is a [onto_herelles.Zone_Z2])', '(is_in zone_z2 is a [onto_herelles.Zone_Z2])']
Distance = 20

810
Assertions: ['(destine bati_industrielle is a [onto_herelles.Zone_industrielle_commerciale_ou_tertiaire])', '(is_in zone_z2 is a [onto_herelles.Zone_Z2])', '(is_in zoneeau is a [onto_herelles.ZoneEau])']
Distance = 20

811
Assertions: ['(destine bati_industrielle is a [onto_herelles.Zone_industrielle_commerciale_ou_tertiaire])', '(is_in zoneeau is a [onto_herelles.ZoneEau])', '(is_in zoneeau is a [onto_herelles.ZoneEau])']
Distance = 20

812
Assertions: ['(has_state bati_activite is a [onto_herelles.Bati_activite])', '(is_in zone_2 is a [onto_herelles.ZoneEA])']
Distance = 20

813
Assertions: ['(destine bati_activite is a [onto_herelles.Bati_activite])', '(is_in zone is a [onto_herelles.Zone])', '(is_in zone_1 is a [onto_herelles.ZoneArticle1])']
Distance = 20

814
Assertions: ['(destine autre_vegetation_agricole is a [onto_herelles.Autre_vegetation_agricole])', '(has_pixels Px_1 is a [onto_herelles.Pixel])', '(has_pixels Px_2 is a [onto_herelles.Pixel])', '(is_in zone_2 is a [onto_herelles.ZoneEA])']
Distance = 21

815
Assertions: ['(destine parcelle_agricole is a [onto_herelles.Parcelle_agricole])', '(has_pixels Px_1 is a [onto_herelles.Pixel])', '(has_pixels Px_2 is a [onto_herelles.Pixel])', '(is_in zone_2 is a [onto_herelles.ZoneEA])']
Distance = 21

816
Assertions: ['(destine element_boise_agricole is a [onto_herelles.Element_boise_agricole])', '(has_pixels Px_1 is a [onto_herelles.Pixel])', '(has_pixels Px_2 is a [onto_herelles.Pixel])', '(is_in zone_2 is a [onto_herelles.ZoneEA])']
Distance = 21

817
Assertions: ['(destine autre_vegetation_agricole is a [onto_herelles.Autre_vegetation_agricole])', '(is_in zone_1 is a [onto_herelles.ZoneArticle1])', '(is_in zone_2 is a [onto_herelles.ZoneEA])']
Distance = 21

818
Assertions: ['(destine parcelle_agricole is a [onto_herelles.Parcelle_agricole])', '(is_in zone_1 is a [onto_herelles.ZoneArticle1])', '(is_in zone_2 is a [onto_herelles.ZoneEA])']
Distance = 21

819
Assertions: ['(destine element_boise_agricole is a [onto_herelles.Element_boise_agricole])', '(is_in zone_1 is a [onto_herelles.ZoneArticle1])', '(is_in zone_2 is a [onto_herelles.ZoneEA])']
Distance = 21

820
Assertions: ['(destine state_geo is a [onto_herelles.State_Geo])', '(has_pixels Px_2 is a [onto_herelles.Pixel])', '(is_in zone_2 is a [onto_herelles.ZoneEA])']
Distance = 21

821
Assertions: ['(destine tu_continu is a [onto_herelles.TU_continu])', '(has_pixels Px_2 is a [onto_herelles.Pixel])', '(is_in zone_1 is a [onto_herelles.ZoneArticle1])']
Distance = 21

822
Assertions: ['(destine tu_discontinu is a [onto_herelles.TU_discontinu])', '(has_pixels Px_2 is a [onto_herelles.Pixel])', '(is_in zone_1 is a [onto_herelles.ZoneArticle1])']
Distance = 21

823
Assertions: ['(destine state_geo is a [onto_herelles.State_Geo])', '(has_pixels Px_1 is a [onto_herelles.Pixel])', '(is_in zone_2 is a [onto_herelles.ZoneEA])']
Distance = 21

824
Assertions: ['(destine tu_continu is a [onto_herelles.TU_continu])', '(has_pixels Px_1 is a [onto_herelles.Pixel])', '(is_in zone_1 is a [onto_herelles.ZoneArticle1])']
Distance = 21

825
Assertions: ['(destine tu_discontinu is a [onto_herelles.TU_discontinu])', '(has_pixels Px_1 is a [onto_herelles.Pixel])', '(is_in zone_1 is a [onto_herelles.ZoneArticle1])']
Distance = 21

826
Assertions: ['(destine bati is a [onto_herelles.Bati])', '(is_in zone_1 is a [onto_herelles.ZoneArticle1])']
Distance = 21

827
Assertions: ['(destine bâtiment_rural is a [onto_herelles.Bâtiment_rural])', '(is_in zone_1 is a [onto_herelles.ZoneArticle1])']
Distance = 21

828
Assertions: ['(destine serre is a [onto_herelles.Serre])', '(is_in zone_1 is a [onto_herelles.ZoneArticle1])']
Distance = 21

829
Assertions: ['(has_state bâtiment_rural is a [onto_herelles.Bâtiment_rural])', '(is_in zone_1 is a [onto_herelles.ZoneArticle1])']
Distance = 21

830
Assertions: ['(has_state serre is a [onto_herelles.Serre])', '(is_in zone_1 is a [onto_herelles.ZoneArticle1])']
Distance = 21

831
Assertions: ['(has_state bâtiment_rural is a [onto_herelles.Bâtiment_rural])', '(is_in zone_2 is a [onto_herelles.ZoneEA])']
Distance = 21

832
Assertions: ['(has_state serre is a [onto_herelles.Serre])', '(is_in zone_2 is a [onto_herelles.ZoneEA])']
Distance = 21

833
Assertions: ['(destine bati_industrielle is a [onto_herelles.Zone_industrielle_commerciale_ou_tertiaire])', '(is_in zone_z2 is a [onto_herelles.Zone_Z2])']
Distance = 21

834
Assertions: ['(destine bati_industrielle is a [onto_herelles.Zone_industrielle_commerciale_ou_tertiaire])', '(is_in zoneeau is a [onto_herelles.ZoneEau])']
Distance = 21

835
Assertions: ['(destine bâtiment_rural is a [onto_herelles.Bâtiment_rural])', '(is_in zone is a [onto_herelles.Zone])', '(is_in zone_1 is a [onto_herelles.ZoneArticle1])']
Distance = 21

836
Assertions: ['(destine serre is a [onto_herelles.Serre])', '(is_in zone is a [onto_herelles.Zone])', '(is_in zone_1 is a [onto_herelles.ZoneArticle1])']
Distance = 21

837
Assertions: ['(has_pixels Px_2 is a [onto_herelles.Pixel])', '(is_in zone_1 is a [onto_herelles.ZoneArticle1])', '(is_in zone_2 is a [onto_herelles.ZoneEA])']
Distance = 22

838
Assertions: ['(has_pixels Px_1 is a [onto_herelles.Pixel])', '(is_in zone_1 is a [onto_herelles.ZoneArticle1])', '(is_in zone_2 is a [onto_herelles.ZoneEA])']
Distance = 22

839
Assertions: ['(destine haie is a [onto_herelles.Haie])', '(has_pixels Px_1 is a [onto_herelles.Pixel])', '(has_pixels Px_2 is a [onto_herelles.Pixel])', '(is_in zone_2 is a [onto_herelles.ZoneEA])']
Distance = 22

840
Assertions: ['(destine vigne is a [onto_herelles.Vigne])', '(has_pixels Px_1 is a [onto_herelles.Pixel])', '(has_pixels Px_2 is a [onto_herelles.Pixel])', '(is_in zone_2 is a [onto_herelles.ZoneEA])']
Distance = 22

841
Assertions: ['(destine surface_herbeuse_agricole is a [onto_herelles.Surface_herbeuse_agricole])', '(has_pixels Px_1 is a [onto_herelles.Pixel])', '(has_pixels Px_2 is a [onto_herelles.Pixel])', '(is_in zone_2 is a [onto_herelles.ZoneEA])']
Distance = 22

842
Assertions: ['(destine autres_cultures is a [onto_herelles.Autres_cultures])', '(has_pixels Px_1 is a [onto_herelles.Pixel])', '(has_pixels Px_2 is a [onto_herelles.Pixel])', '(is_in zone_2 is a [onto_herelles.ZoneEA])']
Distance = 22

843
Assertions: ['(destine verger is a [onto_herelles.Verger])', '(has_pixels Px_1 is a [onto_herelles.Pixel])', '(has_pixels Px_2 is a [onto_herelles.Pixel])', '(is_in zone_2 is a [onto_herelles.ZoneEA])']
Distance = 22

844
Assertions: ['(destine groupe_darbres_agricole_sylviculture is a [onto_herelles.Groupe_darbres_agricole_sylviculture])', '(has_pixels Px_1 is a [onto_herelles.Pixel])', '(has_pixels Px_2 is a [onto_herelles.Pixel])', '(is_in zone_2 is a [onto_herelles.ZoneEA])']
Distance = 22

845
Assertions: ['(destine alignement_darbres_agricole is a [onto_herelles.Alignement_darbres_agricole])', '(has_pixels Px_1 is a [onto_herelles.Pixel])', '(has_pixels Px_2 is a [onto_herelles.Pixel])', '(is_in zone_2 is a [onto_herelles.ZoneEA])']
Distance = 22

846
Assertions: ['(destine haie is a [onto_herelles.Haie])', '(is_in zone_1 is a [onto_herelles.ZoneArticle1])', '(is_in zone_2 is a [onto_herelles.ZoneEA])']
Distance = 22

847
Assertions: ['(destine vigne is a [onto_herelles.Vigne])', '(is_in zone_1 is a [onto_herelles.ZoneArticle1])', '(is_in zone_2 is a [onto_herelles.ZoneEA])']
Distance = 22

848
Assertions: ['(destine surface_herbeuse_agricole is a [onto_herelles.Surface_herbeuse_agricole])', '(is_in zone_1 is a [onto_herelles.ZoneArticle1])', '(is_in zone_2 is a [onto_herelles.ZoneEA])']
Distance = 22

849
Assertions: ['(destine autres_cultures is a [onto_herelles.Autres_cultures])', '(is_in zone_1 is a [onto_herelles.ZoneArticle1])', '(is_in zone_2 is a [onto_herelles.ZoneEA])']
Distance = 22

850
Assertions: ['(destine verger is a [onto_herelles.Verger])', '(is_in zone_1 is a [onto_herelles.ZoneArticle1])', '(is_in zone_2 is a [onto_herelles.ZoneEA])']
Distance = 22

851
Assertions: ['(destine groupe_darbres_agricole_sylviculture is a [onto_herelles.Groupe_darbres_agricole_sylviculture])', '(is_in zone_1 is a [onto_herelles.ZoneArticle1])', '(is_in zone_2 is a [onto_herelles.ZoneEA])']
Distance = 22

852
Assertions: ['(destine alignement_darbres_agricole is a [onto_herelles.Alignement_darbres_agricole])', '(is_in zone_1 is a [onto_herelles.ZoneArticle1])', '(is_in zone_2 is a [onto_herelles.ZoneEA])']
Distance = 22

853
Assertions: ['(destine EA_1 is a [onto_herelles.Espaces_agricoles])', '(has_pixels Px_2 is a [onto_herelles.Pixel])', '(is_in zone_2 is a [onto_herelles.ZoneEA])']
Distance = 22

854
Assertions: ['(destine tu_continu_individuel is a [onto_herelles.TU_continu_individuel])', '(has_pixels Px_2 is a [onto_herelles.Pixel])', '(is_in zone_1 is a [onto_herelles.ZoneArticle1])']
Distance = 22

855
Assertions: ['(destine tu_continu_collectif is a [onto_herelles.TU_continu_collectif])', '(has_pixels Px_2 is a [onto_herelles.Pixel])', '(is_in zone_1 is a [onto_herelles.ZoneArticle1])']
Distance = 22

856
Assertions: ['(destine tu_discontinu_collectif is a [onto_herelles.TU_discontinu_collectif])', '(has_pixels Px_2 is a [onto_herelles.Pixel])', '(is_in zone_1 is a [onto_herelles.ZoneArticle1])']
Distance = 22

857
Assertions: ['(destine tu_discontinu_individuel is a [onto_herelles.TU_discontinu_individuel])', '(has_pixels Px_2 is a [onto_herelles.Pixel])', '(is_in zone_1 is a [onto_herelles.ZoneArticle1])']
Distance = 22

858
Assertions: ['(destine EA_1 is a [onto_herelles.Espaces_agricoles])', '(has_pixels Px_1 is a [onto_herelles.Pixel])', '(is_in zone_2 is a [onto_herelles.ZoneEA])']
Distance = 22

859
Assertions: ['(destine tu_continu_individuel is a [onto_herelles.TU_continu_individuel])', '(has_pixels Px_1 is a [onto_herelles.Pixel])', '(is_in zone_1 is a [onto_herelles.ZoneArticle1])']
Distance = 22

860
Assertions: ['(destine tu_continu_collectif is a [onto_herelles.TU_continu_collectif])', '(has_pixels Px_1 is a [onto_herelles.Pixel])', '(is_in zone_1 is a [onto_herelles.ZoneArticle1])']
Distance = 22

861
Assertions: ['(destine tu_discontinu_collectif is a [onto_herelles.TU_discontinu_collectif])', '(has_pixels Px_1 is a [onto_herelles.Pixel])', '(is_in zone_1 is a [onto_herelles.ZoneArticle1])']
Distance = 22

862
Assertions: ['(destine tu_discontinu_individuel is a [onto_herelles.TU_discontinu_individuel])', '(has_pixels Px_1 is a [onto_herelles.Pixel])', '(is_in zone_1 is a [onto_herelles.ZoneArticle1])']
Distance = 22

863
Assertions: ['(destine bati_industrielle is a [onto_herelles.Zone_industrielle_commerciale_ou_tertiaire])']
Distance = 22

864
Assertions: ['(destine bati_residentiel is a [onto_herelles.Bati_residentiel])', '(is_in zone_1 is a [onto_herelles.ZoneArticle1])']
Distance = 22

865
Assertions: ['(destine autre_bati is a [onto_herelles.Autre_Bati])', '(is_in zone_1 is a [onto_herelles.ZoneArticle1])']
Distance = 22

866
Assertions: ['(has_pixels Px_1 is a [onto_herelles.Pixel])', '(has_pixels Px_2 is a [onto_herelles.Pixel])', '(is_in zone_1 is a [onto_herelles.ZoneArticle1])', '(is_in zone_1 is a [onto_herelles.ZoneArticle1])']
Distance = 23

867
Assertions: ['(has_pixels Px_1 is a [onto_herelles.Pixel])', '(has_pixels Px_2 is a [onto_herelles.Pixel])', '(is_in zone_1 is a [onto_herelles.ZoneArticle1])', '(is_in zone_z2 is a [onto_herelles.Zone_Z2])']
Distance = 23

868
Assertions: ['(has_pixels Px_1 is a [onto_herelles.Pixel])', '(has_pixels Px_2 is a [onto_herelles.Pixel])', '(is_in zone_1 is a [onto_herelles.ZoneArticle1])', '(is_in zoneeau is a [onto_herelles.ZoneEau])']
Distance = 23

869
Assertions: ['(destine autre_vegetation_agricole is a [onto_herelles.Autre_vegetation_agricole])', '(has_pixels Px_2 is a [onto_herelles.Pixel])', '(is_in zone_2 is a [onto_herelles.ZoneEA])']
Distance = 23

870
Assertions: ['(destine parcelle_agricole is a [onto_herelles.Parcelle_agricole])', '(has_pixels Px_2 is a [onto_herelles.Pixel])', '(is_in zone_2 is a [onto_herelles.ZoneEA])']
Distance = 23

871
Assertions: ['(destine element_boise_agricole is a [onto_herelles.Element_boise_agricole])', '(has_pixels Px_2 is a [onto_herelles.Pixel])', '(is_in zone_2 is a [onto_herelles.ZoneEA])']
Distance = 23

872
Assertions: ['(destine autre_vegetation_agricole is a [onto_herelles.Autre_vegetation_agricole])', '(has_pixels Px_1 is a [onto_herelles.Pixel])', '(is_in zone_2 is a [onto_herelles.ZoneEA])']
Distance = 23

873
Assertions: ['(destine parcelle_agricole is a [onto_herelles.Parcelle_agricole])', '(has_pixels Px_1 is a [onto_herelles.Pixel])', '(is_in zone_2 is a [onto_herelles.ZoneEA])']
Distance = 23

874
Assertions: ['(destine element_boise_agricole is a [onto_herelles.Element_boise_agricole])', '(has_pixels Px_1 is a [onto_herelles.Pixel])', '(is_in zone_2 is a [onto_herelles.ZoneEA])']
Distance = 23

875
Assertions: ['(destine state_geo is a [onto_herelles.State_Geo])', '(is_in zone_2 is a [onto_herelles.ZoneEA])']
Distance = 23

876
Assertions: ['(destine tu_continu is a [onto_herelles.TU_continu])', '(is_in zone_1 is a [onto_herelles.ZoneArticle1])']
Distance = 23

877
Assertions: ['(destine tu_discontinu is a [onto_herelles.TU_discontinu])', '(is_in zone_1 is a [onto_herelles.ZoneArticle1])']
Distance = 23

878
Assertions: ['(has_pixels Px_1 is a [onto_herelles.Pixel])', '(has_pixels Px_2 is a [onto_herelles.Pixel])', '(is_in zone_2 is a [onto_herelles.ZoneEA])']
Distance = 24

879
Assertions: ['(has_pixels Px_1 is a [onto_herelles.Pixel])', '(has_pixels Px_2 is a [onto_herelles.Pixel])', '(is_in zone_1 is a [onto_herelles.ZoneArticle1])']
Distance = 24

880
Assertions: ['(is_in zone_1 is a [onto_herelles.ZoneArticle1])', '(is_in zone_2 is a [onto_herelles.ZoneEA])']
Distance = 24

881
Assertions: ['(has_pixels Px_1 is a [onto_herelles.Pixel])', '(has_pixels Px_2 is a [onto_herelles.Pixel])', '(is_in zone is a [onto_herelles.Zone])', '(is_in zone_1 is a [onto_herelles.ZoneArticle1])']
Distance = 24

882
Assertions: ['(destine haie is a [onto_herelles.Haie])', '(has_pixels Px_2 is a [onto_herelles.Pixel])', '(is_in zone_2 is a [onto_herelles.ZoneEA])']
Distance = 24

883
Assertions: ['(destine vigne is a [onto_herelles.Vigne])', '(has_pixels Px_2 is a [onto_herelles.Pixel])', '(is_in zone_2 is a [onto_herelles.ZoneEA])']
Distance = 24

884
Assertions: ['(destine surface_herbeuse_agricole is a [onto_herelles.Surface_herbeuse_agricole])', '(has_pixels Px_2 is a [onto_herelles.Pixel])', '(is_in zone_2 is a [onto_herelles.ZoneEA])']
Distance = 24

885
Assertions: ['(destine autres_cultures is a [onto_herelles.Autres_cultures])', '(has_pixels Px_2 is a [onto_herelles.Pixel])', '(is_in zone_2 is a [onto_herelles.ZoneEA])']
Distance = 24

886
Assertions: ['(destine verger is a [onto_herelles.Verger])', '(has_pixels Px_2 is a [onto_herelles.Pixel])', '(is_in zone_2 is a [onto_herelles.ZoneEA])']
Distance = 24

887
Assertions: ['(destine groupe_darbres_agricole_sylviculture is a [onto_herelles.Groupe_darbres_agricole_sylviculture])', '(has_pixels Px_2 is a [onto_herelles.Pixel])', '(is_in zone_2 is a [onto_herelles.ZoneEA])']
Distance = 24

888
Assertions: ['(destine alignement_darbres_agricole is a [onto_herelles.Alignement_darbres_agricole])', '(has_pixels Px_2 is a [onto_herelles.Pixel])', '(is_in zone_2 is a [onto_herelles.ZoneEA])']
Distance = 24

889
Assertions: ['(destine haie is a [onto_herelles.Haie])', '(has_pixels Px_1 is a [onto_herelles.Pixel])', '(is_in zone_2 is a [onto_herelles.ZoneEA])']
Distance = 24

890
Assertions: ['(destine vigne is a [onto_herelles.Vigne])', '(has_pixels Px_1 is a [onto_herelles.Pixel])', '(is_in zone_2 is a [onto_herelles.ZoneEA])']
Distance = 24

891
Assertions: ['(destine surface_herbeuse_agricole is a [onto_herelles.Surface_herbeuse_agricole])', '(has_pixels Px_1 is a [onto_herelles.Pixel])', '(is_in zone_2 is a [onto_herelles.ZoneEA])']
Distance = 24

892
Assertions: ['(destine autres_cultures is a [onto_herelles.Autres_cultures])', '(has_pixels Px_1 is a [onto_herelles.Pixel])', '(is_in zone_2 is a [onto_herelles.ZoneEA])']
Distance = 24

893
Assertions: ['(destine verger is a [onto_herelles.Verger])', '(has_pixels Px_1 is a [onto_herelles.Pixel])', '(is_in zone_2 is a [onto_herelles.ZoneEA])']
Distance = 24

894
Assertions: ['(destine groupe_darbres_agricole_sylviculture is a [onto_herelles.Groupe_darbres_agricole_sylviculture])', '(has_pixels Px_1 is a [onto_herelles.Pixel])', '(is_in zone_2 is a [onto_herelles.ZoneEA])']
Distance = 24

895
Assertions: ['(destine alignement_darbres_agricole is a [onto_herelles.Alignement_darbres_agricole])', '(has_pixels Px_1 is a [onto_herelles.Pixel])', '(is_in zone_2 is a [onto_herelles.ZoneEA])']
Distance = 24

896
Assertions: ['(destine EA_1 is a [onto_herelles.Espaces_agricoles])', '(is_in zone_2 is a [onto_herelles.ZoneEA])']
Distance = 24

897
Assertions: ['(destine tu_continu_individuel is a [onto_herelles.TU_continu_individuel])', '(is_in zone_1 is a [onto_herelles.ZoneArticle1])']
Distance = 24

898
Assertions: ['(destine tu_continu_collectif is a [onto_herelles.TU_continu_collectif])', '(is_in zone_1 is a [onto_herelles.ZoneArticle1])']
Distance = 24

899
Assertions: ['(destine tu_discontinu_collectif is a [onto_herelles.TU_discontinu_collectif])', '(is_in zone_1 is a [onto_herelles.ZoneArticle1])']
Distance = 24

900
Assertions: ['(destine tu_discontinu_individuel is a [onto_herelles.TU_discontinu_individuel])', '(is_in zone_1 is a [onto_herelles.ZoneArticle1])']
Distance = 24

901
Assertions: ['(has_pixels Px_2 is a [onto_herelles.Pixel])', '(is_in zone_1 is a [onto_herelles.ZoneArticle1])', '(is_in zone_1 is a [onto_herelles.ZoneArticle1])']
Distance = 25

902
Assertions: ['(has_pixels Px_2 is a [onto_herelles.Pixel])', '(is_in zone_1 is a [onto_herelles.ZoneArticle1])', '(is_in zone_z2 is a [onto_herelles.Zone_Z2])']
Distance = 25

903
Assertions: ['(has_pixels Px_2 is a [onto_herelles.Pixel])', '(is_in zone_1 is a [onto_herelles.ZoneArticle1])', '(is_in zoneeau is a [onto_herelles.ZoneEau])']
Distance = 25

904
Assertions: ['(has_pixels Px_1 is a [onto_herelles.Pixel])', '(is_in zone_1 is a [onto_herelles.ZoneArticle1])', '(is_in zone_1 is a [onto_herelles.ZoneArticle1])']
Distance = 25

905
Assertions: ['(has_pixels Px_1 is a [onto_herelles.Pixel])', '(is_in zone_1 is a [onto_herelles.ZoneArticle1])', '(is_in zone_z2 is a [onto_herelles.Zone_Z2])']
Distance = 25

906
Assertions: ['(has_pixels Px_1 is a [onto_herelles.Pixel])', '(is_in zone_1 is a [onto_herelles.ZoneArticle1])', '(is_in zoneeau is a [onto_herelles.ZoneEau])']
Distance = 25

907
Assertions: ['(destine autre_vegetation_agricole is a [onto_herelles.Autre_vegetation_agricole])', '(is_in zone_2 is a [onto_herelles.ZoneEA])']
Distance = 25

908
Assertions: ['(destine parcelle_agricole is a [onto_herelles.Parcelle_agricole])', '(is_in zone_2 is a [onto_herelles.ZoneEA])']
Distance = 25

909
Assertions: ['(destine element_boise_agricole is a [onto_herelles.Element_boise_agricole])', '(is_in zone_2 is a [onto_herelles.ZoneEA])']
Distance = 25

910
Assertions: ['(has_pixels Px_2 is a [onto_herelles.Pixel])', '(is_in zone_2 is a [onto_herelles.ZoneEA])']
Distance = 26

911
Assertions: ['(has_pixels Px_2 is a [onto_herelles.Pixel])', '(is_in zone_1 is a [onto_herelles.ZoneArticle1])']
Distance = 26

912
Assertions: ['(has_pixels Px_1 is a [onto_herelles.Pixel])', '(is_in zone_2 is a [onto_herelles.ZoneEA])']
Distance = 26

913
Assertions: ['(has_pixels Px_1 is a [onto_herelles.Pixel])', '(is_in zone_1 is a [onto_herelles.ZoneArticle1])']
Distance = 26

914
Assertions: ['(has_pixels Px_1 is a [onto_herelles.Pixel])', '(is_in zone is a [onto_herelles.Zone])', '(is_in zone_1 is a [onto_herelles.ZoneArticle1])']
Distance = 26

915
Assertions: ['(has_pixels Px_2 is a [onto_herelles.Pixel])', '(is_in zone is a [onto_herelles.Zone])', '(is_in zone_1 is a [onto_herelles.ZoneArticle1])']
Distance = 26

916
Assertions: ['(destine haie is a [onto_herelles.Haie])', '(is_in zone_2 is a [onto_herelles.ZoneEA])']
Distance = 26

917
Assertions: ['(destine vigne is a [onto_herelles.Vigne])', '(is_in zone_2 is a [onto_herelles.ZoneEA])']
Distance = 26

918
Assertions: ['(destine surface_herbeuse_agricole is a [onto_herelles.Surface_herbeuse_agricole])', '(is_in zone_2 is a [onto_herelles.ZoneEA])']
Distance = 26

919
Assertions: ['(destine autres_cultures is a [onto_herelles.Autres_cultures])', '(is_in zone_2 is a [onto_herelles.ZoneEA])']
Distance = 26

920
Assertions: ['(destine verger is a [onto_herelles.Verger])', '(is_in zone_2 is a [onto_herelles.ZoneEA])']
Distance = 26

921
Assertions: ['(destine groupe_darbres_agricole_sylviculture is a [onto_herelles.Groupe_darbres_agricole_sylviculture])', '(is_in zone_2 is a [onto_herelles.ZoneEA])']
Distance = 26

922
Assertions: ['(destine alignement_darbres_agricole is a [onto_herelles.Alignement_darbres_agricole])', '(is_in zone_2 is a [onto_herelles.ZoneEA])']
Distance = 26

923
Assertions: ['(is_in zone_1 is a [onto_herelles.ZoneArticle1])', '(is_in zone_1 is a [onto_herelles.ZoneArticle1])']
Distance = 27

924
Assertions: ['(is_in zone_1 is a [onto_herelles.ZoneArticle1])', '(is_in zone_z2 is a [onto_herelles.Zone_Z2])']
Distance = 27

925
Assertions: ['(is_in zone_1 is a [onto_herelles.ZoneArticle1])', '(is_in zoneeau is a [onto_herelles.ZoneEau])']
Distance = 27

926
Assertions: ['(is_in zone_2 is a [onto_herelles.ZoneEA])']
Distance = 28

927
Assertions: ['(is_in zone_1 is a [onto_herelles.ZoneArticle1])']
Distance = 28

928
Assertions: ['(is_in zone is a [onto_herelles.Zone])', '(is_in zone_1 is a [onto_herelles.ZoneArticle1])']
Distance = 28

